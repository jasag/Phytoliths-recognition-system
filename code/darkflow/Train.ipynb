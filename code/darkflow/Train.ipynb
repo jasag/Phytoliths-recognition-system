{
 "cells": [
  {
   "cell_type": "markdown",
   "metadata": {},
   "source": [
    "# Train"
   ]
  },
  {
   "cell_type": "code",
   "execution_count": 2,
   "metadata": {
    "collapsed": true
   },
   "outputs": [],
   "source": [
    "%matplotlib inline"
   ]
  },
  {
   "cell_type": "code",
   "execution_count": 3,
   "metadata": {
    "collapsed": true
   },
   "outputs": [],
   "source": [
    "from darkflow.net.build import TFNet\n",
    "import cv2"
   ]
  },
  {
   "cell_type": "code",
   "execution_count": 4,
   "metadata": {
    "collapsed": true
   },
   "outputs": [],
   "source": [
    "import matplotlib.pyplot as plt\n",
    "import matplotlib.image as mpimg\n",
    "import numpy as np"
   ]
  },
  {
   "cell_type": "markdown",
   "metadata": {},
   "source": [
    "## Cargamos YOLO"
   ]
  },
  {
   "cell_type": "code",
   "execution_count": 8,
   "metadata": {},
   "outputs": [
    {
     "name": "stdout",
     "output_type": "stream",
     "text": [
      "Parsing ./cfg/tiny-yolo-voc.cfg\n",
      "Parsing yolo-new.cfg\n",
      "Loading tiny-yolo-voc.weights ...\n",
      "Successfully identified 63471556 bytes\n",
      "Finished in 0.025067567825317383s\n",
      "\n",
      "Building net ...\n",
      "Source | Train? | Layer description                | Output size\n",
      "-------+--------+----------------------------------+---------------\n",
      "       |        | input                            | (?, 416, 416, 3)\n",
      " Load  |  Yep!  | conv 3x3p1_1  +bnorm  leaky      | (?, 416, 416, 16)\n",
      " Load  |  Yep!  | maxp 2x2p0_2                     | (?, 208, 208, 16)\n",
      " Load  |  Yep!  | conv 3x3p1_1  +bnorm  leaky      | (?, 208, 208, 32)\n",
      " Load  |  Yep!  | maxp 2x2p0_2                     | (?, 104, 104, 32)\n",
      " Load  |  Yep!  | conv 3x3p1_1  +bnorm  leaky      | (?, 104, 104, 64)\n",
      " Load  |  Yep!  | maxp 2x2p0_2                     | (?, 52, 52, 64)\n",
      " Load  |  Yep!  | conv 3x3p1_1  +bnorm  leaky      | (?, 52, 52, 128)\n",
      " Load  |  Yep!  | maxp 2x2p0_2                     | (?, 26, 26, 128)\n",
      " Load  |  Yep!  | conv 3x3p1_1  +bnorm  leaky      | (?, 26, 26, 256)\n",
      " Load  |  Yep!  | maxp 2x2p0_2                     | (?, 13, 13, 256)\n",
      " Load  |  Yep!  | conv 3x3p1_1  +bnorm  leaky      | (?, 13, 13, 512)\n",
      " Load  |  Yep!  | maxp 2x2p0_1                     | (?, 13, 13, 512)\n",
      " Load  |  Yep!  | conv 3x3p1_1  +bnorm  leaky      | (?, 13, 13, 1024)\n",
      " Load  |  Yep!  | conv 3x3p1_1  +bnorm  leaky      | (?, 13, 13, 1024)\n",
      " Load  |  Yep!  | conv 1x1p0_1    linear           | (?, 13, 13, 125)\n",
      "-------+--------+----------------------------------+---------------\n",
      "Running entirely on CPU\n",
      "yolo-new.cfg loss hyper-parameters:\n",
      "\tH       = 13\n",
      "\tW       = 13\n",
      "\tbox     = 5\n",
      "\tclasses = 20\n",
      "\tscales  = [1.0, 5.0, 1.0, 1.0]\n",
      "Building yolo-new.cfg loss\n",
      "INFO:tensorflow:Summary name yolo-new.cfg loss is illegal; using yolo-new.cfg_loss instead.\n",
      "Building yolo-new.cfg train op\n",
      "Finished in 2.911780595779419s\n",
      "\n"
     ]
    }
   ],
   "source": [
    "options = {\"test\": \"./test/\",\n",
    "           \"binary\": \"./bin/\",\n",
    "           \"config\": \"./cfg/\",\n",
    "           \"dataset\": \"../../pascal/VOCdevkit/reduced_VOC2007/JPEGImages/\",\n",
    "           \"backup\": \"./ckpt/\",\n",
    "           \"summary\": \"./summary/\",\n",
    "           \"annotation\": \"../../pascal/VOCdevkit/reduced_VOC2007/Annotations/\",\n",
    "           \"threshold\": 0.1,\n",
    "           \"model\": \"yolo-new.cfg\",\n",
    "           \"trainer\": \"rmsprop\",\n",
    "           \"momentum\": 0.0,\n",
    "           \"verbalise\": True,\n",
    "           \"train\": True,\n",
    "           \"load\": \"tiny-yolo-voc.weights\",\n",
    "           \"savepb\": True,\n",
    "           \"gpu\": 0.0,\n",
    "           \"lr\": 1e-5,\n",
    "           \"keep\":20,\n",
    "           \"batch\": 16,\n",
    "           \"epoch\": 10,\n",
    "           \"save\": 2000}\n",
    "\n",
    "tfnet = TFNet(options)"
   ]
  },
  {
   "cell_type": "code",
   "execution_count": 33,
   "metadata": {},
   "outputs": [
    {
     "data": {
      "text/plain": [
       "'options = {\"test\": \"./test/\",\\n           \"binary\": \"./bin/\",\\n           \"config\": \"./cfg/\",\\n           \"dataset\": \"./json_examples/\",\\n           \"backup\": \"./ckpt/\",\\n           \"summary\": \"./summary/\",\\n           \"annotation\": \"./json_examples/\",\\n           \"threshold\": 0.1,\\n           \"model\": \"cfg/yolo-new.cfg\",\\n           \"trainer\": \"rmsprop\",\\n           \"momentum\": 0.0,\\n           \"verbalise\": True,\\n           \"train\": True,\\n           \"load\": \"bin/tiny-yolo-voc.weights\",\\n           \"savepb\": True,\\n           \"gpu\": 0.0,\\n           \"lr\": 1e-5,\\n           \"keep\":20,\\n           \"batch\": 16,\\n           \"epoch\": 10,\\n           \"save\": 2000}\\n\\ntfnet = TFNet(options)'"
      ]
     },
     "execution_count": 33,
     "metadata": {},
     "output_type": "execute_result"
    }
   ],
   "source": [
    "'''options = {\"test\": \"./test/\",\n",
    "           \"binary\": \"./bin/\",\n",
    "           \"config\": \"./cfg/\",\n",
    "           \"dataset\": \"./json_examples/\",\n",
    "           \"backup\": \"./ckpt/\",\n",
    "           \"summary\": \"./summary/\",\n",
    "           \"annotation\": \"./json_examples/\",\n",
    "           \"threshold\": 0.1,\n",
    "           \"model\": \"cfg/yolo-new.cfg\",\n",
    "           \"trainer\": \"rmsprop\",\n",
    "           \"momentum\": 0.0,\n",
    "           \"verbalise\": True,\n",
    "           \"train\": True,\n",
    "           \"load\": \"bin/tiny-yolo-voc.weights\",\n",
    "           \"savepb\": True,\n",
    "           \"gpu\": 0.0,\n",
    "           \"lr\": 1e-5,\n",
    "           \"keep\":20,\n",
    "           \"batch\": 16,\n",
    "           \"epoch\": 10,\n",
    "           \"save\": 2000}\n",
    "\n",
    "tfnet = TFNet(options)'''"
   ]
  },
  {
   "cell_type": "code",
   "execution_count": 14,
   "metadata": {
    "scrolled": true
   },
   "outputs": [
    {
     "name": "stdout",
     "output_type": "stream",
     "text": [
      "\n",
      "yolo-new.cfg parsing ../../pascal/VOCdevkit/reduced_VOC2007/Annotations/\n",
      "Parsing for ['aeroplane', 'bicycle', 'bird', 'boat', 'a', 'a', 'a', 'a', 'a', 'a', 'a', 'a', 'a', 'a', 'a', 'a', 'a', 'a', 'a', 'a'] \n",
      "[====================>]100%  000009.xml\n",
      "Statistics:\n",
      "Dataset size: 10\n",
      "Dataset of 10 instance(s)\n",
      "Training statistics: \n",
      "\tLearning rate : 1e-05\n",
      "\tBatch size    : 10\n",
      "\tEpoch number  : 10\n",
      "\tBackup every  : 2000\n",
      "step 1 - loss 1.1667933464050293 - moving ave loss 1.1667933464050293\n",
      "Finish 1 epoch(es)\n",
      "step 2 - loss 1.1644530296325684 - moving ave loss 1.1665593147277833\n",
      "Finish 2 epoch(es)\n",
      "step 3 - loss 1.0726277828216553 - moving ave loss 1.1571661615371707\n",
      "Finish 3 epoch(es)\n",
      "step 4 - loss 1.0057100057601929 - moving ave loss 1.1420205459594728\n",
      "Finish 4 epoch(es)\n",
      "step 5 - loss 1.0013556480407715 - moving ave loss 1.1279540561676027\n",
      "Finish 5 epoch(es)\n",
      "step 6 - loss 0.9466106295585632 - moving ave loss 1.109819713506699\n",
      "Finish 6 epoch(es)\n",
      "step 7 - loss 1.0435899496078491 - moving ave loss 1.1031967371168139\n",
      "Finish 7 epoch(es)\n",
      "step 8 - loss 1.008490800857544 - moving ave loss 1.093726143490887\n",
      "Finish 8 epoch(es)\n",
      "step 9 - loss 1.0534780025482178 - moving ave loss 1.08970132939662\n",
      "Finish 9 epoch(es)\n",
      "step 10 - loss 0.8760259747505188 - moving ave loss 1.06833379393201\n",
      "Finish 10 epoch(es)\n",
      "Checkpoint at step 10\n"
     ]
    }
   ],
   "source": [
    "tfnet.train()"
   ]
  },
  {
   "cell_type": "code",
   "execution_count": 12,
   "metadata": {},
   "outputs": [
    {
     "data": {
      "text/plain": [
       "<bound method to_darknet of <darkflow.net.build.TFNet object at 0x7f98bf6bdd68>>"
      ]
     },
     "execution_count": 12,
     "metadata": {},
     "output_type": "execute_result"
    }
   ],
   "source": []
  }
 ],
 "metadata": {
  "kernelspec": {
   "display_name": "Python 3",
   "language": "python",
   "name": "python3"
  },
  "language_info": {
   "codemirror_mode": {
    "name": "ipython",
    "version": 3
   },
   "file_extension": ".py",
   "mimetype": "text/x-python",
   "name": "python",
   "nbconvert_exporter": "python",
   "pygments_lexer": "ipython3",
   "version": "3.6.1"
  }
 },
 "nbformat": 4,
 "nbformat_minor": 2
}
