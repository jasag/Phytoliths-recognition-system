{
 "cells": [
  {
   "cell_type": "code",
   "execution_count": 25,
   "metadata": {},
   "outputs": [
    {
     "name": "stdout",
     "output_type": "stream",
     "text": [
      "in\n",
      "[====================>]100%  2017_5_3_18_53local_gradient_gimp.jsonDataset size: 9\n"
     ]
    }
   ],
   "source": [
    "\"\"\"\n",
    "parse JSON annotations\n",
    "\"\"\"\n",
    "\n",
    "import os\n",
    "import sys\n",
    "import glob\n",
    "from skimage import io\n",
    "import json\n",
    "\n",
    "print(\"in\")\n",
    "def _pp(l):  # pretty printing\n",
    "    for i in l: print('{}: {}'.format(i, l[i]))\n",
    "\n",
    "dumps = list()\n",
    "cur_dir = os.getcwd()\n",
    "os.chdir(cur_dir)\n",
    "annotations = os.listdir('.')\n",
    "annotations = glob.glob(str(annotations) + '*.json')\n",
    "size = len(annotations)\n",
    "\n",
    "for i, file in enumerate(annotations):\n",
    "    # progress bar\n",
    "    sys.stdout.write('\\r')\n",
    "    percentage = 1. * (i + 1) / size\n",
    "    progress = int(percentage * 20)\n",
    "    bar_arg = [progress * '=', ' ' * (19 - progress), percentage * 100]\n",
    "    bar_arg += [file]\n",
    "    sys.stdout.write('[{}>{}]{:.0f}%  {}'.format(*bar_arg))\n",
    "    sys.stdout.flush()\n",
    "\n",
    "    # actual parsing\n",
    "    with open(file) as jsonfile:\n",
    "        \n",
    "        image_name = file.split(\".\")[0] + \".jpg\"\n",
    "\n",
    "        image = io.imread(image_name)\n",
    "        \n",
    "        coords_dict = json.load(jsonfile)[image_name]\n",
    "        \n",
    "        h, w = image.shape[:2]\n",
    "\n",
    "        all = list()\n",
    "\n",
    "        # Adding coords\n",
    "        for k, _ in coords_dict.items():\n",
    "\n",
    "            for rect_y, rect_y2, rect_x, rect_x2 in coords_dict[k]:\n",
    "                current = [k, rect_x, rect_y, rect_x2, rect_y2]\n",
    "                all += [current]\n",
    "\n",
    "        add = [[jpg, [w, h, all]]]\n",
    "        dumps += add\n",
    "\n",
    "print('Dataset size: {}'.format(len(dumps)))\n",
    "os.chdir(cur_dir)"
   ]
  },
  {
   "cell_type": "code",
   "execution_count": 26,
   "metadata": {},
   "outputs": [
    {
     "name": "stdout",
     "output_type": "stream",
     "text": [
      "[['2017_5_3_18_55Image_505_.jpg', [2560, 1920, [['Rondel', 111, 493, 678, 1107], ['Saddle', 835, 566, 1406, 998]]]], ['2017_5_3_18_55Image_505_.jpg', [507, 382, [['Spherical', 163, 56, 212, 93], ['Spherical', 228, 112, 277, 122], ['Trichomas', 334, 45, 401, 120], ['Trichomas', 365, 252, 406, 298], ['Cyperaceae', 193, 152, 289, 242]]]], ['2017_5_3_18_55Image_505_.jpg', [640, 502, [['Bilobate', 204, 155, 307, 227], ['Bilobate', 445, 39, 534, 192]]]], ['2017_5_3_18_55Image_505_.jpg', [2560, 1920, [['Bilobate', 2042, 460, 2104, 581], ['Saddle', 733, 569, 1618, 1388], ['Cyperaceae', 1673, 796, 1969, 997]]]], ['2017_5_3_18_55Image_505_.jpg', [319, 248, [['Bilobate', 26, 39, 108, 85], ['Saddle', 188, 47, 236, 99]]]], ['2017_5_3_18_55Image_505_.jpg', [640, 480, [['Bulliform', 440, 109, 504, 164], ['Trichomas', 168, 285, 232, 336], ['Saddle', 23, 384, 88, 443], ['Bilobate', 346, 20, 422, 70], ['Rondel', 62, 68, 143, 129], ['Rondel', 430, 267, 482, 319], ['Spherical', 262, 162, 313, 197]]]], ['2017_5_3_18_55Image_505_.jpg', [320, 251, [['Rondel', 78, 60, 158, 106], ['Saddle', 184, 52, 226, 97], ['Cyperaceae', 152, 152, 187, 179]]]], ['2017_5_3_18_55Image_505_.jpg', [512, 382, [['Rondel', 213, 64, 282, 119], ['Trichomas', 310, 42, 369, 83], ['Cyperaceae', 82, 279, 149, 337], ['Saddle', 52, 49, 116, 104], ['Bilobate', 334, 202, 393, 265]]]], ['2017_5_3_18_55Image_505_.jpg', [511, 384, [['Bilobate', 332, 149, 385, 225], ['Spherical', 121, 70, 248, 158]]]]]\n"
     ]
    }
   ],
   "source": [
    "print(dumps)"
   ]
  }
 ],
 "metadata": {
  "kernelspec": {
   "display_name": "Python 3",
   "language": "python",
   "name": "python3"
  },
  "language_info": {
   "codemirror_mode": {
    "name": "ipython",
    "version": 3
   },
   "file_extension": ".py",
   "mimetype": "text/x-python",
   "name": "python",
   "nbconvert_exporter": "python",
   "pygments_lexer": "ipython3",
   "version": "3.6.1"
  }
 },
 "nbformat": 4,
 "nbformat_minor": 2
}
