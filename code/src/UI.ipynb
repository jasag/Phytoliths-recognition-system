{
 "cells": [
  {
   "cell_type": "code",
   "execution_count": 24,
   "metadata": {
    "collapsed": false
   },
   "outputs": [],
   "source": [
    "from __future__ import print_function\n",
    "from ipywidgets import interact, interactive, fixed, interact_manual\n",
    "import ipywidgets as widgets\n",
    "\n",
    "%matplotlib inline\n",
    "#Importamos nuestros módulos y clases necesarias\n",
    "import Image_Classifier as img_clf\n",
    "import Labeled_Image as li\n",
    "import classifiers as clfs\n",
    "\n",
    "from skimage import io\n",
    "from skimage.color import rgb2gray\n",
    "from skimage.transform import rescale"
   ]
  },
  {
   "cell_type": "code",
   "execution_count": 25,
   "metadata": {
    "collapsed": false
   },
   "outputs": [
    {
     "ename": "SyntaxError",
     "evalue": "invalid syntax (<ipython-input-25-d05baca345b9>, line 15)",
     "output_type": "error",
     "traceback": [
      "\u001b[0;36m  File \u001b[0;32m\"<ipython-input-25-d05baca345b9>\"\u001b[0;36m, line \u001b[0;32m15\u001b[0m\n\u001b[0;31m    def plotter_wrapper(probs):\u001b[0m\n\u001b[0m      ^\u001b[0m\n\u001b[0;31mSyntaxError\u001b[0m\u001b[0;31m:\u001b[0m invalid syntax\n"
     ]
    }
   ],
   "source": [
    "from IPython.display import display\n",
    "import fileupload\n",
    "import os\n",
    "import PIL.Image\n",
    "import io as io2\n",
    "import numpy as np\n",
    "\n",
    "\n",
    "'''Función mediante la que indicamos el clasificador\n",
    "con el que clasificaremos la imagen'''\n",
    "def set_classifier_wrapper(classifier_index):\n",
    "    clf.set_classifier(clfs.classifiers[classifier_index][0],\n",
    "\n",
    "'''Función que nos permite mostrar la imagen'''\n",
    "def plotter_wrapper(probs):\n",
    "    lbl_img.boxes_generator_with_nms(probs)\n",
    "    lbl_img.plotter()\n",
    "\n",
    "''' Función mediante la que escogemos la imagen'''\n",
    "def _upload(lbl_img):\n",
    "\n",
    "    _upload_widget = fileupload.FileUploadWidget()\n",
    "\n",
    "    def _cb(change):\n",
    "        ch = change['owner']\n",
    "        image = io2.BytesIO(ch.data)\n",
    "        image = PIL.Image.open(image)\n",
    "        image = np.array(image)\n",
    "        image = rgb2gray(image)\n",
    "        lbl_img.set_image(image)\n",
    "        \n",
    "    _upload_widget.observe(_cb, names='data')\n",
    "    display(_upload_widget)"
   ]
  },
  {
   "cell_type": "code",
   "execution_count": 26,
   "metadata": {
    "collapsed": false
   },
   "outputs": [
    {
     "data": {
      "text/plain": [
       "<function __main__.plotter_wrapper>"
      ]
     },
     "execution_count": 26,
     "metadata": {},
     "output_type": "execute_result"
    }
   ],
   "source": [
    "# Inicializamos la clase que se encarga de clasificar imagenes \n",
    "clf = img_clf.Image_Classifier(clfs.classifiers.get('svm'),62,47)\n",
    "lbl_img = li.Labeled_Image(clf)\n",
    "\n",
    "# Mostramos el widget que permita elegir el clasificador\n",
    "interact_manual(set_classifier_wrapper, classifier_index = list(clfs.classifiers.keys()));\n",
    "\n",
    "# Mostramos el widget que permita elegir la imagen a clasificar\n",
    "_upload(lbl_img)\n",
    "\n",
    "# Por ultimo, mostramos la imagen y permitimos que muestre las ventanas \n",
    "# en función de las probabilidades\n",
    "interact_manual(plotter_wrapper, probs=(0.5,1,0.001))"
   ]
  },
  {
   "cell_type": "code",
   "execution_count": null,
   "metadata": {
    "collapsed": true
   },
   "outputs": [],
   "source": []
  }
 ],
 "metadata": {
  "kernelspec": {
   "display_name": "Python 3",
   "language": "python",
   "name": "python3"
  },
  "language_info": {
   "codemirror_mode": {
    "name": "ipython",
    "version": 3
   },
   "file_extension": ".py",
   "mimetype": "text/x-python",
   "name": "python",
   "nbconvert_exporter": "python",
   "pygments_lexer": "ipython3",
   "version": "3.5.2"
  },
  "widgets": {
   "state": {
    "0abc9b4d0438416795c6157fadb5c4fd": {
     "views": [
      {
       "cell_index": 3
      }
     ]
    },
    "3a28859856da466497ce868296029313": {
     "views": [
      {
       "cell_index": 3
      }
     ]
    },
    "3d82c5eec51247db9d9e60ca882ca7d2": {
     "views": [
      {
       "cell_index": 2
      }
     ]
    },
    "522208ada7f04fd6b29efdfd2b834180": {
     "views": [
      {
       "cell_index": 3
      }
     ]
    },
    "5e28e58b454140db9bda1e5c98c395c5": {
     "views": [
      {
       "cell_index": 2
      }
     ]
    },
    "6101cacc88734fd088c2321a90b22adf": {
     "views": [
      {
       "cell_index": 3
      }
     ]
    },
    "7944841e1e9e4074af596f20e2e6521d": {
     "views": [
      {
       "cell_index": 3
      }
     ]
    },
    "8eeea07f5fc34f189bba0185a8b4c032": {
     "views": [
      {
       "cell_index": 3
      }
     ]
    },
    "9a7c8823d27b4e2ea139bbd8de6cbd0e": {
     "views": [
      {
       "cell_index": 2
      }
     ]
    },
    "b4e414ed63bd47dfab6f473b0b5ea7f5": {
     "views": [
      {
       "cell_index": 3
      }
     ]
    },
    "b51433c082e14dcebd6a22c8918fb42a": {
     "views": [
      {
       "cell_index": 3
      }
     ]
    },
    "e49bfb804ae34184856e1be62c076c06": {
     "views": [
      {
       "cell_index": 3
      }
     ]
    }
   },
   "version": "1.2.0"
  }
 },
 "nbformat": 4,
 "nbformat_minor": 0
}
