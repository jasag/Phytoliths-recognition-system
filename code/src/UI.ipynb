{
 "cells": [
  {
   "cell_type": "code",
   "execution_count": 1,
   "metadata": {
    "collapsed": true
   },
   "outputs": [],
   "source": [
    "from __future__ import print_function\n",
    "from ipywidgets import interact, interactive, fixed, interact_manual\n",
    "import ipywidgets as widgets\n",
    "\n",
    "%matplotlib inline\n",
    "#Importamos nuestros módulos y clases necesarias\n",
    "import Image_Classifier as img_clf\n",
    "import Labeled_Image as li\n",
    "import classifiers as clfs"
   ]
  },
  {
   "cell_type": "code",
   "execution_count": 2,
   "metadata": {
    "collapsed": false
   },
   "outputs": [],
   "source": [
    "from skimage import io\n",
    "from skimage.color import rgb2gray\n",
    "from skimage.transform import rescale\n",
    "\n",
    "img1 = io.imread(\"..\\\\rsc\\\\img\\\\my_face.jpg\")\n",
    "img2 = io.imread(\"..\\\\rsc\\\\img\\\\faces_test.jpg\")\n",
    "img3 = io.imread(\"..\\\\rsc\\\\img\\\\family.jpg\")\n",
    "img4 = io.imread(\"..\\\\rsc\\\\img\\\\rotated_family.jpg\")\n",
    "\n",
    "imgs = {'0': img1, '1': img2,'2': img3}\n",
    "rescale_list = {'0': 0.3, '1': 0.65, '2': 0.5, '3': 0.5}\n",
    "\n",
    "# Convertimos imagen a escala de grises\n",
    "for index in imgs:\n",
    "    imgs[index] = rgb2gray(imgs[index])\n",
    "    imgs[index] = rescale(imgs[index], rescale_list[index])\n",
    "\n",
    "# Rotamos la ultima imagen 90 grados\n",
    "img4 = rgb2gray(img4)\n",
    "img4 = rescale(img4, 0.5)\n",
    "imgs['3'] = img4"
   ]
  },
  {
   "cell_type": "code",
   "execution_count": 3,
   "metadata": {
    "collapsed": true
   },
   "outputs": [],
   "source": [
    "def set_classifier_wrapper(classifier):\n",
    "    clf.set_classifier(classifier, is_probs_classifier = False)\n",
    "\n",
    "def image_to_classify(lbl_img,image):\n",
    "    # Inicializamos la clase Wrapper para nuestra imagen, que contendra\n",
    "    # toda la información necesaria sobre esa imagen\n",
    "    image = imgs[image+'']\n",
    "    lbl_img.set_image(image)\n",
    "    \n",
    "def plotter_wrapper(probs):\n",
    "    lbl_img.boxes_generator_with_nms(probs)\n",
    "    lbl_img.plotter()"
   ]
  },
  {
   "cell_type": "code",
   "execution_count": 4,
   "metadata": {
    "collapsed": false
   },
   "outputs": [
    {
     "data": {
      "text/plain": [
       "<function __main__.plotter_wrapper>"
      ]
     },
     "execution_count": 4,
     "metadata": {},
     "output_type": "execute_result"
    }
   ],
   "source": [
    "# Inicializamos la clase que se encarga de clasificar imagenes \n",
    "clf = img_clf.Image_Classifier(clfs.classifiers.get('svm'),62,47)\n",
    "lbl_img = li.Labeled_Image(clf)\n",
    "\n",
    "# Mostramos el widget que permita elegir el clasificador\n",
    "interact_manual(set_classifier_wrapper, classifier = clfs.classifiers, lbl_img=fixed(lbl_img));\n",
    "\n",
    "# Mostramos el widget que permita elegir la imagen a clasificar\n",
    "interact_manual(image_to_classify, image = list(imgs.keys()), lbl_img=fixed(lbl_img));\n",
    "\n",
    "# Por ultimo, mostramos la imagen y permitimos que muestre las ventanas \n",
    "# en función de las probabilidades\n",
    "interact_manual(plotter_wrapper, probs=(0.5,1,0.05))"
   ]
  }
 ],
 "metadata": {
  "kernelspec": {
   "display_name": "Python 3",
   "language": "python",
   "name": "python3"
  },
  "language_info": {
   "codemirror_mode": {
    "name": "ipython",
    "version": 3
   },
   "file_extension": ".py",
   "mimetype": "text/x-python",
   "name": "python",
   "nbconvert_exporter": "python",
   "pygments_lexer": "ipython3",
   "version": "3.5.2"
  },
  "widgets": {
   "state": {
    "478f15a4d3134734838b2720b65f6c5d": {
     "views": [
      {
       "cell_index": 3
      }
     ]
    },
    "66b128bb49f5462e8ad99e349cf43847": {
     "views": [
      {
       "cell_index": 3
      }
     ]
    },
    "8e1a114f30344aeb854bb39f881bcc69": {
     "views": [
      {
       "cell_index": 3
      }
     ]
    }
   },
   "version": "1.2.0"
  }
 },
 "nbformat": 4,
 "nbformat_minor": 2
}
