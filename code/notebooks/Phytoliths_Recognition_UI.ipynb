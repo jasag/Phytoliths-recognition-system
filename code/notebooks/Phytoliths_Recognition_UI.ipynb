{
 "cells": [
  {
   "cell_type": "markdown",
   "metadata": {
    "extensions": {
     "jupyter_dashboards": {
      "version": 1,
      "views": {
       "grid_default": {
        "col": 0,
        "height": 4,
        "hidden": false,
        "row": 0,
        "width": 4
       },
       "report_default": {
        "hidden": false
       }
      }
     }
    }
   },
   "source": [
    "<div Style=\"text-align: center;line-height: 30px;font-size:32px;font-weight: bold\"> Detector de fitolitos</div>\n",
    "***"
   ]
  },
  {
   "cell_type": "code",
   "execution_count": 1,
   "metadata": {
    "collapsed": true,
    "extensions": {
     "jupyter_dashboards": {
      "version": 1,
      "views": {
       "grid_default": {
        "hidden": true
       },
       "report_default": {
        "hidden": true
       }
      }
     }
    }
   },
   "outputs": [],
   "source": [
    "%matplotlib inline\n",
    "from __future__ import print_function\n",
    "from ipywidgets import interact, interactive, fixed, interact_manual, HBox, VBox\n",
    "import ipywidgets as widgets\n",
    "\n",
    "import numpy as np\n",
    "\n",
    "from skimage import io as sio\n",
    "from skimage.transform import rescale\n",
    "\n",
    "import io as io\n",
    "import pickle\n",
    "\n",
    "import PIL.Image\n",
    "\n",
    "import matplotlib.pyplot as plt\n",
    "\n",
    "from IPython.display import display\n",
    "\n",
    "import fileupload\n",
    "import os\n",
    "\n",
    "from Phytoliths_Classifier.recognition import Phytoliths_Recognition"
   ]
  },
  {
   "cell_type": "code",
   "execution_count": 2,
   "metadata": {
    "collapsed": true,
    "extensions": {
     "jupyter_dashboards": {
      "version": 1,
      "views": {
       "grid_default": {
        "hidden": true
       },
       "report_default": {
        "hidden": true
       }
      }
     }
    }
   },
   "outputs": [],
   "source": [
    "path = '../rsc/obj/'\n",
    "cls_path = path + 'cls.sav'\n",
    "cluster_path = path + 'cluster.sav'\n",
    "\n",
    "recog = Phytoliths_Recognition(cls_path=cls_path,cluster_path=cluster_path)\n",
    "# Inicialización de probabilidades requeridas para las cajas\n",
    "required_probs_factor = 0.995\n",
    "overlap_factor = 0.3\n",
    "rescale_factor = 0.5\n",
    "image = None"
   ]
  },
  {
   "cell_type": "code",
   "execution_count": 3,
   "metadata": {
    "collapsed": true,
    "extensions": {
     "jupyter_dashboards": {
      "version": 1,
      "views": {
       "grid_default": {
        "hidden": true
       },
       "report_default": {
        "hidden": true
       }
      }
     }
    }
   },
   "outputs": [],
   "source": [
    "def imageConverter(change):\n",
    "    \"\"\"Función que se encarga de aplicar\n",
    "    las operaciones necesarias para convertir\n",
    "    los datos obtenidos del FileUpload en una\n",
    "    imagen.\"\"\"\n",
    "    \n",
    "    ch = change['owner']\n",
    "    image = io.BytesIO(ch.data)\n",
    "    image = np.array(PIL.Image.open(image))\n",
    "    return image"
   ]
  },
  {
   "cell_type": "code",
   "execution_count": 4,
   "metadata": {
    "collapsed": true,
    "extensions": {
     "jupyter_dashboards": {
      "version": 1,
      "views": {
       "grid_default": {
        "hidden": true
       },
       "report_default": {
        "hidden": true
       }
      }
     }
    }
   },
   "outputs": [],
   "source": [
    "def patch_size_selector(height, width):\n",
    "    \"\"\"Función mediante la que seleccionamos\n",
    "    el tamaño de la ventana.\"\"\"\n",
    "    recog.set_patch_size(height, width)"
   ]
  },
  {
   "cell_type": "code",
   "execution_count": 5,
   "metadata": {
    "collapsed": true,
    "extensions": {
     "jupyter_dashboards": {
      "version": 1,
      "views": {
       "grid_default": {
        "hidden": true
       },
       "report_default": {
        "hidden": true
       }
      }
     }
    }
   },
   "outputs": [],
   "source": [
    "def step_size_selector(step_size_h, step_size_v):\n",
    "    \"\"\"Función mediante la que seleccionamos\n",
    "    el tamaño del salto de una ventana a \n",
    "    otra.\"\"\"\n",
    "    recog.set_step_size(step_size_h, step_size_v)"
   ]
  },
  {
   "cell_type": "code",
   "execution_count": 6,
   "metadata": {
    "collapsed": true,
    "extensions": {
     "jupyter_dashboards": {
      "version": 1,
      "views": {
       "grid_default": {
        "hidden": true
       },
       "report_default": {
        "hidden": true
       }
      }
     }
    }
   },
   "outputs": [],
   "source": [
    "def probabilities_selector(probs):\n",
    "    \"\"\"Función mediante la que seleccionamos\n",
    "    las probabilidades de acierto que debe\n",
    "    tener una predicción para ser \n",
    "    seleccionada.\n",
    "    \"\"\"\n",
    "    required_probs_factor = probs"
   ]
  },
  {
   "cell_type": "code",
   "execution_count": 7,
   "metadata": {
    "collapsed": true,
    "extensions": {
     "jupyter_dashboards": {
      "version": 1,
      "views": {
       "grid_default": {
        "hidden": true
       },
       "report_default": {
        "hidden": true
       }
      }
     }
    }
   },
   "outputs": [],
   "source": [
    "def overlap_selector(overlap_factor):\n",
    "    \"\"\"Función mediante la que seleccionamos el\n",
    "    indice de solapamiento utilizado por\n",
    "    non-maximum supression\"\"\"\n",
    "    overlap_factor = overlap_factor"
   ]
  },
  {
   "cell_type": "code",
   "execution_count": 8,
   "metadata": {
    "collapsed": true,
    "extensions": {
     "jupyter_dashboards": {
      "version": 1,
      "views": {
       "grid_default": {
        "hidden": true
       },
       "report_default": {
        "hidden": true
       }
      }
     }
    }
   },
   "outputs": [],
   "source": [
    "def rescale_selector(rescale_factor):\n",
    "    \"\"\"Función mediante la que seleccionamos el\n",
    "    indice de solapamiento utilizado por\n",
    "    non-maximum supression\"\"\"\n",
    "    rescale_factor = rescale_factor"
   ]
  },
  {
   "cell_type": "code",
   "execution_count": 9,
   "metadata": {
    "collapsed": true,
    "extensions": {
     "jupyter_dashboards": {
      "version": 1,
      "views": {
       "grid_default": {
        "hidden": true
       },
       "report_default": {
        "hidden": true
       }
      }
     }
    }
   },
   "outputs": [],
   "source": [
    "def _upload():\n",
    "    \"\"\"Función mediante la que escogemos \n",
    "    la imagen.\n",
    "    \"\"\"\n",
    "    _upload_widget = fileupload.FileUploadWidget()\n",
    "\n",
    "    def _cb(change):\n",
    "        global image\n",
    "        # Obtenemos imagen\n",
    "        image = imageConverter(change)\n",
    "        \n",
    "    _upload_widget.observe(_cb, names='data')\n",
    "    display(_upload_widget)"
   ]
  },
  {
   "cell_type": "code",
   "execution_count": 10,
   "metadata": {
    "collapsed": true,
    "extensions": {
     "jupyter_dashboards": {
      "version": 1,
      "views": {
       "grid_default": {
        "hidden": true
       },
       "report_default": {
        "hidden": true
       }
      }
     }
    }
   },
   "outputs": [],
   "source": [
    "clf_button = widgets.Button(description=\"Reconocer\")\n",
    "\n",
    "def on_button_clicked(b):\n",
    "    global image\n",
    "    # Predecimos imagen\n",
    "    if image == None:\n",
    "        print(\"Seleccione una imagen, por favor.\", end=\"\\r\")\n",
    "        return\n",
    "    print(\"\", end=\"\\r\")\n",
    "    boxes = recog.predict_sliding_window_nms(image,\n",
    "                                             required_probs_factor,\n",
    "                                             rescale_factor,\n",
    "                                             overlap_factor)\n",
    "    # Mostramos imagen\n",
    "    rescaled_image = rescale(image, rescale_factor)\n",
    "    recog.plot(rescaled_image,boxes)\n",
    "\n",
    "clf_button.on_click(on_button_clicked)"
   ]
  },
  {
   "cell_type": "code",
   "execution_count": 17,
   "metadata": {
    "collapsed": true,
    "extensions": {
     "jupyter_dashboards": {
      "version": 1,
      "views": {
       "grid_default": {
        "hidden": true
       },
       "report_default": {
        "hidden": true
       }
      }
     }
    }
   },
   "outputs": [],
   "source": [
    "# Permitimos escoger el reescalado de la imagen, por defecto 0.5\n",
    "a = interactive(rescale_selector, \n",
    "         rescale_factor=widgets.FloatSlider(description='Reescalado', min=0.1, max=1, step=0.1, value=0.5))\n",
    "\n",
    "# Permitimos escoger el tamaño de alto y ancho para\n",
    "# las subdivisiones de la ventana\n",
    "b = interactive(patch_size_selector, \n",
    "         height=widgets.IntSlider(description='Altura de la ventana', min=50, max=400, step=10, value=150),\n",
    "         width=widgets.IntSlider(description='Ancho de la ventana', min=50, max=400, step=10, value=150))\n",
    "\n",
    "# Permitimos escoger el tamaño del salto\n",
    "# en las subdivisiones de la imagen\n",
    "c = interactive(step_size_selector, \n",
    "         step_size_h=widgets.IntSlider(description='Salto horizontal', min=5, max=200, step=10, value=40),\n",
    "         step_size_v=widgets.IntSlider(description='Salto vertical', min=5, max=200, step=10, value=40))\n",
    "\n",
    "d = interactive(overlap_selector, \n",
    "         overlap_factor=widgets.FloatSlider(description='Factor de solapamiento', min=0.1, max=1, step=0.1, value=0.3))\n",
    "\n",
    "# Por ultimo, mostramos la imagen y permitimos que muestre las ventanas \n",
    "# en función de las probabilidades\n",
    "e = interactive(probabilities_selector, probs=widgets.FloatSlider(description='Probabilidades fitolito', min=0.1, max=1, step=0.1, value=0.99))"
   ]
  },
  {
   "cell_type": "code",
   "execution_count": 18,
   "metadata": {
    "collapsed": true,
    "extensions": {
     "jupyter_dashboards": {
      "version": 1,
      "views": {
       "grid_default": {
        "col": 0,
        "height": 7,
        "hidden": false,
        "row": 4,
        "width": 10
       },
       "report_default": {
        "hidden": false
       }
      }
     }
    }
   },
   "outputs": [],
   "source": [
    "HBox(\n",
    "    (VBox((a,b)),VBox((c,d)),VBox((e,)))\n",
    ")"
   ]
  },
  {
   "cell_type": "code",
   "execution_count": 13,
   "metadata": {
    "extensions": {
     "jupyter_dashboards": {
      "version": 1,
      "views": {
       "grid_default": {
        "col": 8,
        "height": 4,
        "hidden": false,
        "row": 0,
        "width": 4
       },
       "report_default": {
        "hidden": false
       }
      }
     }
    }
   },
   "outputs": [],
   "source": [
    "_upload()\n",
    "clf_button"
   ]
  }
 ],
 "metadata": {
  "anaconda-cloud": {},
  "extensions": {
   "jupyter_dashboards": {
    "activeView": "report_default",
    "version": 1,
    "views": {
     "grid_default": {
      "cellMargin": 10,
      "defaultCellHeight": 20,
      "maxColumns": 12,
      "name": "grid",
      "type": "grid"
     },
     "report_default": {
      "name": "report",
      "type": "report"
     }
    }
   }
  },
  "kernelspec": {
   "display_name": "Python [conda root]",
   "language": "python",
   "name": "conda-root-py"
  },
  "language_info": {
   "codemirror_mode": {
    "name": "ipython",
    "version": 3
   },
   "file_extension": ".py",
   "mimetype": "text/x-python",
   "name": "python",
   "nbconvert_exporter": "python",
   "pygments_lexer": "ipython3",
   "version": "3.5.2"
  },
  "widgets": {
   "state": {
    "09249ff214e84e1f8a2ea6e477204586": {
     "views": [
      {
       "cell_index": 13
      }
     ]
    },
    "574023b0e36746448e6afeed024e27e9": {
     "views": [
      {
       "cell_index": 13
      }
     ]
    },
    "cabca44623264908b7b29c5afabc0e20": {
     "views": [
      {
       "cell_index": 12
      }
     ]
    }
   },
   "version": "1.2.0"
  }
 },
 "nbformat": 4,
 "nbformat_minor": 2
}
