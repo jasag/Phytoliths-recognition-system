{
 "cells": [
  {
   "cell_type": "markdown",
   "metadata": {},
   "source": [
    "<div Style=\"text-align: center;line-height: 30px;font-size:32px;font-weight: bold\"> Generador de recortes del fondo de la imagen</div>\n",
    "***"
   ]
  },
  {
   "cell_type": "markdown",
   "metadata": {},
   "source": [
    "Este notebook tiene como objetivo la obtención de recortes del fondo de las imágenes de fitolitos. La obtención de estos es fundamental para la utilización de técnicas de clasificación y/o reconocimiento de objetos mediante clasificadores junto a descriptores.\n",
    "\n",
    "Para ello:\n",
    "\n",
    "1. Leemos las imágenes junto a sus coordenadas almacenadas en un fichero *JSON*.\n",
    "2. Obtenemos recortes de la imágen siempre y cuando sea un area sin un fitolito."
   ]
  },
  {
   "cell_type": "code",
   "execution_count": 1,
   "metadata": {
    "collapsed": true
   },
   "outputs": [],
   "source": [
    "%matplotlib inline\n",
    "from __future__ import print_function\n",
    "from ipywidgets import interact_manual, fixed\n",
    "\n",
    "import matplotlib.pyplot as plt\n",
    "\n",
    "import os, os.path\n",
    "import re\n",
    "\n",
    "import numpy as np\n",
    "import math\n",
    "from math import ceil\n",
    "\n",
    "from sklearn.feature_extraction.image import PatchExtractor\n",
    "from skimage import io\n",
    "from skimage.transform import rescale\n",
    "\n",
    "import copy\n",
    "import json\n",
    "\n",
    "import warnings\n",
    "\n",
    "import random"
   ]
  },
  {
   "cell_type": "code",
   "execution_count": 2,
   "metadata": {
    "collapsed": true
   },
   "outputs": [],
   "source": [
    "def extract_patches(img, coords_list, patch_size, N=math.inf, scale=1.0, random_patch_size = True):\n",
    "    \"\"\"Extraemos los recortes de una imagen \n",
    "    dado un tamaño de recorte.\"\"\"\n",
    "    patches = []\n",
    "    count = 0\n",
    "    y_size, x_size = patch_size\n",
    "    h, w, _ = img.shape\n",
    "    for y in range(0, h, 400):\n",
    "        y2 = y+y_size\n",
    "        if(y2 > h):\n",
    "            break\n",
    "        for x in range(0, w, 400):\n",
    "            y2 = y+y_size\n",
    "            x2 = x+x_size\n",
    "            if(x2 > w):\n",
    "                break\n",
    "            else:\n",
    "                # Transformación aleatoria del patch_size\n",
    "                # para tener mayor variabilidad en los\n",
    "                # tamaños del recorte\n",
    "                if(random_patch_size == True):\n",
    "                    rand = random.random()\n",
    "                    if rand > 0.85:\n",
    "                        y2 = y + round(y_size*0.5)\n",
    "                    elif rand > 0.7:\n",
    "                        x2 = x + round(x_size*0.5)\n",
    "                    elif rand > 0.55:\n",
    "                        y2 = y + round(y_size*0.5)\n",
    "                        x2 = x + round(x_size*0.5)\n",
    "                \n",
    "                patches.append((img[y:y2,x:x2],(x,y,x2,y2)))\n",
    "                count += 1 \n",
    "                if(count > N):\n",
    "                    return patches\n",
    "    return patches"
   ]
  },
  {
   "cell_type": "code",
   "execution_count": 3,
   "metadata": {
    "collapsed": true
   },
   "outputs": [],
   "source": [
    "def is_containing_objects(patch_coords, coords):\n",
    "    \"\"\"\"\"\"\n",
    "    is_containing_corners = []\n",
    "    \n",
    "    height = coords[3] - coords[1]\n",
    "    width = coords[2] - coords[0]\n",
    "    \n",
    "    # TODO Refactorizar\n",
    "    is_containing_corners.append(patch_coords[0] <= coords[0] <= patch_coords[2]\\\n",
    "    and patch_coords[1] <= coords[1] <= patch_coords[3])\n",
    "\n",
    "    is_containing_corners.append(patch_coords[0] <= (coords[0] + width)\\\n",
    "    <= patch_coords[2] and patch_coords[1] <= coords[1] <= patch_coords[3])\n",
    "\n",
    "    is_containing_corners.append(patch_coords[0] <= coords[0] <= patch_coords[2]\\\n",
    "    and patch_coords[1] <= (coords[1] + height) <= patch_coords[3])\n",
    "\n",
    "    is_containing_corners.append(patch_coords[0] <= coords[2] <= patch_coords[2]\\\n",
    "    and patch_coords[1] <= coords[3] <= patch_coords[3])\n",
    "    \n",
    "    height = patch_coords[3] - patch_coords[1]\n",
    "    width = patch_coords[2] - patch_coords[0]\n",
    "\n",
    "    is_containing_corners.append(coords[0] <= patch_coords[0] <= coords[2]\\\n",
    "    and coords[1] <= patch_coords[1] <= coords[3])\n",
    "\n",
    "    is_containing_corners.append(coords[0] <= (patch_coords[0] + width)\\\n",
    "    <= coords[2] and coords[1] <= patch_coords[1] <= coords[3])\n",
    "\n",
    "    is_containing_corners.append(coords[0] <= patch_coords[0] <= coords[2]\\\n",
    "    and coords[1] <= (patch_coords[1] + height) <= coords[3])\n",
    "\n",
    "    is_containing_corners.append(coords[0] <= patch_coords[2] <= coords[2]\\\n",
    "    and coords[1] <= patch_coords[3] <= coords[3])\n",
    "    \n",
    "    return any(is_containing_corners)"
   ]
  },
  {
   "cell_type": "code",
   "execution_count": 4,
   "metadata": {
    "collapsed": true
   },
   "outputs": [],
   "source": [
    "def supress_contained_patches(patches, coords_list):\n",
    "    \"\"\"Función que recibe un conjunto de recortes\n",
    "    junto a sus coordenadas dentro de la imagen y \n",
    "    elimina todos los recortes que pertenezcan al \n",
    "    area en la que se encuentren fitolitos\"\"\"\n",
    "    cleaned_patches = []\n",
    "    \n",
    "    contained = False\n",
    "    count = 0\n",
    "    \n",
    "    for complete_patch in patches:\n",
    "        patch = complete_patch[0]\n",
    "        patch_coords = complete_patch[1]\n",
    "        \n",
    "        for coords in coords_list:\n",
    "            if (is_containing_objects(patch_coords,\n",
    "                                      coords)):\n",
    "                contained = True\n",
    "                count += 1\n",
    "                break\n",
    "        \n",
    "        if contained == False:\n",
    "            cleaned_patches.append(complete_patch)\n",
    "        else:\n",
    "            contained = False\n",
    "    \n",
    "    return cleaned_patches\n",
    "        "
   ]
  },
  {
   "cell_type": "code",
   "execution_count": 5,
   "metadata": {
    "collapsed": true
   },
   "outputs": [],
   "source": [
    "def save_patches(patches, path, image_name = ''):\n",
    "    \"\"\"Función que guarda cada uno de\n",
    "    los recortes como imágen\"\"\"\n",
    "    count = 0\n",
    "    for patch in patches:\n",
    "        io.imsave(path + image_name +str(patch[1][0]) + \"_\" \n",
    "                  + str(patch[1][1]) + \"_\"\n",
    "                  + str(patch[1][2]) + \"_\"\n",
    "                  + str(patch[1][3]) + \".jpg\",\n",
    "                  patch[0], quality=30)\n",
    "        count += 1"
   ]
  },
  {
   "cell_type": "code",
   "execution_count": 6,
   "metadata": {
    "collapsed": true
   },
   "outputs": [],
   "source": [
    "path=\"../../rsc/img/Default\"\n",
    "#path=\"../../rsc/img/test\"\n",
    "dest_path = \"D:/imgaum/Background/\"\n",
    "\n",
    "pattern = re.compile(\"^.*\\.jpg$\", re.IGNORECASE)\n",
    "\n",
    "def list_images(path='../../rsc/img/Default'):\n",
    "    \"\"\"Contamos el número de imágenes que tenemos en\n",
    "    el directorio de las imágenes etiquetadas\"\"\"\n",
    "    images_list = []\n",
    "    for name in os.listdir(path):\n",
    "        json_name = name.split(\".\")[0] + \".json\"\n",
    "        if pattern.match(name) \\\n",
    "        and os.path.exists(path + \"/\" + json_name):\n",
    "            images_list.append(path + \"/\" + name)\n",
    "    return images_list"
   ]
  },
  {
   "cell_type": "code",
   "execution_count": 7,
   "metadata": {
    "collapsed": true
   },
   "outputs": [],
   "source": [
    "def read_coords_conversion(coords_dict):\n",
    "    coords_list =[]\n",
    "    for _, coords in coords_dict.items():\n",
    "        coords_mod = np.array(coords)\n",
    "        coords_mod = coords_mod[:,[2,0,3,1]]\n",
    "        coords_mod = coords_mod.tolist()\n",
    "        for coords in coords_mod:\n",
    "            coords_list.append(coords)\n",
    "    return coords_list"
   ]
  },
  {
   "cell_type": "code",
   "execution_count": 8,
   "metadata": {
    "collapsed": true
   },
   "outputs": [],
   "source": [
    "def background_images_generator(path, number_of_images, dest_path):\n",
    "    images_names_list = list_images(path)\n",
    "    \n",
    "    initial_value = len(images_names_list)\n",
    "    \n",
    "    if initial_value == 0:\n",
    "        raise ValueError(\"Number of images must be greater than 0\")\n",
    "    \n",
    "    count = 0\n",
    "    images_per_image = ceil(number_of_images / initial_value)\n",
    "    \n",
    "    for image_path in images_names_list:\n",
    "        warnings.filterwarnings(\"ignore\")\n",
    "        image = rescale(io.imread(image_path), 0.5)\n",
    "\n",
    "        json_path = \"../..\" + image_path.split(\".\")[-2] + \".json\"\n",
    "        image_name = os.path.split(image_path)[1].split(\".\")[0]\n",
    "        image_with_format = image_name + \".jpg\"\n",
    "\n",
    "        # Cargamos coordenadas, si existen,\n",
    "        # y si no existe fichero de coordenadas\n",
    "        # pasamos a la siguiente imagen\n",
    "        if os.path.exists(json_path):\n",
    "            with open(json_path) as jsonfile:\n",
    "                coords_dict = json.load(jsonfile)\n",
    "                coords_dict = coords_dict[image_with_format]\n",
    "                coords_list = read_coords_conversion(coords_dict)\n",
    "        else:\n",
    "            continue\n",
    "\n",
    "        # Generamos recortes del fondo de la imagen \n",
    "        patches = extract_patches(image, coords_list, patch_size=(250,250), N=images_per_image)\n",
    "        patches = supress_contained_patches(patches, coords_list)\n",
    "        save_patches(patches, dest_path, image_name)\n",
    "        count += len(patches)\n",
    "        if count > number_of_images:\n",
    "            break"
   ]
  },
  {
   "cell_type": "code",
   "execution_count": 9,
   "metadata": {},
   "outputs": [
    {
     "data": {
      "text/plain": [
       "<function __main__.background_images_generator>"
      ]
     },
     "execution_count": 9,
     "metadata": {},
     "output_type": "execute_result"
    }
   ],
   "source": [
    "interact_manual(background_images_generator, \n",
    "                number_of_images=(0,4000,10),\n",
    "                path=fixed(path),\n",
    "                dest_path=fixed(dest_path))"
   ]
  }
 ],
 "metadata": {
  "anaconda-cloud": {},
  "kernelspec": {
   "display_name": "Python [default]",
   "language": "python",
   "name": "python3"
  },
  "language_info": {
   "codemirror_mode": {
    "name": "ipython",
    "version": 3
   },
   "file_extension": ".py",
   "mimetype": "text/x-python",
   "name": "python",
   "nbconvert_exporter": "python",
   "pygments_lexer": "ipython3",
   "version": "3.5.2"
  }
 },
 "nbformat": 4,
 "nbformat_minor": 2
}
