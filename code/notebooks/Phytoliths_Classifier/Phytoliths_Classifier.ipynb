{
 "cells": [
  {
   "cell_type": "markdown",
   "metadata": {},
   "source": [
    "<div Style=\"text-align: center;line-height: 30px;font-size:32px;font-weight: bold\"> Clasificador de fitolitos</div>\n",
    "***\n",
    "\n",
    "Este *notebook* esta basado en otro *notebook* cuyo autor es el Dr. José Francisco Diez (UBU). En este no se explican los detalles sobre las tareas de clasificación, *Bag of Words*, descriptores características, etc. Para ello revise la documentación en este mismo repositorio."
   ]
  },
  {
   "cell_type": "code",
   "execution_count": 1,
   "metadata": {
    "collapsed": true
   },
   "outputs": [],
   "source": [
    "%matplotlib inline \n",
    "#para dibujar en el propio notebook\n",
    "import numpy as np  #numpy como np\n",
    "import matplotlib.pyplot as plt #matplotlib como plot\n",
    "\n",
    "from skimage.feature import daisy\n",
    "from skimage.color import rgb2gray\n",
    "\n",
    "from sklearn.cluster import MiniBatchKMeans as KMeans\n",
    "from sklearn import svm\n",
    "\n",
    "import warnings\n",
    "\n",
    "from sklearn.ensemble import AdaBoostClassifier, GradientBoostingClassifier\n",
    "from sklearn.tree import DecisionTreeClassifier"
   ]
  },
  {
   "cell_type": "markdown",
   "metadata": {},
   "source": [
    "### Cargamos imágenes y las covertimos a escala de grises"
   ]
  },
  {
   "cell_type": "code",
   "execution_count": 2,
   "metadata": {
    "collapsed": true
   },
   "outputs": [],
   "source": [
    "from ImageDataset import ImageDataset\n",
    "\n",
    "# phytoliths_types = ['Rondel','Bulliform','Bilobate','Trichomas',\n",
    "#  'Saddle', 'Spherical', 'Cyperaceae']\n",
    "\n",
    "phytoliths_types = ['Phytolith', 'Background']\n",
    "\n",
    "dataset=ImageDataset('../../rsc/img', phytoliths_types)"
   ]
  },
  {
   "cell_type": "code",
   "execution_count": 3,
   "metadata": {
    "collapsed": true
   },
   "outputs": [],
   "source": [
    "X,y = dataset.getData()\n",
    "X = list(map(rgb2gray,X))"
   ]
  },
  {
   "cell_type": "markdown",
   "metadata": {},
   "source": [
    "#### Ejemplo de fitolito en escala de grises"
   ]
  },
  {
   "cell_type": "code",
   "execution_count": 4,
   "metadata": {},
   "outputs": [
    {
     "name": "stdout",
     "output_type": "stream",
     "text": [
      "Background\n"
     ]
    },
    {
     "data": {
      "image/png": "[encoded data removed]",
      "text/plain": [
       "<matplotlib.figure.Figure at 0x16a5643cb38>"
      ]
     },
     "metadata": {},
     "output_type": "display_data"
    }
   ],
   "source": [
    "from skimage.io import imshow\n",
    "\n",
    "imshow(X[25])\n",
    "print(y[25])"
   ]
  },
  {
   "cell_type": "markdown",
   "metadata": {},
   "source": [
    "### Dividimos el conjunto de imágenes para el entrenamiento y evaluación"
   ]
  },
  {
   "cell_type": "code",
   "execution_count": 5,
   "metadata": {
    "collapsed": true
   },
   "outputs": [],
   "source": [
    "TRAIN_SIZE = 0.7"
   ]
  },
  {
   "cell_type": "code",
   "execution_count": 6,
   "metadata": {
    "collapsed": true
   },
   "outputs": [],
   "source": [
    "from sklearn.model_selection import train_test_split\n",
    "\n",
    "X_train, X_test, y_train, y_test = train_test_split(X, y,\n",
    "                                                    stratify=y,\n",
    "                                                    train_size = TRAIN_SIZE)"
   ]
  },
  {
   "cell_type": "markdown",
   "metadata": {},
   "source": [
    "### Extraemos las características de las imágenes del conjunto de entrenamiento\n",
    "\n",
    "Mediante la técnica de Bag of Words."
   ]
  },
  {
   "cell_type": "code",
   "execution_count": 7,
   "metadata": {
    "collapsed": true
   },
   "outputs": [],
   "source": [
    "def features_extractor(img, descriptor = daisy):\n",
    "    features = descriptor(img)\n",
    "    numFils, numCols, sizeDesc = features.shape\n",
    "    features = features.reshape((numFils*numCols,sizeDesc))\n",
    "    return features"
   ]
  },
  {
   "cell_type": "code",
   "execution_count": 8,
   "metadata": {
    "collapsed": true
   },
   "outputs": [],
   "source": [
    "PROGRESS_NOTIFICATION = 10\n",
    "def whole_features_extractor(X_train):\n",
    "    '''Método encargado de extraer las \n",
    "    características de un conjunto de \n",
    "    imágenes'''\n",
    "    train_features = []\n",
    "    i = 0\n",
    "    \n",
    "    for img in X_train: \n",
    "        if i%PROGRESS_NOTIFICATION ==0:\n",
    "            print(\"Procesada imagen\"+str(i)+\"/\"+\n",
    "                  str(len(X_train)), end=\"\\r\")\n",
    "        \n",
    "        train_features.append(features_extractor(img))\n",
    "        i += 1\n",
    "    print(\"Procesadas todas las imágenes\", end=\"\\r\")\n",
    "    \n",
    "    all_features = np.concatenate(train_features)\n",
    "    \n",
    "    return train_features, all_features\n",
    "    "
   ]
  },
  {
   "cell_type": "code",
   "execution_count": 9,
   "metadata": {
    "collapsed": true
   },
   "outputs": [],
   "source": [
    "NUM_CENTERS = 200"
   ]
  },
  {
   "cell_type": "code",
   "execution_count": 10,
   "metadata": {},
   "outputs": [
    {
     "name": "stdout",
     "output_type": "stream",
     "text": [
      "Procesadas todas las imágenes\r"
     ]
    }
   ],
   "source": [
    "def get_features_cluster(X_train, num_centers):\n",
    "    \n",
    "    train_features, all_features = whole_features_extractor(X_train)\n",
    "    # Se inicializa el algoritmo de Kmeans \n",
    "    # indicando el número de clusters\n",
    "    warnings.filterwarnings(\"ignore\")\n",
    "    kmeans = KMeans(num_centers)\n",
    "    \n",
    "    # Se construye el cluster con todas las \n",
    "    # características del conjunto de entramiento\n",
    "    return kmeans.fit(all_features),train_features\n",
    "    \n",
    "cluster, train_features = get_features_cluster(X_train, NUM_CENTERS)"
   ]
  },
  {
   "cell_type": "markdown",
   "metadata": {},
   "source": [
    "### Obtenemos el conjunto de entrenamiento"
   ]
  },
  {
   "cell_type": "code",
   "execution_count": 11,
   "metadata": {
    "collapsed": true
   },
   "outputs": [],
   "source": [
    "def bow_histogram_extractor(imgFeatures, num_centers):\n",
    "    # extrae pertenencias a cluster\n",
    "    pertenencias=cluster.predict(imgFeatures)\n",
    "    # extrae histograma\n",
    "    bow_representation, _ = np.histogram(pertenencias, \n",
    "                                         bins=num_centers, \n",
    "                                         range=(0,num_centers-1))\n",
    "    return bow_representation"
   ]
  },
  {
   "cell_type": "code",
   "execution_count": 12,
   "metadata": {
    "collapsed": true
   },
   "outputs": [],
   "source": [
    "# Si le paso un conjunto de imagenes X saca las caracteristicas\n",
    "# Si le paso las features usa directamente las features\n",
    "def get_training_set(cluster,X=None, t_features=None):\n",
    "    \n",
    "    train_features = t_features\n",
    "    \n",
    "    if t_features is None:\n",
    "        train_features, _ = whole_features_extractor(X)\n",
    "    \n",
    "    \n",
    "    num_centers = len(cluster.cluster_centers_)\n",
    "    trainInstances = []\n",
    "    \n",
    "    for imgFeatures in train_features:\n",
    "        # añade al conjunto de entrenamiento final\n",
    "        trainInstances.append(bow_histogram_extractor(imgFeatures,\n",
    "                                                      num_centers))\n",
    "    \n",
    "    trainInstances = np.array(trainInstances)\n",
    "    return trainInstances"
   ]
  },
  {
   "cell_type": "code",
   "execution_count": 13,
   "metadata": {},
   "outputs": [
    {
     "name": "stdout",
     "output_type": "stream",
     "text": [
      "Procesadas todas las imágenes\r"
     ]
    }
   ],
   "source": [
    "trainInstances = get_training_set(cluster,X=X_train)"
   ]
  },
  {
   "cell_type": "markdown",
   "metadata": {},
   "source": [
    "### Obtenemos clasificador"
   ]
  },
  {
   "cell_type": "code",
   "execution_count": 14,
   "metadata": {
    "collapsed": true
   },
   "outputs": [],
   "source": [
    "def get_trained_classifier(trainInstances,y_train, \n",
    "                           classifier= svm.SVC(kernel='linear',\n",
    "                                               C=0.01,\n",
    "                                               probability=True)):\n",
    "    return classifier.fit(trainInstances, y_train)"
   ]
  },
  {
   "cell_type": "code",
   "execution_count": 15,
   "metadata": {
    "collapsed": true
   },
   "outputs": [],
   "source": [
    "cls = get_trained_classifier(trainInstances,y_train, AdaBoostClassifier(learning_rate=1.5,\n",
    "                                                                       base_estimator=DecisionTreeClassifier(class_weight=None, criterion='gini', max_depth=4,\n",
    "                                                                                                             max_features=None, max_leaf_nodes=None,\n",
    "                                                                                                             min_impurity_split=1e-07, min_samples_leaf=1,\n",
    "                                                                                                             min_samples_split=2, min_weight_fraction_leaf=0.0,\n",
    "                                                                                                             presort=False, random_state=None, splitter='best'),\n",
    "                                                                       algorithm='SAMME.R', n_estimators=600))"
   ]
  },
  {
   "cell_type": "markdown",
   "metadata": {},
   "source": [
    "### Predecimos imágenes\n",
    "\n",
    "Mediante la técnica de Bag of Words."
   ]
  },
  {
   "cell_type": "code",
   "execution_count": 16,
   "metadata": {
    "collapsed": true
   },
   "outputs": [],
   "source": [
    "def predict_image(imgTest):\n",
    "    global cluster\n",
    "    global cls\n",
    "    \n",
    "    num_centers = len(cluster.cluster_centers_)\n",
    "    imgFeatures = features_extractor(imgTest)\n",
    "    \n",
    "    testInstances = np.array(bow_histogram_extractor(imgFeatures,\n",
    "                                                     num_centers))\n",
    "    \n",
    "    return cls.predict_proba(testInstances)"
   ]
  },
  {
   "cell_type": "code",
   "execution_count": 17,
   "metadata": {
    "collapsed": true
   },
   "outputs": [],
   "source": [
    "def predict_image_class(imgTest, types = dataset.getClasses()):\n",
    "    return types[np.argmax(predict_image(imgTest)[0])]"
   ]
  },
  {
   "cell_type": "code",
   "execution_count": 18,
   "metadata": {},
   "outputs": [
    {
     "data": {
      "text/plain": [
       "'Background'"
      ]
     },
     "execution_count": 18,
     "metadata": {},
     "output_type": "execute_result"
    }
   ],
   "source": [
    "predict_image_class(X_test[30])"
   ]
  },
  {
   "cell_type": "code",
   "execution_count": 19,
   "metadata": {
    "scrolled": true
   },
   "outputs": [
    {
     "data": {
      "text/plain": [
       "<matplotlib.image.AxesImage at 0x16a400b7198>"
      ]
     },
     "execution_count": 19,
     "metadata": {},
     "output_type": "execute_result"
    },
    {
     "data": {
      "image/png": "[encoded data removed]",
      "text/plain": [
       "<matplotlib.figure.Figure at 0x16a40fb2978>"
      ]
     },
     "metadata": {},
     "output_type": "display_data"
    }
   ],
   "source": [
    "imshow(X_test[30])"
   ]
  },
  {
   "cell_type": "markdown",
   "metadata": {},
   "source": [
    "### Evaluamos la precisión del clasificador"
   ]
  },
  {
   "cell_type": "code",
   "execution_count": 20,
   "metadata": {
    "collapsed": true
   },
   "outputs": [],
   "source": [
    "from sklearn.metrics import accuracy_score"
   ]
  },
  {
   "cell_type": "code",
   "execution_count": 21,
   "metadata": {},
   "outputs": [
    {
     "name": "stdout",
     "output_type": "stream",
     "text": [
      "Procesadas todas las imágenes\r"
     ]
    }
   ],
   "source": [
    "testInstances = get_training_set(cluster,X=X_test)"
   ]
  },
  {
   "cell_type": "code",
   "execution_count": 22,
   "metadata": {
    "collapsed": true
   },
   "outputs": [],
   "source": [
    "y_pred = list(map(predict_image_class,X_test))"
   ]
  },
  {
   "cell_type": "code",
   "execution_count": 23,
   "metadata": {},
   "outputs": [
    {
     "name": "stdout",
     "output_type": "stream",
     "text": [
      "0.98\n"
     ]
    }
   ],
   "source": [
    "print(\"%.2f\" % accuracy_score(y_test, y_pred))"
   ]
  }
 ],
 "metadata": {
  "anaconda-cloud": {},
  "kernelspec": {
   "display_name": "Python [default]",
   "language": "python",
   "name": "python3"
  },
  "language_info": {
   "codemirror_mode": {
    "name": "ipython",
    "version": 3
   },
   "file_extension": ".py",
   "mimetype": "text/x-python",
   "name": "python",
   "nbconvert_exporter": "python",
   "pygments_lexer": "ipython3",
   "version": "3.5.2"
  }
 },
 "nbformat": 4,
 "nbformat_minor": 2
}
