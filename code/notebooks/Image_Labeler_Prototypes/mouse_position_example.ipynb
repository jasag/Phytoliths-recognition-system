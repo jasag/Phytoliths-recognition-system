{
 "cells": [
  {
   "cell_type": "markdown",
   "metadata": {},
   "source": [
    "# Image Labeler\n",
    "\n",
    "En este notebook pretendemos crear una widget que nos permita etiquetar los fitolitos. En primer lugar, trataremos de capturar los clicks de ratón."
   ]
  },
  {
   "cell_type": "code",
   "execution_count": 1,
   "metadata": {
    "collapsed": true
   },
   "outputs": [],
   "source": [
    "from __future__ import print_function"
   ]
  },
  {
   "cell_type": "code",
   "execution_count": 2,
   "metadata": {
    "collapsed": false
   },
   "outputs": [],
   "source": [
    "import ipywidgets as widgets\n",
    "from traitlets import Unicode, validate, Bool, List\n",
    "from ipywidgets import Color\n",
    "\n",
    "\n",
    "class ImageLabelerWidget(widgets.DOMWidget):\n",
    "    _view_name = Unicode('ImageLabelerView').tag(sync=True)\n",
    "    _view_module = Unicode('ImageLabeler').tag(sync=True)\n",
    "    \n"
   ]
  },
  {
   "cell_type": "code",
   "execution_count": 3,
   "metadata": {
    "collapsed": false
   },
   "outputs": [
    {
     "data": {
      "application/javascript": [
       "require.undef('ImageLabeler');\n",
       "\n",
       "function writeMessage(canvas, message) {\n",
       "        var context = canvas.getContext('2d');\n",
       "        context.clearRect(0, 0, canvas.width, canvas.height);\n",
       "        context.font = '18pt Calibri';\n",
       "        context.fillStyle = 'black';\n",
       "        context.fillText(message, 10, 50);\n",
       "      }\n",
       "\n",
       "function getMousePos(canvas, evt) {\n",
       "        var rect = canvas.getBoundingClientRect();\n",
       "        return {\n",
       "          x: evt.clientX - rect.left,\n",
       "          y: evt.clientY - rect.top\n",
       "        };\n",
       "}\n",
       "\n",
       "define('ImageLabeler', [\"jupyter-js-widgets\"], function(widgets) {\n",
       "\n",
       "    var ImageLabelerView = widgets.DOMWidgetView.extend({\n",
       "\n",
       "        // Renderizar vista\n",
       "        render: function() {\n",
       "            var canvas = document.createElement('canvas');\n",
       "            canvas.id = 'canvas';\n",
       "            canvas.width = 1200;\n",
       "            canvas.height = 300;\n",
       "            var ctx= canvas.getContext(\"2d\");\n",
       "            \n",
       "            canvas.addEventListener('click', function(evt) {\n",
       "                var mousePos = getMousePos(canvas, evt);\n",
       "                var message = 'Mouse position: ' + mousePos.x + ',' + mousePos.y;\n",
       "                writeMessage(canvas, message);\n",
       "            }, false);\n",
       "            \n",
       "            this.el = canvas\n",
       "        },\n",
       "    });\n",
       "\n",
       "    return {\n",
       "        ImageLabelerView: ImageLabelerView\n",
       "    };\n",
       "});"
      ],
      "text/plain": [
       "<IPython.core.display.Javascript object>"
      ]
     },
     "metadata": {},
     "output_type": "display_data"
    }
   ],
   "source": [
    "%%javascript\n",
    "require.undef('ImageLabeler');\n",
    "\n",
    "function writeMessage(canvas, message) {\n",
    "        var context = canvas.getContext('2d');\n",
    "        context.clearRect(0, 0, canvas.width, canvas.height);\n",
    "        context.font = '18pt Calibri';\n",
    "        context.fillStyle = 'black';\n",
    "        context.fillText(message, 10, 50);\n",
    "      }\n",
    "\n",
    "function getMousePos(canvas, evt) {\n",
    "        var rect = canvas.getBoundingClientRect();\n",
    "        return {\n",
    "          x: evt.clientX - rect.left,\n",
    "          y: evt.clientY - rect.top\n",
    "        };\n",
    "}\n",
    "\n",
    "define('ImageLabeler', [\"jupyter-js-widgets\"], function(widgets) {\n",
    "\n",
    "    var ImageLabelerView = widgets.DOMWidgetView.extend({\n",
    "\n",
    "        // Renderizar vista\n",
    "        render: function() {\n",
    "            var canvas = document.createElement('canvas');\n",
    "            canvas.id = 'canvas';\n",
    "            canvas.width = 1200;\n",
    "            canvas.height = 300;\n",
    "            var ctx= canvas.getContext(\"2d\");\n",
    "            \n",
    "            canvas.addEventListener('click', function(evt) {\n",
    "                var mousePos = getMousePos(canvas, evt);\n",
    "                var message = 'Mouse position: ' + mousePos.x + ',' + mousePos.y;\n",
    "                writeMessage(canvas, message);\n",
    "            }, false);\n",
    "            \n",
    "            this.el = canvas\n",
    "        },\n",
    "    });\n",
    "\n",
    "    return {\n",
    "        ImageLabelerView: ImageLabelerView\n",
    "    };\n",
    "});"
   ]
  },
  {
   "cell_type": "markdown",
   "metadata": {},
   "source": [
    "# Demostración\n",
    "\n",
    "Justo debajo hemos insertado un canvas mediante el que mostramos las coordenadas en las que estas clicando. Pruebalo."
   ]
  },
  {
   "cell_type": "code",
   "execution_count": 4,
   "metadata": {
    "collapsed": false
   },
   "outputs": [],
   "source": [
    "ImageLabelerWidget()"
   ]
  }
 ],
 "metadata": {
  "kernelspec": {
   "display_name": "Python 3",
   "language": "python",
   "name": "python3"
  },
  "language_info": {
   "codemirror_mode": {
    "name": "ipython",
    "version": 3
   },
   "file_extension": ".py",
   "mimetype": "text/x-python",
   "name": "python",
   "nbconvert_exporter": "python",
   "pygments_lexer": "ipython3",
   "version": "3.5.2"
  },
  "widgets": {
   "state": {
    "349e3af0d62c4b38a63d8078fd6a828d": {
     "views": [
      {
       "cell_index": 5
      }
     ]
    }
   },
   "version": "1.2.0"
  }
 },
 "nbformat": 4,
 "nbformat_minor": 2
}
