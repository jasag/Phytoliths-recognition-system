{
 "cells": [
  {
   "cell_type": "markdown",
   "metadata": {},
   "source": [
    "# Image Labeler\n",
    "\n",
    "En este notebook pretendemos crear una widget que nos permita etiquetar los fitolitos. En primer lugar, trataremos de capturar los clicks de ratón."
   ]
  },
  {
   "cell_type": "code",
   "execution_count": 17,
   "metadata": {
    "collapsed": true
   },
   "outputs": [],
   "source": [
    "from __future__ import print_function"
   ]
  },
  {
   "cell_type": "code",
   "execution_count": 18,
   "metadata": {
    "collapsed": false
   },
   "outputs": [],
   "source": [
    "import ipywidgets as widgets\n",
    "from traitlets import Unicode, validate, Bool, Any\n",
    "from ipywidgets import Color\n",
    "\n",
    "\n",
    "class ImageLabelerWidget(widgets.DOMWidget):\n",
    "    _view_name = Unicode('ImageLabelerView').tag(sync=True)\n",
    "    _view_module = Unicode('ImageLabeler').tag(sync=True)\n"
   ]
  },
  {
   "cell_type": "code",
   "execution_count": 19,
   "metadata": {
    "collapsed": false
   },
   "outputs": [
    {
     "data": {
      "application/javascript": [
       "require.undef('ImageLabeler');\n",
       "\n",
       "var canvas, context, startX, endX, startY, endY;\n",
       "var mouseIsDown = 0;\n",
       "\n",
       "function loadImage(){\n",
       "    var img = new Image();\n",
       "    img.src = 'http://www.google.com/intl/en_ALL/images/logo.gif';\n",
       "    img.onload = function() {\n",
       "        context.drawImage(img, this.width, this.height);\n",
       "    }\n",
       "}\n",
       "\n",
       "function mouseUp(eve) {\n",
       "    if (mouseIsDown !== 0) {\n",
       "        mouseIsDown = 0;\n",
       "        var pos = getMousePos(canvas, eve);\n",
       "        endX = pos.x;\n",
       "        endY = pos.y;\n",
       "        drawSquare(); //update on mouse-up\n",
       "    }\n",
       "}\n",
       "\n",
       "function mouseDown(eve) {\n",
       "    mouseIsDown = 1;\n",
       "    var pos = getMousePos(canvas, eve);\n",
       "    startX = endX = pos.x;\n",
       "    startY = endY = pos.y;\n",
       "    drawSquare(); //update\n",
       "}\n",
       "\n",
       "function mouseXY(eve) {\n",
       "\n",
       "    if (mouseIsDown !== 0) {\n",
       "        var pos = getMousePos(canvas, eve);\n",
       "        endX = pos.x;\n",
       "        endY = pos.y;\n",
       "\n",
       "        drawSquare();\n",
       "    }\n",
       "}\n",
       "\n",
       "function getMousePos(canvas, evt) {\n",
       "        var rect = canvas.getBoundingClientRect();\n",
       "        return {\n",
       "          x: evt.clientX - rect.left,\n",
       "          y: evt.clientY - rect.top\n",
       "        };\n",
       "}\n",
       "\n",
       "function drawSquare() {\n",
       "    // creating a square\n",
       "    var w = endX - startX;\n",
       "    var h = endY - startY;\n",
       "    var offsetX = (w < 0) ? w : 0;\n",
       "    var offsetY = (h < 0) ? h : 0;\n",
       "    var width = Math.abs(w);\n",
       "    var height = Math.abs(h);\n",
       "\n",
       "    context.clearRect(0, 0, canvas.width, canvas.height);\n",
       "    loadImage();\n",
       "    \n",
       "    context.beginPath();\n",
       "    context.rect(startX + offsetX, startY + offsetY, width, height);\n",
       "    //context.fillStyle = \"transparent\";\n",
       "    //context.fill();\n",
       "    context.lineWidth = 2;\n",
       "    context.strokeStyle = 'green';\n",
       "    context.stroke();\n",
       "}\n",
       "\n",
       "define('ImageLabeler', [\"jupyter-js-widgets\"], function(widgets) {\n",
       "\n",
       "    var ImageLabelerView = widgets.DOMWidgetView.extend({\n",
       "\n",
       "        // Renderizar vista\n",
       "        render: function() {\n",
       "            canvas = document.createElement('canvas');\n",
       "            canvas.id = 'canvas';\n",
       "            canvas.width = 1200;\n",
       "            canvas.height = 300;\n",
       "            \n",
       "            context = canvas.getContext(\"2d\");\n",
       "            \n",
       "            // Introducimos una imagen\n",
       "            loadImage();\n",
       "            \n",
       "            // Añadimos listeners\n",
       "            canvas.addEventListener(\"mousedown\", mouseDown, false);\n",
       "            canvas.addEventListener(\"mousemove\", mouseXY, false);\n",
       "            canvas.addEventListener(\"mouseup\", mouseUp, false);\n",
       "\n",
       "            this.el = canvas\n",
       "        },\n",
       "    });\n",
       "\n",
       "    return {\n",
       "        ImageLabelerView: ImageLabelerView\n",
       "    };\n",
       "});"
      ],
      "text/plain": [
       "<IPython.core.display.Javascript object>"
      ]
     },
     "metadata": {},
     "output_type": "display_data"
    }
   ],
   "source": [
    "%%javascript\n",
    "require.undef('ImageLabeler');\n",
    "\n",
    "var canvas, context, startX, endX, startY, endY;\n",
    "var mouseIsDown = 0;\n",
    "\n",
    "function loadImage(){\n",
    "    var img = new Image();\n",
    "    img.src = 'http://www.google.com/intl/en_ALL/images/logo.gif';\n",
    "    img.onload = function() {\n",
    "        context.drawImage(img, this.width, this.height);\n",
    "    }\n",
    "}\n",
    "\n",
    "function mouseUp(eve) {\n",
    "    if (mouseIsDown !== 0) {\n",
    "        mouseIsDown = 0;\n",
    "        var pos = getMousePos(canvas, eve);\n",
    "        endX = pos.x;\n",
    "        endY = pos.y;\n",
    "        drawSquare(); //update on mouse-up\n",
    "    }\n",
    "}\n",
    "\n",
    "function mouseDown(eve) {\n",
    "    mouseIsDown = 1;\n",
    "    var pos = getMousePos(canvas, eve);\n",
    "    startX = endX = pos.x;\n",
    "    startY = endY = pos.y;\n",
    "    drawSquare(); //update\n",
    "}\n",
    "\n",
    "function mouseXY(eve) {\n",
    "\n",
    "    if (mouseIsDown !== 0) {\n",
    "        var pos = getMousePos(canvas, eve);\n",
    "        endX = pos.x;\n",
    "        endY = pos.y;\n",
    "\n",
    "        drawSquare();\n",
    "    }\n",
    "}\n",
    "\n",
    "function getMousePos(canvas, evt) {\n",
    "        var rect = canvas.getBoundingClientRect();\n",
    "        return {\n",
    "          x: evt.clientX - rect.left,\n",
    "          y: evt.clientY - rect.top\n",
    "        };\n",
    "}\n",
    "\n",
    "function drawSquare() {\n",
    "    // creating a square\n",
    "    var w = endX - startX;\n",
    "    var h = endY - startY;\n",
    "    var offsetX = (w < 0) ? w : 0;\n",
    "    var offsetY = (h < 0) ? h : 0;\n",
    "    var width = Math.abs(w);\n",
    "    var height = Math.abs(h);\n",
    "\n",
    "    context.clearRect(0, 0, canvas.width, canvas.height);\n",
    "    loadImage();\n",
    "    \n",
    "    context.beginPath();\n",
    "    context.rect(startX + offsetX, startY + offsetY, width, height);\n",
    "    //context.fillStyle = \"transparent\";\n",
    "    //context.fill();\n",
    "    context.lineWidth = 2;\n",
    "    context.strokeStyle = 'green';\n",
    "    context.stroke();\n",
    "}\n",
    "\n",
    "define('ImageLabeler', [\"jupyter-js-widgets\"], function(widgets) {\n",
    "\n",
    "    var ImageLabelerView = widgets.DOMWidgetView.extend({\n",
    "\n",
    "        // Renderizar vista\n",
    "        render: function() {\n",
    "            canvas = document.createElement('canvas');\n",
    "            canvas.id = 'canvas';\n",
    "            canvas.width = 1200;\n",
    "            canvas.height = 300;\n",
    "            \n",
    "            context = canvas.getContext(\"2d\");\n",
    "            \n",
    "            // Introducimos una imagen\n",
    "            loadImage();\n",
    "            \n",
    "            // Añadimos listeners\n",
    "            canvas.addEventListener(\"mousedown\", mouseDown, false);\n",
    "            canvas.addEventListener(\"mousemove\", mouseXY, false);\n",
    "            canvas.addEventListener(\"mouseup\", mouseUp, false);\n",
    "\n",
    "            this.el = canvas\n",
    "        },\n",
    "    });\n",
    "\n",
    "    return {\n",
    "        ImageLabelerView: ImageLabelerView\n",
    "    };\n",
    "});"
   ]
  },
  {
   "cell_type": "markdown",
   "metadata": {},
   "source": [
    "# Demostración\n",
    "\n",
    "Justo debajo hemos insertado un canvas mediante el que mostramos las coordenadas en las que estas clicando. Pruebalo."
   ]
  },
  {
   "cell_type": "code",
   "execution_count": 20,
   "metadata": {
    "collapsed": false
   },
   "outputs": [],
   "source": [
    "ImageLabelerWidget()"
   ]
  },
  {
   "cell_type": "code",
   "execution_count": null,
   "metadata": {
    "collapsed": true
   },
   "outputs": [],
   "source": []
  }
 ],
 "metadata": {
  "kernelspec": {
   "display_name": "Python 3",
   "language": "python",
   "name": "python3"
  },
  "language_info": {
   "codemirror_mode": {
    "name": "ipython",
    "version": 3
   },
   "file_extension": ".py",
   "mimetype": "text/x-python",
   "name": "python",
   "nbconvert_exporter": "python",
   "pygments_lexer": "ipython3",
   "version": "3.5.2"
  },
  "widgets": {
   "state": {
    "ff2aa0fb33574675bf4936d38e47ee57": {
     "views": [
      {
       "cell_index": 5
      }
     ]
    }
   },
   "version": "1.2.0"
  }
 },
 "nbformat": 4,
 "nbformat_minor": 2
}
