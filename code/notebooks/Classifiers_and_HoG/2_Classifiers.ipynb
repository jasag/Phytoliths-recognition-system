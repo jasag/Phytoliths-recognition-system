{
 "cells": [
  {
   "cell_type": "markdown",
   "metadata": {},
   "source": [
    "# Clasificadores\n",
    "\n",
    "En este notebook se entrenaran los distintos clasificadores a probar, utilizando las características previamente serializadas en el *Jupyter notebook: 1_HoG*.\n",
    "\n",
    "A su vez, los clasificadores entrenados en este notebook serán serializados por motivos de rendimiento y facilidad de uso."
   ]
  },
  {
   "cell_type": "markdown",
   "metadata": {},
   "source": [
    "## 1. Deserializamos las características"
   ]
  },
  {
   "cell_type": "code",
   "execution_count": 1,
   "metadata": {
    "collapsed": true
   },
   "outputs": [],
   "source": [
    "import pickle\n",
    "\n",
    "path = '..\\\\..\\\\rsc\\\\obj\\\\'\n",
    "\n",
    "X_train_path = path + 'X_train.sav'\n",
    "y_train_path = path + 'y_train.sav'\n",
    "\n",
    "X_train = pickle.load(open(X_train_path, 'rb'))\n",
    "y_train = pickle.load(open(y_train_path, 'rb'))"
   ]
  },
  {
   "cell_type": "code",
   "execution_count": 3,
   "metadata": {},
   "outputs": [
    {
     "name": "stdout",
     "output_type": "stream",
     "text": [
      "(53688, 1215)\n"
     ]
    }
   ],
   "source": [
    "print(X_train.shape)"
   ]
  },
  {
   "cell_type": "markdown",
   "metadata": {},
   "source": [
    "# 2. Entrenamos múltiples clasificadores\n",
    "\n",
    "## 2.1. SVM"
   ]
  },
  {
   "cell_type": "code",
   "execution_count": 8,
   "metadata": {
    "collapsed": true
   },
   "outputs": [],
   "source": [
    "from sklearn.svm import LinearSVC\n",
    "from sklearn.model_selection import GridSearchCV\n",
    "\n",
    "svm_path = path + 'svm_clf.sav'\n",
    "\n",
    "grid = GridSearchCV(LinearSVC(), {'C': [1.0, 2.0, 4.0, 8.0]})\n",
    "\n",
    "grid.fit(X_train, y_train)\n",
    "\n",
    "# Re-entrenamiento partiendo del mejor estimador\n",
    "svm_clf = grid.best_estimator_\n",
    "\n",
    "svm_clf.fit(X_train, y_train)\n",
    "\n",
    "#Serializamos clasfificador\n",
    "pickle.dump(svm_clf, open(svm_path, 'wb'))"
   ]
  },
  {
   "cell_type": "markdown",
   "metadata": {},
   "source": [
    "## 2.2. Gradient tree boosting "
   ]
  },
  {
   "cell_type": "code",
   "execution_count": 9,
   "metadata": {
    "collapsed": true
   },
   "outputs": [],
   "source": [
    "from sklearn.ensemble import GradientBoostingClassifier\n",
    "\n",
    "gtb_path = path + 'gtb_clf.sav'\n",
    "\n",
    "gtb_clf = GradientBoostingClassifier(n_estimators=100, learning_rate=1.0,\n",
    "                                 max_depth=1, random_state=0).fit(X_train, y_train)\n",
    "\n",
    "#Serializamos clasfificador\n",
    "pickle.dump(gtb_clf, open(gtb_path, 'wb'))"
   ]
  },
  {
   "cell_type": "markdown",
   "metadata": {},
   "source": [
    "## 2.3. Random forests"
   ]
  },
  {
   "cell_type": "code",
   "execution_count": 5,
   "metadata": {
    "collapsed": true
   },
   "outputs": [],
   "source": [
    "from sklearn.ensemble import RandomForestClassifier\n",
    "\n",
    "rf_path = path + 'rf_clf.sav'\n",
    "\n",
    "rf_clf = RandomForestClassifier(n_estimators=10, max_depth=None,\n",
    "                             min_samples_split=2, random_state=0).fit(X_train, y_train)\n",
    "\n",
    "#Serializamos clasfificador\n",
    "pickle.dump(rf_clf, open(rf_path, 'wb'))"
   ]
  },
  {
   "cell_type": "markdown",
   "metadata": {},
   "source": [
    "## 2.4. SVM con probabilidades"
   ]
  },
  {
   "cell_type": "code",
   "execution_count": null,
   "metadata": {
    "collapsed": true
   },
   "outputs": [],
   "source": [
    "from sklearn import svm\n",
    "from sklearn.model_selection import GridSearchCV\n",
    "\n",
    "\n",
    "svm2_path = path + 'svm2_clf.sav'\n",
    "\n",
    "svm2_clf = svm.SVC(gamma=2, C=1)\n",
    "svm2_clf.fit(X_train, y_train) \n",
    "\n",
    "\n",
    "#Serializamos clasfificador\n",
    "pickle.dump(svm2_clf, open(svm2_path, 'wb'))"
   ]
  },
  {
   "cell_type": "code",
   "execution_count": null,
   "metadata": {
    "collapsed": true
   },
   "outputs": [],
   "source": [
    "svm3_path = path + 'svm3_clf.sav'\n",
    "\n",
    "grid2 = GridSearchCV(svm.SVC(), {'C': [1.0, 2.0, 4.0, 8.0]})\n",
    "\n",
    "grid2.fit(X_train, y_train)\n",
    "\n",
    "# Re-entrenamiento partiendo del mejor estimador\n",
    "svm3_clf = grid.best_estimator_\n",
    "\n",
    "svm3_clf.fit(X_train, y_train)\n",
    "\n",
    "#Serializamos clasfificador\n",
    "pickle.dump(svm3_clf, open(svm3_path, 'wb'))"
   ]
  },
  {
   "cell_type": "markdown",
   "metadata": {},
   "source": [
    "## 2.5. Linear regression"
   ]
  },
  {
   "cell_type": "code",
   "execution_count": 4,
   "metadata": {
    "collapsed": true
   },
   "outputs": [],
   "source": [
    "from sklearn import linear_model\n",
    "\n",
    "regr_path = path + 'rgr_clf.sav'\n",
    "# Create linear regression object\n",
    "regr_clf = linear_model.LinearRegression()\n",
    "\n",
    "# Train the model using the training sets\n",
    "regr_clf.fit(X_train, y_train)\n",
    "\n",
    "#Serializamos clasfificador\n",
    "pickle.dump(regr_clf, open(regr_path, 'wb'))"
   ]
  },
  {
   "cell_type": "markdown",
   "metadata": {},
   "source": [
    "## 2.6. Bayes"
   ]
  },
  {
   "cell_type": "code",
   "execution_count": 5,
   "metadata": {
    "collapsed": true
   },
   "outputs": [],
   "source": [
    "from sklearn.naive_bayes import GaussianNB\n",
    "\n",
    "gnb_path = path + 'gnb_clf.sav'\n",
    "\n",
    "gnb_clf = GaussianNB()\n",
    "\n",
    "gnb_clf.fit(X_train, y_train)\n",
    "\n",
    "#Serializamos clasfificador\n",
    "pickle.dump(gnb_clf, open(gnb_path, 'wb'))"
   ]
  }
 ],
 "metadata": {
  "anaconda-cloud": {},
  "kernelspec": {
   "display_name": "Python [default]",
   "language": "python",
   "name": "python3"
  },
  "language_info": {
   "codemirror_mode": {
    "name": "ipython",
    "version": 3
   },
   "file_extension": ".py",
   "mimetype": "text/x-python",
   "name": "python",
   "nbconvert_exporter": "python",
   "pygments_lexer": "ipython3",
   "version": "3.5.2"
  }
 },
 "nbformat": 4,
 "nbformat_minor": 2
}
