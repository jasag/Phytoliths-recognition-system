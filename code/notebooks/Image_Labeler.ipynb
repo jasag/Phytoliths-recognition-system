{
 "cells": [
  {
   "cell_type": "markdown",
   "metadata": {},
   "source": [
    "# Image Labeler\n",
    "\n",
    "En este notebook pretendemos crear una widget que nos permita etiquetar los fitolitos."
   ]
  },
  {
   "cell_type": "code",
   "execution_count": 85,
   "metadata": {
    "collapsed": false
   },
   "outputs": [],
   "source": [
    "from __future__ import print_function"
   ]
  },
  {
   "cell_type": "code",
   "execution_count": 86,
   "metadata": {
    "collapsed": false
   },
   "outputs": [],
   "source": [
    "import ipywidgets as widgets\n",
    "from traitlets import Unicode, validate, Bool, Any\n",
    "from ipywidgets import Color\n",
    "\n",
    "class ImageLabelerWidget(widgets.DOMWidget):\n",
    "    _view_name = Unicode('ImageLabelerView').tag(sync=True)\n",
    "    _view_module = Unicode('ImageLabeler').tag(sync=True)\n"
   ]
  },
  {
   "cell_type": "code",
   "execution_count": 87,
   "metadata": {
    "collapsed": false
   },
   "outputs": [
    {
     "data": {
      "application/javascript": [
       "require.undef('ImageLabeler');\n",
       "\n",
       "var startX, startY;\n",
       "var count = 0;\n",
       "var rect = null;\n",
       "\n",
       "function getMousePos(evt) {\n",
       "    // Obtenemos posición absoluta del elemento svg\n",
       "    var svgRef = document.getElementById(\"svg\");\n",
       "    var htmlPos = svgRef.getBoundingClientRect();\n",
       "    \n",
       "    return {\n",
       "        x: evt.clientX - htmlPos.left,\n",
       "        y: evt.clientY - htmlPos.top\n",
       "    };\n",
       "}\n",
       "\n",
       "function updateRect(eve, rect){\n",
       "    var pos = getMousePos(eve);\n",
       "    var endX = pos.x;\n",
       "    var endY = pos.y;\n",
       "    if (endX - startX > 0){\n",
       "        var x = startX\n",
       "    }else{\n",
       "        var x = endX;\n",
       "    }\n",
       "\n",
       "    if (endY - startY > 0){\n",
       "        var y = startY\n",
       "    }else{\n",
       "        var y = endY;\n",
       "    }\n",
       "    var width = Math.abs(endX - startX);\n",
       "    var height = Math.abs(endY - startY);\n",
       "    \n",
       "    rect.setAttributeNS(null, 'x', x);\n",
       "    rect.setAttributeNS(null, 'y', y);\n",
       "    rect.setAttributeNS(null, 'height', height);\n",
       "    rect.setAttributeNS(null, 'width', width);\n",
       "}\n",
       "\n",
       "function setStyleRect(rect){\n",
       "    rect.setAttributeNS(null, 'fill', 'transparent');\n",
       "    rect.setAttributeNS(null, 'stroke', 'green');\n",
       "    rect.setAttributeNS(null, 'linewidth', '10px');\n",
       "}\n",
       "\n",
       "function mouseMove(eve) {\n",
       "    if(rect){\n",
       "        updateRect(eve, rect);\n",
       "      }\n",
       "}\n",
       "\n",
       "function mouseClick(eve) {\n",
       "    if (rect !== null) {\n",
       "        rect = null;\n",
       "        console.log(\"finsihed.\");\n",
       "    } else {\n",
       "        var pos = getMousePos(eve);\n",
       "        \n",
       "        startX= pos.x;\n",
       "        startY = pos.y;\n",
       "        \n",
       "        console.log(\"begun.\");\n",
       "        \n",
       "        if(!rect){\n",
       "            rect = document.createElementNS(\"http://www.w3.org/2000/svg\", 'rect');\n",
       "            rect.id = 'rect' + count;\n",
       "            count = count + 1;\n",
       "            \n",
       "            updateRect(eve, rect);\n",
       "\n",
       "            setStyleRect(rect);\n",
       "            document.getElementById('svg').appendChild(rect);\n",
       "          }\n",
       "        }\n",
       "}\n",
       "\n",
       "function loadImage(svg){\n",
       "    svg.innerHTML += '<image xlink:href=\"../rsc/img/family.jpg\" x=\"0\" y=\"0\" height=\"400px\" width=\"400px\"/>'\n",
       "}\n",
       "\n",
       "define('ImageLabeler', [\"jupyter-js-widgets\"], function(widgets) {\n",
       "\n",
       "    var ImageLabelerView = widgets.DOMWidgetView.extend({\n",
       "\n",
       "        // Renderizar vista\n",
       "        render: function() {\n",
       "            // Creamos el SVG\n",
       "            var svg = document.createElementNS(\"http://www.w3.org/2000/svg\", \"svg\");\n",
       "            svg.id = 'svg';\n",
       "            svg.setAttribute('width', '400px');\n",
       "            svg.setAttribute('height', '400px');\n",
       "            \n",
       "            // Asignamos listeners al SVG\n",
       "            svg.addEventListener(\"click\", mouseClick, false);\n",
       "            svg.addEventListener(\"mousemove\", mouseMove, false);\n",
       "            loadImage(svg);\n",
       "            // Asignamos a la vista el elemento SVG\n",
       "            this.el = svg\n",
       "        },\n",
       "    });\n",
       "\n",
       "    return {\n",
       "        ImageLabelerView: ImageLabelerView\n",
       "    };\n",
       "});"
      ],
      "text/plain": [
       "<IPython.core.display.Javascript object>"
      ]
     },
     "metadata": {},
     "output_type": "display_data"
    }
   ],
   "source": [
    "%%javascript\n",
    "require.undef('ImageLabeler');\n",
    "\n",
    "var startX, startY;\n",
    "var count = 0;\n",
    "var rect = null;\n",
    "\n",
    "function getMousePos(evt) {\n",
    "    // Obtenemos posición absoluta del elemento svg\n",
    "    var svgRef = document.getElementById(\"svg\");\n",
    "    var htmlPos = svgRef.getBoundingClientRect();\n",
    "    \n",
    "    return {\n",
    "        x: evt.clientX - htmlPos.left,\n",
    "        y: evt.clientY - htmlPos.top\n",
    "    };\n",
    "}\n",
    "\n",
    "function updateRect(eve, rect){\n",
    "    var pos = getMousePos(eve);\n",
    "    var endX = pos.x;\n",
    "    var endY = pos.y;\n",
    "    if (endX - startX > 0){\n",
    "        var x = startX\n",
    "    }else{\n",
    "        var x = endX;\n",
    "    }\n",
    "\n",
    "    if (endY - startY > 0){\n",
    "        var y = startY\n",
    "    }else{\n",
    "        var y = endY;\n",
    "    }\n",
    "    var width = Math.abs(endX - startX);\n",
    "    var height = Math.abs(endY - startY);\n",
    "    \n",
    "    rect.setAttributeNS(null, 'x', x);\n",
    "    rect.setAttributeNS(null, 'y', y);\n",
    "    rect.setAttributeNS(null, 'height', height);\n",
    "    rect.setAttributeNS(null, 'width', width);\n",
    "}\n",
    "\n",
    "function setStyleRect(rect){\n",
    "    rect.setAttributeNS(null, 'fill', 'transparent');\n",
    "    rect.setAttributeNS(null, 'stroke', 'green');\n",
    "    rect.setAttributeNS(null, 'linewidth', '10px');\n",
    "}\n",
    "\n",
    "function mouseMove(eve) {\n",
    "    if(rect){\n",
    "        updateRect(eve, rect);\n",
    "      }\n",
    "}\n",
    "\n",
    "function mouseClick(eve) {\n",
    "    if (rect !== null) {\n",
    "        rect = null;\n",
    "        console.log(\"finsihed.\");\n",
    "    } else {\n",
    "        var pos = getMousePos(eve);\n",
    "        \n",
    "        startX= pos.x;\n",
    "        startY = pos.y;\n",
    "        \n",
    "        console.log(\"begun.\");\n",
    "        \n",
    "        if(!rect){\n",
    "            rect = document.createElementNS(\"http://www.w3.org/2000/svg\", 'rect');\n",
    "            rect.id = 'rect' + count;\n",
    "            count = count + 1;\n",
    "            \n",
    "            updateRect(eve, rect);\n",
    "\n",
    "            setStyleRect(rect);\n",
    "            document.getElementById('svg').appendChild(rect);\n",
    "          }\n",
    "        }\n",
    "}\n",
    "\n",
    "function loadImage(svg){\n",
    "    svg.innerHTML += '<image xlink:href=\"../rsc/img/family.jpg\" x=\"0\" y=\"0\" height=\"400px\" width=\"400px\"/>'\n",
    "}\n",
    "\n",
    "define('ImageLabeler', [\"jupyter-js-widgets\"], function(widgets) {\n",
    "\n",
    "    var ImageLabelerView = widgets.DOMWidgetView.extend({\n",
    "\n",
    "        // Renderizar vista\n",
    "        render: function() {\n",
    "            // Creamos el SVG\n",
    "            var svg = document.createElementNS(\"http://www.w3.org/2000/svg\", \"svg\");\n",
    "            svg.id = 'svg';\n",
    "            svg.setAttribute('width', '400px');\n",
    "            svg.setAttribute('height', '400px');\n",
    "            \n",
    "            // Asignamos listeners al SVG\n",
    "            svg.addEventListener(\"click\", mouseClick, false);\n",
    "            svg.addEventListener(\"mousemove\", mouseMove, false);\n",
    "            loadImage(svg);\n",
    "            // Asignamos a la vista el elemento SVG\n",
    "            this.el = svg\n",
    "        },\n",
    "    });\n",
    "\n",
    "    return {\n",
    "        ImageLabelerView: ImageLabelerView\n",
    "    };\n",
    "});"
   ]
  },
  {
   "cell_type": "markdown",
   "metadata": {},
   "source": [
    "# Demostración\n",
    "\n",
    "Podemos ver una pequeña demostración de como se puede etiquetar una imagen justo debajo."
   ]
  },
  {
   "cell_type": "code",
   "execution_count": 89,
   "metadata": {
    "collapsed": false
   },
   "outputs": [],
   "source": [
    "ImageLabelerWidget()"
   ]
  },
  {
   "cell_type": "code",
   "execution_count": null,
   "metadata": {
    "collapsed": true
   },
   "outputs": [],
   "source": []
  }
 ],
 "metadata": {
  "kernelspec": {
   "display_name": "Python 3",
   "language": "python",
   "name": "python3"
  },
  "language_info": {
   "codemirror_mode": {
    "name": "ipython",
    "version": 3
   },
   "file_extension": ".py",
   "mimetype": "text/x-python",
   "name": "python",
   "nbconvert_exporter": "python",
   "pygments_lexer": "ipython3",
   "version": "3.5.2"
  },
  "widgets": {
   "state": {
    "c325b43e4bec474f8d496aa3a3d0c0cd": {
     "views": [
      {
       "cell_index": 6
      }
     ]
    }
   },
   "version": "1.2.0"
  }
 },
 "nbformat": 4,
 "nbformat_minor": 2
}
