{
 "cells": [
  {
   "cell_type": "markdown",
   "metadata": {
    "extensions": {
     "jupyter_dashboards": {
      "version": 1,
      "views": {
       "grid_default": {
        "col": 0,
        "height": 4,
        "hidden": false,
        "row": 0,
        "width": 12
       },
       "report_default": {
        "hidden": false
       }
      }
     }
    }
   },
   "source": [
    "<div Style=\"text-align: center;line-height: 30px;font-size:24px;font-weight: bold\"> Etiquetador de imágenes</div>\n",
    "***"
   ]
  },
  {
   "cell_type": "code",
   "execution_count": 290,
   "metadata": {
    "collapsed": true,
    "extensions": {
     "jupyter_dashboards": {
      "version": 1,
      "views": {
       "grid_default": {
        "hidden": true
       },
       "report_default": {
        "hidden": true
       }
      }
     }
    }
   },
   "outputs": [],
   "source": [
    "from __future__ import print_function\n",
    "#Imports\n",
    "%matplotlib inline\n",
    "import numpy as np"
   ]
  },
  {
   "cell_type": "code",
   "execution_count": 291,
   "metadata": {
    "collapsed": true,
    "extensions": {
     "jupyter_dashboards": {
      "version": 1,
      "views": {
       "grid_default": {
        "hidden": true
       },
       "report_default": {
        "hidden": true
       }
      }
     }
    }
   },
   "outputs": [],
   "source": [
    "import ipywidgets as widgets\n",
    "from traitlets import Unicode, validate, Bool, Any, List, observe\n",
    "from ipywidgets import Color\n",
    "from skimage import io\n",
    "from skimage.transform import resize\n",
    "\n",
    "class ImageLabelerWidget(widgets.DOMWidget):\n",
    "    _view_name = Unicode('ImageLabelerView').tag(sync=True)\n",
    "    _view_module = Unicode('ImageLabeler').tag(sync=True)\n",
    "    # Atributos sincronos entre js y python\n",
    "    image = Unicode('blank.png').tag(sync=True)\n",
    "    rect = List().tag(sync=True)\n",
    "    \n",
    "    Phytolith_type = Any().tag(sync=True)\n",
    "    \n",
    "    def __init__(self, *pargs, **kwargs):\n",
    "        super(widgets.DOMWidget, self).__init__(*pargs, **kwargs)\n",
    "        self._rectList = []\n",
    "        \n",
    "    @observe('rect')\n",
    "    def new_rect(self, change):\n",
    "        rec = [round(coord) for coord in change[\"new\"]]\n",
    "        self._rectList.append(rec)\n",
    "        self.save_coords_as_images()\n",
    "        \n",
    "    def save_coords_as_images(self):\n",
    "        image_string = image_labeler.image.title()\n",
    "        image_data = io.imread(image_string)\n",
    "        svg_size = 400\n",
    "        # Rescalamos las coordenadas para que coincidan\n",
    "        # las coordenadas de la vista con las de la imagen original\n",
    "        real_image_h, real_image_w, _ = image_data.shape\n",
    "        \n",
    "        # Calculamos rescalado\n",
    "#         coef_h = real_image_h / svg_size\n",
    "#         coef_w = real_image_w / svg_size\n",
    "        \n",
    "        # TODO Cuidado con si es menor de  svg_size x svg_size\n",
    "        \n",
    "        # Calculamos padding en función de\n",
    "        # los valores de ancho y alto de la imagen\n",
    "        # en la vista\n",
    "        if real_image_h > real_image_w:\n",
    "            coef = real_image_h / svg_size\n",
    "            svg_image_h = svg_size\n",
    "            svg_image_w = round(real_image_w / coef)\n",
    "        else:\n",
    "            coef = real_image_w / svg_size\n",
    "            svg_image_w = svg_size\n",
    "            svg_image_h = round(real_image_h / coef)\n",
    "        \n",
    "        coef_h = real_image_h / svg_image_h\n",
    "        coef_w = real_image_w / svg_image_w\n",
    "#         print(\"svg image size: \",svg_image_h, svg_image_w)\n",
    "#         print(\"real image size: \",real_image_h, real_image_w)\n",
    "        \n",
    "        svg_padding_h = (svg_size - svg_image_h) / 2\n",
    "        svg_padding_w = (svg_size - svg_image_w) / 2\n",
    "        \n",
    "#         print(\"svg image padding: \",svg_padding_h, svg_padding_w)\n",
    "#         print(\"coefs: \",coef_h, coef_w)\n",
    "        \n",
    "        # Por cada rectangulo generamos una nueva imagen\n",
    "        for rect_y, rect_x, rect_width, rect_height in self._rectList:\n",
    "            \n",
    "#             print(rect_x,rect_x+rect_height,rect_y,rect_y+rect_width)\n",
    "            \n",
    "            rect_x = round((rect_x - svg_padding_h) * coef_h)\n",
    "            rect_y = round((rect_y - svg_padding_w) * coef_w)\n",
    "            rect_height = round(rect_height * coef_h)\n",
    "            rect_width = round(rect_width * coef_w)\n",
    "            #TODO comprobar que no se sale de la imagen\n",
    "            \n",
    "#             print(rect_x,rect_x+rect_height,rect_y,rect_y+rect_width)\n",
    "            \n",
    "            name = str(rect_x)+str(rect_y)+\".jpg\"\n",
    "            img = image_data[rect_x:rect_x+rect_height,rect_y:rect_y+rect_width]\n",
    "            \n",
    "            io.imsave(name, img)"
   ]
  },
  {
   "cell_type": "code",
   "execution_count": 292,
   "metadata": {
    "extensions": {
     "jupyter_dashboards": {
      "version": 1,
      "views": {
       "grid_default": {
        "hidden": true
       },
       "report_default": {
        "hidden": true
       }
      }
     }
    }
   },
   "outputs": [
    {
     "data": {
      "application/javascript": [
       "require.undef('ImageLabeler');\n",
       "\n",
       "var startX, startY;\n",
       "var count = 0;\n",
       "var rect = null;\n",
       "var rectsList = [];\n",
       "var model;\n",
       "var myThis;\n",
       "\n",
       "function getMousePos(evt) {\n",
       "    // Obtenemos posición absoluta del elemento svg\n",
       "    var svgRef = document.getElementById(\"svg\");\n",
       "    var htmlPos = svgRef.getBoundingClientRect();\n",
       "    return {\n",
       "        x: evt.clientX - htmlPos.left,\n",
       "        y: evt.clientY - htmlPos.top\n",
       "    };\n",
       "}\n",
       "\n",
       "function updateRect(eve, rect){\n",
       "    var pos = getMousePos(eve);\n",
       "    var endX = pos.x;\n",
       "    var endY = pos.y;\n",
       "    if (endX - startX > 0){\n",
       "        var x = startX\n",
       "    }else{\n",
       "        var x = endX;\n",
       "    }\n",
       "\n",
       "    if (endY - startY > 0){\n",
       "        var y = startY\n",
       "    }else{\n",
       "        var y = endY;\n",
       "    }\n",
       "    var width = Math.abs(endX - startX);\n",
       "    var height = Math.abs(endY - startY);\n",
       "    \n",
       "    rect.setAttributeNS(null, 'x', x);\n",
       "    rect.setAttributeNS(null, 'y', y);\n",
       "    rect.setAttributeNS(null, 'height', height);\n",
       "    rect.setAttributeNS(null, 'width', width);\n",
       "}\n",
       "\n",
       "function setStyleRect(rect){\n",
       "    rect.setAttributeNS(null, 'fill', 'transparent');\n",
       "    rect.setAttributeNS(null, 'stroke', 'green');\n",
       "    rect.setAttributeNS(null, 'linewidth', '10px');\n",
       "}\n",
       "\n",
       "function mouseMove(eve) {\n",
       "    if(rect){\n",
       "        updateRect(eve, rect);\n",
       "      }\n",
       "}\n",
       "\n",
       "function mouseClick(eve) {\n",
       "    if (rect !== null) {\n",
       "        //Cada vez que finalizamos el rectangulo\n",
       "        // , le añadimos a la lista\n",
       "        console.log(rect.x['baseVal'].value,rect.y['baseVal'].value,rect.width['baseVal'].value,rect.height['baseVal'].value);\n",
       "        rectsList = [];\n",
       "        model.set('rect',[rect.x['baseVal'].value,rect.y['baseVal'].value,rect.width['baseVal'].value,rect.height['baseVal'].value]);\n",
       "        myThis.touch();\n",
       "        rect = null;\n",
       "        console.log(\"finsihed.\");\n",
       "    } else {\n",
       "        var pos = getMousePos(eve);\n",
       "        \n",
       "        startX= pos.x;\n",
       "        startY = pos.y;\n",
       "        \n",
       "        console.log(\"begun.\");\n",
       "        \n",
       "        if(!rect){\n",
       "            rect = document.createElementNS(\"http://www.w3.org/2000/svg\", 'rect');\n",
       "            rect.id = 'rect' + count;\n",
       "            count = count + 1;\n",
       "            \n",
       "            updateRect(eve, rect);\n",
       "\n",
       "            setStyleRect(rect);\n",
       "            document.getElementById('svg').appendChild(rect);\n",
       "          }\n",
       "        }\n",
       "}\n",
       "\n",
       "// Funciones para la carga y cambio de imagen\n",
       "function loadImage(svg, src){\n",
       "    svg.innerHTML = '<image id=\"image\" xlink:href=\"'+ src +'\" x=\"0\" y=\"0\" height=\"400px\" width=\"400px\"/>'\n",
       "}\n",
       "\n",
       "function changeImage(svg, el, image){\n",
       "    console.log(\"Cambio de imagen\");\n",
       "    console.log(image);\n",
       "    svg.innerHTML = '<image id=\"image\" xlink:href=\"' + image + '\" x=\"0\" y=\"0\" height=\"400px\" width=\"400px\"/>';\n",
       "    el = svg\n",
       "}\n",
       "\n",
       "\n",
       "// Definición del Widget en javasript\n",
       "define('ImageLabeler', [\"jupyter-js-widgets\"], function(widgets) {\n",
       "    var svg;\n",
       "    var ImageLabelerView = widgets.DOMWidgetView.extend({\n",
       "        // Renderizar vista\n",
       "        render: function() {\n",
       "            model = this.model;\n",
       "            myThis = this;\n",
       "            // Creamos el SVG\n",
       "            svg = document.createElementNS(\"http://www.w3.org/2000/svg\", \"svg\");\n",
       "            svg.id = 'svg';\n",
       "            svg.setAttribute('width', '400px');\n",
       "            svg.setAttribute('height', '400px');\n",
       "            \n",
       "            // Asignamos listeners al SVG\n",
       "            svg.addEventListener(\"click\", mouseClick, false);\n",
       "            svg.addEventListener(\"mousemove\", mouseMove, false);\n",
       "            \n",
       "            // Imágen\n",
       "            var src = \"../rsc/img/family.jpg\";\n",
       "            loadImage(svg, src);\n",
       "            // Listener para cambios de imagen\n",
       "            this.image_changed();\n",
       "            this.model.on('change:image', this.image_changed, this);\n",
       "            \n",
       "            // Asignamos a la vista el elemento SVG\n",
       "            this.el = svg\n",
       "        },\n",
       "        // Función que se encarga del cambio de imagen\n",
       "         image_changed: function() {\n",
       "             var image = this.model.get('image');\n",
       "             changeImage(svg, this.el, image);\n",
       "        },\n",
       "    });\n",
       "\n",
       "    return {\n",
       "        ImageLabelerView: ImageLabelerView\n",
       "    };\n",
       "});"
      ],
      "text/plain": [
       "<IPython.core.display.Javascript object>"
      ]
     },
     "metadata": {},
     "output_type": "display_data"
    }
   ],
   "source": [
    "%%javascript\n",
    "require.undef('ImageLabeler');\n",
    "\n",
    "var startX, startY;\n",
    "var count = 0;\n",
    "var rect = null;\n",
    "var rectsList = [];\n",
    "var model;\n",
    "var myThis;\n",
    "\n",
    "function getMousePos(evt) {\n",
    "    // Obtenemos posición absoluta del elemento svg\n",
    "    var svgRef = document.getElementById(\"svg\");\n",
    "    var htmlPos = svgRef.getBoundingClientRect();\n",
    "    return {\n",
    "        x: evt.clientX - htmlPos.left,\n",
    "        y: evt.clientY - htmlPos.top\n",
    "    };\n",
    "}\n",
    "\n",
    "function updateRect(eve, rect){\n",
    "    var pos = getMousePos(eve);\n",
    "    var endX = pos.x;\n",
    "    var endY = pos.y;\n",
    "    if (endX - startX > 0){\n",
    "        var x = startX\n",
    "    }else{\n",
    "        var x = endX;\n",
    "    }\n",
    "\n",
    "    if (endY - startY > 0){\n",
    "        var y = startY\n",
    "    }else{\n",
    "        var y = endY;\n",
    "    }\n",
    "    var width = Math.abs(endX - startX);\n",
    "    var height = Math.abs(endY - startY);\n",
    "    \n",
    "    rect.setAttributeNS(null, 'x', x);\n",
    "    rect.setAttributeNS(null, 'y', y);\n",
    "    rect.setAttributeNS(null, 'height', height);\n",
    "    rect.setAttributeNS(null, 'width', width);\n",
    "}\n",
    "\n",
    "function setStyleRect(rect){\n",
    "    rect.setAttributeNS(null, 'fill', 'transparent');\n",
    "    rect.setAttributeNS(null, 'stroke', 'green');\n",
    "    rect.setAttributeNS(null, 'linewidth', '10px');\n",
    "}\n",
    "\n",
    "function mouseMove(eve) {\n",
    "    if(rect){\n",
    "        updateRect(eve, rect);\n",
    "      }\n",
    "}\n",
    "\n",
    "function mouseClick(eve) {\n",
    "    if (rect !== null) {\n",
    "        //Cada vez que finalizamos el rectangulo\n",
    "        // , le añadimos a la lista\n",
    "        console.log(rect.x['baseVal'].value,rect.y['baseVal'].value,rect.width['baseVal'].value,rect.height['baseVal'].value);\n",
    "        rectsList = [];\n",
    "        model.set('rect',[rect.x['baseVal'].value,rect.y['baseVal'].value,rect.width['baseVal'].value,rect.height['baseVal'].value]);\n",
    "        myThis.touch();\n",
    "        rect = null;\n",
    "        console.log(\"finsihed.\");\n",
    "    } else {\n",
    "        var pos = getMousePos(eve);\n",
    "        \n",
    "        startX= pos.x;\n",
    "        startY = pos.y;\n",
    "        \n",
    "        console.log(\"begun.\");\n",
    "        \n",
    "        if(!rect){\n",
    "            rect = document.createElementNS(\"http://www.w3.org/2000/svg\", 'rect');\n",
    "            rect.id = 'rect' + count;\n",
    "            count = count + 1;\n",
    "            \n",
    "            updateRect(eve, rect);\n",
    "\n",
    "            setStyleRect(rect);\n",
    "            document.getElementById('svg').appendChild(rect);\n",
    "          }\n",
    "        }\n",
    "}\n",
    "\n",
    "// Funciones para la carga y cambio de imagen\n",
    "function loadImage(svg, src){\n",
    "    svg.innerHTML = '<image id=\"image\" xlink:href=\"'+ src +'\" x=\"0\" y=\"0\" height=\"400px\" width=\"400px\"/>'\n",
    "}\n",
    "\n",
    "function changeImage(svg, el, image){\n",
    "    console.log(\"Cambio de imagen\");\n",
    "    console.log(image);\n",
    "    svg.innerHTML = '<image id=\"image\" xlink:href=\"' + image + '\" x=\"0\" y=\"0\" height=\"400px\" width=\"400px\"/>';\n",
    "    el = svg\n",
    "}\n",
    "\n",
    "\n",
    "// Definición del Widget en javasript\n",
    "define('ImageLabeler', [\"jupyter-js-widgets\"], function(widgets) {\n",
    "    var svg;\n",
    "    var ImageLabelerView = widgets.DOMWidgetView.extend({\n",
    "        // Renderizar vista\n",
    "        render: function() {\n",
    "            model = this.model;\n",
    "            myThis = this;\n",
    "            // Creamos el SVG\n",
    "            svg = document.createElementNS(\"http://www.w3.org/2000/svg\", \"svg\");\n",
    "            svg.id = 'svg';\n",
    "            svg.setAttribute('width', '400px');\n",
    "            svg.setAttribute('height', '400px');\n",
    "            \n",
    "            // Asignamos listeners al SVG\n",
    "            svg.addEventListener(\"click\", mouseClick, false);\n",
    "            svg.addEventListener(\"mousemove\", mouseMove, false);\n",
    "            \n",
    "            // Imágen\n",
    "            var src = \"../rsc/img/family.jpg\";\n",
    "            loadImage(svg, src);\n",
    "            // Listener para cambios de imagen\n",
    "            this.image_changed();\n",
    "            this.model.on('change:image', this.image_changed, this);\n",
    "            \n",
    "            // Asignamos a la vista el elemento SVG\n",
    "            this.el = svg\n",
    "        },\n",
    "        // Función que se encarga del cambio de imagen\n",
    "         image_changed: function() {\n",
    "             var image = this.model.get('image');\n",
    "             changeImage(svg, this.el, image);\n",
    "        },\n",
    "    });\n",
    "\n",
    "    return {\n",
    "        ImageLabelerView: ImageLabelerView\n",
    "    };\n",
    "});"
   ]
  },
  {
   "cell_type": "markdown",
   "metadata": {
    "extensions": {
     "jupyter_dashboards": {
      "version": 1,
      "views": {
       "grid_default": {
        "col": 8,
        "height": 4,
        "hidden": true,
        "row": 17,
        "width": 4
       },
       "report_default": {
        "hidden": false
       }
      }
     }
    }
   },
   "source": [
    "# Añadimos más widgets\n",
    "\n",
    "En esta celda añadimos el *file upload*"
   ]
  },
  {
   "cell_type": "code",
   "execution_count": 293,
   "metadata": {
    "collapsed": true,
    "extensions": {
     "jupyter_dashboards": {
      "version": 1,
      "views": {
       "grid_default": {
        "hidden": true
       },
       "report_default": {
        "hidden": true
       }
      }
     }
    }
   },
   "outputs": [],
   "source": [
    "from IPython.display import display\n",
    "import fileupload\n",
    "import PIL.Image\n",
    "import io as io2\n",
    "from skimage.color import rgb2gray\n",
    "\n",
    "''' Función que se encarga de aplicar las operaciones \n",
    "necesarias para convertir los datos obtenidos del FileUpload\n",
    "en una imagen'''\n",
    "def imageConverter(change):\n",
    "        ch = change['owner']\n",
    "        image = io2.BytesIO(ch.data)\n",
    "        image = PIL.Image.open(image)\n",
    "        image = np.array(image)\n",
    "        # Además, eliminamos la anterior \n",
    "        # y la guardamos\n",
    "        rand = np.random.randint(0,1e6)\n",
    "        #os.remove(rand + \".jpg\")\n",
    "        io.imsave(str(rand) + \".jpg\",image)\n",
    "        return str(rand) + \".jpg\""
   ]
  },
  {
   "cell_type": "markdown",
   "metadata": {
    "extensions": {
     "jupyter_dashboards": {
      "version": 1,
      "views": {
       "grid_default": {
        "col": 0,
        "height": 4,
        "hidden": true,
        "row": 17,
        "width": 4
       },
       "report_default": {
        "hidden": false
       }
      }
     }
    }
   },
   "source": [
    "### Inicializamos el resto de Widgets"
   ]
  },
  {
   "cell_type": "code",
   "execution_count": 294,
   "metadata": {
    "collapsed": true,
    "extensions": {
     "jupyter_dashboards": {
      "version": 1,
      "views": {
       "grid_default": {
        "col": 4,
        "height": 4,
        "hidden": true,
        "row": 17,
        "width": 4
       },
       "report_default": {
        "hidden": false
       }
      }
     }
    }
   },
   "outputs": [],
   "source": [
    "from ipywidgets import HBox, VBox, Label, Layout\n",
    "\n",
    "#  Inicializamos el label título\n",
    "title = Label(value = 'Etiquetador de imágenes')\n",
    "#title.layout.align_items\n",
    "title.layout.margin = '0 0 0 35%'\n",
    "#print(title.layout)\n",
    "\n",
    "#Inicializamos Widget de File Upload\n",
    "upload_widget = fileupload.FileUploadWidget()\n",
    "upload_widget.description = '(50% width, 80px height) button'\n",
    "\n",
    "# Inicializamos Widget etiquetador de imágenes\n",
    "image_labeler = ImageLabelerWidget()\n",
    "# Callback para el cambio de imagen\n",
    "def _cb(change):\n",
    "    # Guardamos imagen\n",
    "    image = imageConverter(change)\n",
    "    # Sincronizamos cambio\n",
    "    image_labeler.image = image\n",
    "\n",
    "upload_widget.observe(_cb, names='data')\n",
    "\n",
    "#\n",
    "btns_selector =widgets.ToggleButtons(\n",
    "    options=['Fitolito tipo 1', \n",
    "             'Fitolito tipo 2', \n",
    "             'Fitolito tipo 3',\n",
    "             'Fitolito tipo 4',\n",
    "             'Fitolito tipo 5',\n",
    "             'Fitolito tipo 6',\n",
    "             'Fitolito tipo 7',\n",
    "             'Fitolito tipo 8'],\n",
    "    #description='Tipo de fitolito',\n",
    "    disabled=False,\n",
    "    # 'success', 'info', 'warning', 'danger' or ''\n",
    "    button_style='',\n",
    "    tooltip='Description',\n",
    "    #icon='check'\n",
    ")\n",
    "'''Función que se encarga de hacer los cambios \n",
    "necesarios al cambiar el fitolito que se etiqueta'''\n",
    "def on_phytolith_change(change):\n",
    "    new_dir = change['new']\n",
    "#     print(new_dir)\n",
    "    dirs_set.change_dir(new_dir)\n",
    "    \n",
    "\n",
    "# listener del cambio de fitolito\n",
    "btns_selector.observe(on_phytolith_change,names='value')\n",
    "\n",
    "# Formato de los widgets\n",
    "right_size_widget = VBox([upload_widget, btns_selector])\n",
    "right_size_widget.width = '10%'\n",
    "right_size_widget.margin = '5% 5% 5% 5%'\n",
    "btns_selector.padding = '10%'\n",
    "upload_widget.padding = '10%'\n",
    "image_labeler.margin = '5% 10% 0% 0%'\n",
    "upload_widget.margin = '0 0 18% 12%'\n",
    "upload_widget.width = 'auto'"
   ]
  },
  {
   "cell_type": "code",
   "execution_count": 295,
   "metadata": {
    "collapsed": true,
    "extensions": {
     "jupyter_dashboards": {
      "version": 1,
      "views": {
       "grid_default": {
        "col": 2,
        "height": 17,
        "hidden": false,
        "row": 4,
        "width": 9
       },
       "report_default": {
        "hidden": false
       }
      }
     }
    }
   },
   "outputs": [],
   "source": [
    "HBox([image_labeler,right_size_widget])"
   ]
  }
 ],
 "metadata": {
  "anaconda-cloud": {},
  "extensions": {
   "jupyter_dashboards": {
    "activeView": "grid_default",
    "version": 1,
    "views": {
     "grid_default": {
      "cellMargin": 10,
      "defaultCellHeight": 20,
      "maxColumns": 12,
      "name": "grid",
      "type": "grid"
     },
     "report_default": {
      "name": "report",
      "type": "report"
     }
    }
   }
  },
  "kernelspec": {
   "display_name": "Python [default]",
   "language": "python",
   "name": "python3"
  },
  "language_info": {
   "codemirror_mode": {
    "name": "ipython",
    "version": 3
   },
   "file_extension": ".py",
   "mimetype": "text/x-python",
   "name": "python",
   "nbconvert_exporter": "python",
   "pygments_lexer": "ipython3",
   "version": "3.5.2"
  },
  "widgets": {
   "state": {
    "300950aebd2643ba8933d32fa2b44f63": {
     "views": [
      {
       "cell_index": 10
      }
     ]
    },
    "33e2c158b28c4502bff1c2a1f31d96fe": {
     "views": [
      {
       "cell_index": 8
      }
     ]
    }
   },
   "version": "1.2.0"
  }
 },
 "nbformat": 4,
 "nbformat_minor": 2
}
