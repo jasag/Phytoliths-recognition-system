{
 "cells": [
  {
   "cell_type": "markdown",
   "metadata": {
    "extensions": {
     "jupyter_dashboards": {
      "version": 1,
      "views": {
       "grid_default": {
        "col": 0,
        "height": 4,
        "hidden": false,
        "row": 0,
        "width": 12
       },
       "report_default": {
        "hidden": false
       }
      }
     }
    }
   },
   "source": [
    "<div Style=\"text-align: center;line-height: 30px;font-size:24px;font-weight: bold\"> Etiquetador de imágenes</div>\n",
    "***"
   ]
  },
  {
   "cell_type": "code",
   "execution_count": 17,
   "metadata": {
    "collapsed": true,
    "extensions": {
     "jupyter_dashboards": {
      "version": 1,
      "views": {
       "grid_default": {
        "hidden": true
       },
       "report_default": {
        "hidden": true
       }
      }
     }
    }
   },
   "outputs": [],
   "source": [
    "from __future__ import print_function\n",
    "#Importss\n",
    "%matplotlib inline\n",
    "import numpy as np"
   ]
  },
  {
   "cell_type": "markdown",
   "metadata": {
    "extensions": {
     "jupyter_dashboards": {
      "version": 1,
      "views": {
       "grid_default": {
        "col": 0,
        "height": 4,
        "hidden": true,
        "row": 22,
        "width": 4
       },
       "report_default": {
        "hidden": true
       }
      }
     }
    }
   },
   "source": [
    "### Añadimos capacidad de mostrar notificaciones"
   ]
  },
  {
   "cell_type": "code",
   "execution_count": 18,
   "metadata": {
    "extensions": {
     "jupyter_dashboards": {
      "version": 1,
      "views": {
       "grid_default": {
        "hidden": true
       },
       "report_default": {
        "hidden": true
       }
      }
     }
    }
   },
   "outputs": [
    {
     "data": {
      "application/javascript": [
       "\n",
       "// Añadimos script que nos permite mostrar notificaciones bootstrap-growl\n",
       "$('head').append('<script src=\"../notebooks/bootstrap-growl/jquery.bootstrap-growl.min.js\">');"
      ],
      "text/plain": [
       "<IPython.core.display.Javascript object>"
      ]
     },
     "metadata": {},
     "output_type": "display_data"
    }
   ],
   "source": [
    "%%javascript\n",
    "\n",
    "// Añadimos script que nos permite mostrar notificaciones bootstrap-growl\n",
    "$('head').append('<script src=\"../notebooks/bootstrap-growl/jquery.bootstrap-growl.min.js\">');"
   ]
  },
  {
   "cell_type": "markdown",
   "metadata": {
    "extensions": {
     "jupyter_dashboards": {
      "version": 1,
      "views": {
       "grid_default": {
        "col": 4,
        "height": 4,
        "hidden": true,
        "row": 22,
        "width": 4
       },
       "report_default": {
        "hidden": true
       }
      }
     }
    }
   },
   "source": [
    "# Creamos el Widget Etiquetador de imágenes"
   ]
  },
  {
   "cell_type": "code",
   "execution_count": 19,
   "metadata": {
    "collapsed": true,
    "extensions": {
     "jupyter_dashboards": {
      "version": 1,
      "views": {
       "grid_default": {
        "hidden": true
       },
       "report_default": {
        "hidden": true
       }
      }
     }
    }
   },
   "outputs": [],
   "source": [
    "import ipywidgets as widgets\n",
    "from traitlets import Unicode, validate, Bool, CBool,Any, List, observe\n",
    "from ipywidgets import Color\n",
    "from skimage import io\n",
    "from skimage.transform import resize\n",
    "\n",
    "\n",
    "class ImageLabelerWidget(widgets.DOMWidget):\n",
    "    _view_name = Unicode('ImageLabelerView').tag(sync=True)\n",
    "    _view_module = Unicode('ImageLabeler').tag(sync=True)\n",
    "    # Atributos sincronos entre js y python\n",
    "    image = Unicode('blank.png').tag(sync=True)\n",
    "    rect = List().tag(sync=True)\n",
    "    rect_to_add = List().tag(sync=True)\n",
    "    \n",
    "    removed_rect = List().tag(sync=True)\n",
    "    # Intento de carga de imágen incorrecto notificación\n",
    "    error_loading = Unicode('').tag(sync=True)\n",
    "    # Imagen guardada correctamente notificación\n",
    "    saved_successfuly = Unicode('').tag(sync=True)\n",
    "    # Texto a incluir en el rectangulo\n",
    "    text = Unicode('').tag(sync=True)\n",
    "    \n",
    "    Phytolith_type = Any().tag(sync=True)\n",
    "    \n",
    "    def __init__(self, *pargs, **kwargs):\n",
    "        super(widgets.DOMWidget, self).__init__(*pargs, **kwargs)\n",
    "        self._rectList = []\n",
    "        self._removed_rectList = []\n",
    "        # Para patron observer\n",
    "        self._rectList_observers = []\n",
    "        self._removed_rectList_observers = []\n",
    "    \n",
    "    '''Método que se encarga de recibir la notificación\n",
    "    de la adicción de unas nuevas coordenadas a la imagen'''\n",
    "    @observe('rect')\n",
    "    def new_rect(self, change):\n",
    "        rec = change[\"new\"]\n",
    "        self._rectList.append(rec)\n",
    "        # Callback a observers\n",
    "        for callback in self._rectList_observers:\n",
    "            callback(self._rectList)\n",
    "            \n",
    "    '''Método que se encarga de recibir la notificación\n",
    "    de la eliminación de unas nuevas coordenadas a la imagen'''\n",
    "    @observe('removed_rect')\n",
    "    def old_rect(self, change):\n",
    "        removed_rec = change[\"new\"]\n",
    "        self._removed_rectList.append(removed_rec)\n",
    "        # Callback a observers\n",
    "        for callback in self._removed_rectList_observers:\n",
    "            callback(self._removed_rectList)\n",
    "    \n",
    "    '''Método para enlazar al observer con\n",
    "    el atributo rectList'''\n",
    "    def rectList_bind_to(self, callback):\n",
    "        self._rectList_observers.append(callback)\n",
    "    \n",
    "    '''Método para enlazar al observer con\n",
    "    el atributo removed_rect'''\n",
    "    def removed_rect_bind_to(self, callback):\n",
    "        self._removed_rectList_observers.append(callback)\n",
    "    \n",
    "    def get_rectList(self):\n",
    "        return self._rectList\n",
    "    \n",
    "    def set_rectList(self, value):\n",
    "        self._rectList = value"
   ]
  },
  {
   "cell_type": "code",
   "execution_count": 20,
   "metadata": {
    "collapsed": true,
    "extensions": {
     "jupyter_dashboards": {
      "version": 1,
      "views": {
       "grid_default": {
        "hidden": true
       },
       "report_default": {
        "hidden": true
       }
      }
     }
    }
   },
   "outputs": [],
   "source": [
    "import csv, json\n",
    "from datetime import datetime\n",
    "\n",
    "''' Rescalamos las coordenadas para que coincidan \n",
    "las coordenadas de la vista con las de la imagen original'''\n",
    "def transform_coords(coords, svg_size, image_size):\n",
    "    \n",
    "    real_image_h, real_image_w, _ = image_size\n",
    "    # TODO Cuidado con si es menor de  svg_size x svg_size\n",
    "\n",
    "    # Rescalado de la imagen en la vista\n",
    "    if real_image_h > real_image_w:\n",
    "        coef = real_image_h / svg_size\n",
    "        svg_image_h = svg_size\n",
    "        svg_image_w = round(real_image_w / coef)\n",
    "    else:\n",
    "        coef = real_image_w / svg_size\n",
    "        svg_image_w = svg_size\n",
    "        svg_image_h = round(real_image_h / coef)\n",
    "        \n",
    "    # Coeficientes de rescalado\n",
    "    coef_h = real_image_h / svg_image_h\n",
    "    coef_w = real_image_w / svg_image_w\n",
    "    \n",
    "    # Calculamos padding en función de\n",
    "    # los valores de ancho y alto de la imagen\n",
    "    # en la vista\n",
    "    svg_padding_h = (svg_size - svg_image_h) / 2\n",
    "    svg_padding_w = (svg_size - svg_image_w) / 2\n",
    "    \n",
    "    #TODO comprobar que las coordenadas no se salen de la imagen\n",
    "    \n",
    "    new_coords = []\n",
    "    # Por cada rectangulo generamos una nueva imagen\n",
    "    # siempre que se encuentre dentro de la imagen\n",
    "    for rect_y, rect_x, rect_width, rect_height in coords:\n",
    "        rect_x = round((rect_x - svg_padding_h) * coef_h)\n",
    "        rect_y = round((rect_y - svg_padding_w) * coef_w)\n",
    "        rect_height = round(rect_height * coef_h)\n",
    "        rect_width = round(rect_width * coef_w)\n",
    "        rect_x2 = rect_x+rect_height\n",
    "        rect_y2 = rect_y+rect_width\n",
    "        \n",
    "        if rect_x > 0 and rect_x2 < real_image_h \\\n",
    "        and rect_y2 < real_image_w and rect_y > 0:\n",
    "            new_coords.append((rect_x, rect_x2, rect_y, rect_y2))   \n",
    "    return new_coords"
   ]
  },
  {
   "cell_type": "code",
   "execution_count": 21,
   "metadata": {
    "collapsed": true,
    "extensions": {
     "jupyter_dashboards": {
      "version": 1,
      "views": {
       "grid_default": {
        "hidden": true
       },
       "report_default": {
        "hidden": true
       }
      }
     }
    }
   },
   "outputs": [],
   "source": [
    "def additional_text():\n",
    "    # Timestamp for jpg files\n",
    "    time = datetime.today()\n",
    "    year = time.year\n",
    "    month = time.month\n",
    "    day = time.day\n",
    "    hour = time.hour\n",
    "    minute = time.minute\n",
    "    \n",
    "    return str(year) + '_' + str(month) + '_' + str(day) \\\n",
    "+ '_' + str(hour) + '_' + str(minute)\n",
    "\n",
    "'''Función que genera las imágenes a partir de las coordenadas'''\n",
    "def save_coords_as_images(coords, image, dest_path, image_name):\n",
    "    add_text = additional_text()\n",
    "    # Por cada conjunto de rectangulos generamos una nueva imagen\n",
    "    for rect_x, rect_x2, rect_y, rect_y2 in coords:\n",
    "        name = image_name + str(rect_x) + \\\n",
    "        'X'+ str(rect_x2) + 'X2'+str(rect_y) \\\n",
    "        + 'Y' + str(rect_y2) + 'Y2' + \".jpg\"\n",
    "        \n",
    "        img = image[rect_x:rect_x2,rect_y:rect_y2]\n",
    "        io.imsave(dest_path+name, img)\n",
    "\n",
    "'''Función que genera un fichero CSV a partir de las coordenadas'''\n",
    "def save_coords_as_csv(coords, dest_path, image_name):\n",
    "    with open(dest_path+image_name+'.csv', 'w', newline='') as csvfile:\n",
    "        coords_writer = csv.writer(csvfile, delimiter=',',\n",
    "                                   quotechar='|', quoting = csv.QUOTE_MINIMAL)\n",
    "        # Por cada conjunto de rectangulos generamos una nueva imagen\n",
    "        for rect_x, rect_x2, rect_y, rect_y2 in coords:\n",
    "            coords_writer.writerow([rect_x,rect_x2,rect_y,rect_y2])\n",
    "\n",
    "'''Función que genera un fichero JSON a partir de las coordenadas'''\n",
    "def save_coords_as_json(coords, dest_path, image_name):\n",
    "    with open(dest_path+image_name+'.json', 'w') as jsonfile:\n",
    "        coords_dict = dict()\n",
    "        coords_dict[image_name+'.jpg'] = coords\n",
    "        json.dump(coords_dict, jsonfile)\n",
    "\n",
    "'''Función que genera todos los ficheros anteriores'''\n",
    "def save_as_all_formats(coords, image, dest_path, image_name):\n",
    "    save_coords_as_images(coords, image, dest_path, image_name)\n",
    "    save_coords_as_csv(coords, dest_path, image_name)\n",
    "    save_coords_as_json(coords, dest_path, image_name)"
   ]
  },
  {
   "cell_type": "code",
   "execution_count": 22,
   "metadata": {
    "extensions": {
     "jupyter_dashboards": {
      "version": 1,
      "views": {
       "grid_default": {
        "hidden": true
       },
       "report_default": {
        "hidden": true
       }
      }
     }
    }
   },
   "outputs": [
    {
     "data": {
      "application/javascript": [
       "\n",
       "//Añadimos estilo a las notificaciones:\n",
       "\n",
       "var error_type ='danger';\n",
       "var success_type ='success';\n",
       "var info_type = 'info';\n",
       "\n",
       "var notify_style = {\n",
       "  ele: 'body', // which element to append to\n",
       "  offset: {from: 'bottom', amount: 20}, // 'top', or 'bottom'\n",
       "  align: 'left', // ('left', 'right', or 'center')\n",
       "  width: 'auto',//250, // (integer, or 'auto')\n",
       "  delay: 4000, // Time while the message will be displayed. It's not equivalent to the *demo* timeOut!\n",
       "  allow_dismiss: true, // If true then will display a cross to close the popup.\n",
       "  stackup_spacing: 10, // spacing between consecutively stacked growls.\n",
       "}\n",
       "\n",
       "function change_style(style, type){\n",
       "    style['type'] = type;\n",
       "}\n",
       "\n",
       "function sucess_image_notify(image_name){\n",
       "    change_style(notify_style, success_type);\n",
       "    if (image_name != \"blank.png\"){\n",
       "        var notify_msg = \"La imagen \" + image_name + \" ha sido cargada correctamente!\";\n",
       "        $.bootstrapGrowl(notify_msg, notify_style);\n",
       "    }\n",
       "}\n",
       "\n",
       "function error_image_notify(file_name){\n",
       "    change_style(notify_style, error_type);\n",
       "    if(file_name != \"blank.png\"){\n",
       "        var notify_msg = \"El fichero \" + file_name + \" no \" +\n",
       "            \"tiene formato de imagen. Ejemplo: jpeg, jpg, tif, tiff, png \";\n",
       "        $.bootstrapGrowl(notify_msg, notify_style);\n",
       "    }\n",
       "}\n",
       "\n",
       "function success_saving_labels_notify(file_name){\n",
       "    change_style(notify_style, success_type);\n",
       "    if(file_name != \"blank.png\"){\n",
       "        var notify_msg = \" Las etiquetas para la imagen \" + file_name + \" han \" +\n",
       "            \"sido guardadas correctamente \";\n",
       "        $.bootstrapGrowl(notify_msg, notify_style);\n",
       "    }\n",
       "}\n",
       "\n",
       "// JS Widget\n",
       "\n",
       "require.undef('ImageLabeler');\n",
       "\n",
       "var startX, startY;\n",
       "var count = 0;\n",
       "var rect = null;\n",
       "var rectsList = [];\n",
       "var model;\n",
       "var myThis;\n",
       "\n",
       "function getMousePos(evt) {\n",
       "    // Obtenemos posición absoluta del elemento svg\n",
       "    var svgRef = document.getElementById(\"svg\");\n",
       "    var htmlPos = svgRef.getBoundingClientRect();\n",
       "    return {\n",
       "        x: evt.clientX - htmlPos.left,\n",
       "        y: evt.clientY - htmlPos.top\n",
       "    };\n",
       "}\n",
       "\n",
       "function updateRect(eve, rect){\n",
       "    var pos = getMousePos(eve);\n",
       "    var endX = pos.x;\n",
       "    var endY = pos.y;\n",
       "    if (endX - startX > 0){\n",
       "        var x = startX\n",
       "    }else{\n",
       "        var x = endX;\n",
       "    }\n",
       "\n",
       "    if (endY - startY > 0){\n",
       "        var y = startY\n",
       "    }else{\n",
       "        var y = endY;\n",
       "    }\n",
       "    var width = Math.abs(endX - startX);\n",
       "    var height = Math.abs(endY - startY);\n",
       "    \n",
       "    rect.setAttributeNS(null, 'x', x);\n",
       "    rect.setAttributeNS(null, 'y', y);\n",
       "    rect.setAttributeNS(null, 'height', height);\n",
       "    rect.setAttributeNS(null, 'width', width);\n",
       "}\n",
       "\n",
       "function setStyleRect(rect){\n",
       "    rect.setAttributeNS(null, 'fill', 'transparent');\n",
       "    rect.setAttributeNS(null, 'stroke', 'green');\n",
       "    rect.setAttributeNS(null, 'linewidth', '10px');\n",
       "}\n",
       "\n",
       "function mouseMove(eve) {\n",
       "    if(rect){\n",
       "        updateRect(eve, rect);\n",
       "      }\n",
       "}\n",
       "\n",
       "function mouseClick(eve) {\n",
       "    if (rect !== null) {\n",
       "        //Cada vez que finalizamos el rectangulo\n",
       "        // , le añadimos a la lista\n",
       "        console.log(rect.x['baseVal'].value,rect.y['baseVal'].value,rect.width['baseVal'].value,rect.height['baseVal'].value);\n",
       "        rectsList = [];\n",
       "        model.set('rect',[rect.x['baseVal'].value,rect.y['baseVal'].value,rect.width['baseVal'].value,rect.height['baseVal'].value]);\n",
       "        var svg = document.getElementById('svg');\n",
       "        var x= rect.x['baseVal'].value;\n",
       "        var y= rect.y['baseVal'].value;\n",
       "        \n",
       "        var text = model.get('text');\n",
       "        // Añadimos la etiqueta de texto que deseemos al rectangulo\n",
       "        svg.innerHTML += \"<text id='\" + (count-1) + \"txt\" +\"' x='\"+ x +\"' y='\"+ y +\"' font-family='Verdana' font-size='14px'>\"+ text +\"</text>\"\n",
       "        \n",
       "        var close = document.createElementNS(\"http://www.w3.org/2000/svg\", \"text\");\n",
       "        close.setAttribute(\"id\",\"closeParent\"+(count-1));\n",
       "        close.setAttribute(\"class\",\"close\");\n",
       "        close.setAttribute(\"x\",x);\n",
       "        close.setAttribute(\"y\",y+14);\n",
       "        close.setAttribute(\"font-family\",\"Verdana\");\n",
       "        close.setAttribute(\"font-size\",\"15px\");\n",
       "        \n",
       "        close.innerHTML += \"<tspan id='close\" + (count-1) + \"' >x</tspan>\";\n",
       "        svg.appendChild(close);\n",
       "        \n",
       "        myThis.touch();\n",
       "        \n",
       "        rect = null;\n",
       "        console.log(\"finsihed.\");     \n",
       "    } else {\n",
       "        var text = $(event.target);\n",
       "        if (text.html() != \"x\"){\n",
       "            var pos = getMousePos(eve);\n",
       "\n",
       "            startX= pos.x;\n",
       "            startY = pos.y;\n",
       "\n",
       "            console.log(\"begun.\");\n",
       "        \n",
       "            if(!rect){\n",
       "                rect = document.createElementNS(\"http://www.w3.org/2000/svg\", 'rect');\n",
       "                rect.id = 'rect' + count;\n",
       "                count = count + 1;\n",
       "\n",
       "                updateRect(eve, rect);\n",
       "\n",
       "                setStyleRect(rect);\n",
       "                document.getElementById('svg').appendChild(rect);\n",
       "            }\n",
       "        }else{\n",
       "            var closeId = text.attr(\"id\");\n",
       "            console.log(closeId);\n",
       "            var id = closeId[closeId.length - 1];\n",
       "            var closeParentId = \"closeParent\" + id;\n",
       "            var rectId = \"rect\" + id;\n",
       "            var textId = id + \"txt\";\n",
       "            \n",
       "            //Obtenemos coordenadas del rectangulo\n",
       "            var removed_rect = document.getElementById(rectId);\n",
       "            \n",
       "            console.log('Eliminamos rect.')\n",
       "            // Transmitimos al kernel, python, el\n",
       "            // rectangulo a eliminar\n",
       "            model.set('removed_rect',[removed_rect.x['baseVal'].value,removed_rect.y['baseVal'].value,removed_rect.width['baseVal'].value,removed_rect.height['baseVal'].value]);\n",
       "            myThis.touch();\n",
       "            // Eliminamos todo lo relativo al rectangulo\n",
       "            document.getElementById(closeParentId).remove();\n",
       "            document.getElementById(rectId).remove();\n",
       "            document.getElementById(textId).remove();\n",
       "        }\n",
       "    }\n",
       "}\n",
       "\n",
       "// Funciones para la carga y cambio de imagen\n",
       "function loadImage(svg, src){\n",
       "    svg.innerHTML = '<image id=\"image\" xlink:href=\"'+ src +'\" x=\"0\" y=\"0\" height=\"400px\" width=\"400px\"/>'\n",
       "}\n",
       "\n",
       "function changeImage(svg, el, image){\n",
       "    console.log(\"Cambio de imagen\");\n",
       "    console.log(image);\n",
       "    svg.innerHTML = '<image id=\"image\" xlink:href=\"' + image + '\" x=\"0\" y=\"0\" height=\"400px\" width=\"400px\"/>';\n",
       "    \n",
       "    el = svg;\n",
       "}\n",
       "\n",
       "\n",
       "// Definición del Widget en javasript\n",
       "define('ImageLabeler', [\"jupyter-js-widgets\"], function(widgets) {\n",
       "    var svg;\n",
       "    var ImageLabelerView = widgets.DOMWidgetView.extend({\n",
       "        // Renderizar vista\n",
       "        render: function() {\n",
       "            model = this.model;\n",
       "            myThis = this;\n",
       "            // Creamos el SVG\n",
       "            svg = document.createElementNS(\"http://www.w3.org/2000/svg\", \"svg\");\n",
       "            svg.id = 'svg';\n",
       "            svg.setAttribute('width', '400px');\n",
       "            svg.setAttribute('height', '400px');\n",
       "            \n",
       "            // Asignamos listeners al SVG\n",
       "            svg.addEventListener(\"click\", mouseClick, false);\n",
       "            svg.addEventListener(\"mousemove\", mouseMove, false);\n",
       "            \n",
       "            // Imágen\n",
       "            var src = \"../rsc/img/family.jpg\";\n",
       "            loadImage(svg, src);\n",
       "            // Listener para cambios de imagen\n",
       "            this.image_changed();\n",
       "            this.model.on('change:image', this.image_changed, this);\n",
       "            \n",
       "            // Listener para dibujar rectangulos dados\n",
       "            // desde Python\n",
       "            this.model.on('change:rect_to_add', this.add_rect, this);\n",
       "            \n",
       "            // Listener para intento de cambio de imagen erroneo\n",
       "            this.model.on('change:error_loading', this.error_loading_image, this);\n",
       "            \n",
       "            // Listener para notificar guardado de las imágenes\n",
       "            this.model.on('change:saved_successfuly', this.success_saving_labels, this);\n",
       "            \n",
       "            // Asignamos a la vista el elemento SVG\n",
       "            this.el = svg;\n",
       "        },\n",
       "        // Función que se lanza con el cambio de imagen\n",
       "        image_changed: function() {\n",
       "            var image = this.model.get('image');\n",
       "            changeImage(svg, this.el, image);\n",
       "            var image_name = image.split(/[\\\\]+/);\n",
       "            image_name = image_name[image_name.length - 1];\n",
       "             \n",
       "            sucess_image_notify(image_name);\n",
       "        },\n",
       "        // Función que se lanza cuando se intenta cargar un\n",
       "        // fichero distinto a una imagen\n",
       "        error_loading_image: function() {\n",
       "            var file_name = this.model.get('error_loading');\n",
       "            var file_name = file_name.split(/[\\\\]+/);\n",
       "            file_name = file_name[file_name.length - 1];\n",
       "            error_image_notify(file_name);\n",
       "        },\n",
       "        // Función que se lanza cuando se guardan\n",
       "        // las etiquetas de la imagen\n",
       "        success_saving_labels: function() {\n",
       "            console.log('File')\n",
       "            var file_name = this.model.get('image');\n",
       "            var file_name = file_name.split(/[\\\\]+/);\n",
       "            file_name = file_name[file_name.length - 1];\n",
       "            success_saving_labels_notify(file_name);\n",
       "        },        \n",
       "        // Función par dibujar rectangulos\n",
       "        // con coordenadas provistas por Python\n",
       "        add_rect: function() {\n",
       "            console.log('Add');\n",
       "            \n",
       "            var rect_coords = this.model.get('rect_to_add');\n",
       "            \n",
       "            var x = rect_coords[0];\n",
       "            var y = rect_coords[1];\n",
       "            var height = rect_coords[2];\n",
       "            var width = rect_coords[2];\n",
       "            \n",
       "            var new_rect = document.createElementNS(\"http://www.w3.org/2000/svg\", 'rect');\n",
       "            new_rect.id = 'rect' + count;\n",
       "            count = count + 1;\n",
       "\n",
       "            new_rect.setAttributeNS(null, 'x', x);\n",
       "            new_rect.setAttributeNS(null, 'y', y);\n",
       "            new_rect.setAttributeNS(null, 'height', height);\n",
       "            new_rect.setAttributeNS(null, 'width', width);\n",
       "\n",
       "            setStyleRect(new_rect);\n",
       "            document.getElementById('svg').appendChild(new_rect);\n",
       "        },\n",
       "    });\n",
       "\n",
       "    return {\n",
       "        ImageLabelerView: ImageLabelerView\n",
       "    };\n",
       "});"
      ],
      "text/plain": [
       "<IPython.core.display.Javascript object>"
      ]
     },
     "metadata": {},
     "output_type": "display_data"
    }
   ],
   "source": [
    "%%javascript\n",
    "\n",
    "//Añadimos estilo a las notificaciones:\n",
    "\n",
    "var error_type ='danger';\n",
    "var success_type ='success';\n",
    "var info_type = 'info';\n",
    "\n",
    "var notify_style = {\n",
    "  ele: 'body', // which element to append to\n",
    "  offset: {from: 'bottom', amount: 20}, // 'top', or 'bottom'\n",
    "  align: 'left', // ('left', 'right', or 'center')\n",
    "  width: 'auto',//250, // (integer, or 'auto')\n",
    "  delay: 4000, // Time while the message will be displayed. It's not equivalent to the *demo* timeOut!\n",
    "  allow_dismiss: true, // If true then will display a cross to close the popup.\n",
    "  stackup_spacing: 10, // spacing between consecutively stacked growls.\n",
    "}\n",
    "\n",
    "function change_style(style, type){\n",
    "    style['type'] = type;\n",
    "}\n",
    "\n",
    "function sucess_image_notify(image_name){\n",
    "    change_style(notify_style, success_type);\n",
    "    if (image_name != \"blank.png\"){\n",
    "        var notify_msg = \"La imagen \" + image_name + \" ha sido cargada correctamente!\";\n",
    "        $.bootstrapGrowl(notify_msg, notify_style);\n",
    "    }\n",
    "}\n",
    "\n",
    "function error_image_notify(file_name){\n",
    "    change_style(notify_style, error_type);\n",
    "    if(file_name != \"blank.png\"){\n",
    "        var notify_msg = \"El fichero \" + file_name + \" no \" +\n",
    "            \"tiene formato de imagen. Ejemplo: jpeg, jpg, tif, tiff, png \";\n",
    "        $.bootstrapGrowl(notify_msg, notify_style);\n",
    "    }\n",
    "}\n",
    "\n",
    "function success_saving_labels_notify(file_name){\n",
    "    change_style(notify_style, success_type);\n",
    "    if(file_name != \"blank.png\"){\n",
    "        var notify_msg = \" Las etiquetas para la imagen \" + file_name + \" han \" +\n",
    "            \"sido guardadas correctamente \";\n",
    "        $.bootstrapGrowl(notify_msg, notify_style);\n",
    "    }\n",
    "}\n",
    "\n",
    "// JS Widget\n",
    "\n",
    "require.undef('ImageLabeler');\n",
    "\n",
    "var startX, startY;\n",
    "var count = 0;\n",
    "var rect = null;\n",
    "var rectsList = [];\n",
    "var model;\n",
    "var myThis;\n",
    "\n",
    "function getMousePos(evt) {\n",
    "    // Obtenemos posición absoluta del elemento svg\n",
    "    var svgRef = document.getElementById(\"svg\");\n",
    "    var htmlPos = svgRef.getBoundingClientRect();\n",
    "    return {\n",
    "        x: evt.clientX - htmlPos.left,\n",
    "        y: evt.clientY - htmlPos.top\n",
    "    };\n",
    "}\n",
    "\n",
    "function updateRect(eve, rect){\n",
    "    var pos = getMousePos(eve);\n",
    "    var endX = pos.x;\n",
    "    var endY = pos.y;\n",
    "    if (endX - startX > 0){\n",
    "        var x = startX\n",
    "    }else{\n",
    "        var x = endX;\n",
    "    }\n",
    "\n",
    "    if (endY - startY > 0){\n",
    "        var y = startY\n",
    "    }else{\n",
    "        var y = endY;\n",
    "    }\n",
    "    var width = Math.abs(endX - startX);\n",
    "    var height = Math.abs(endY - startY);\n",
    "    \n",
    "    rect.setAttributeNS(null, 'x', x);\n",
    "    rect.setAttributeNS(null, 'y', y);\n",
    "    rect.setAttributeNS(null, 'height', height);\n",
    "    rect.setAttributeNS(null, 'width', width);\n",
    "}\n",
    "\n",
    "function setStyleRect(rect){\n",
    "    rect.setAttributeNS(null, 'fill', 'transparent');\n",
    "    rect.setAttributeNS(null, 'stroke', 'green');\n",
    "    rect.setAttributeNS(null, 'linewidth', '10px');\n",
    "}\n",
    "\n",
    "function mouseMove(eve) {\n",
    "    if(rect){\n",
    "        updateRect(eve, rect);\n",
    "      }\n",
    "}\n",
    "\n",
    "function mouseClick(eve) {\n",
    "    if (rect !== null) {\n",
    "        //Cada vez que finalizamos el rectangulo\n",
    "        // , le añadimos a la lista\n",
    "        console.log(rect.x['baseVal'].value,rect.y['baseVal'].value,rect.width['baseVal'].value,rect.height['baseVal'].value);\n",
    "        rectsList = [];\n",
    "        model.set('rect',[rect.x['baseVal'].value,rect.y['baseVal'].value,rect.width['baseVal'].value,rect.height['baseVal'].value]);\n",
    "        var svg = document.getElementById('svg');\n",
    "        var x= rect.x['baseVal'].value;\n",
    "        var y= rect.y['baseVal'].value;\n",
    "        \n",
    "        var text = model.get('text');\n",
    "        // Añadimos la etiqueta de texto que deseemos al rectangulo\n",
    "        svg.innerHTML += \"<text id='\" + (count-1) + \"txt\" +\"' x='\"+ x +\"' y='\"+ y +\"' font-family='Verdana' font-size='14px'>\"+ text +\"</text>\"\n",
    "        \n",
    "        var close = document.createElementNS(\"http://www.w3.org/2000/svg\", \"text\");\n",
    "        close.setAttribute(\"id\",\"closeParent\"+(count-1));\n",
    "        close.setAttribute(\"class\",\"close\");\n",
    "        close.setAttribute(\"x\",x);\n",
    "        close.setAttribute(\"y\",y+14);\n",
    "        close.setAttribute(\"font-family\",\"Verdana\");\n",
    "        close.setAttribute(\"font-size\",\"15px\");\n",
    "        \n",
    "        close.innerHTML += \"<tspan id='close\" + (count-1) + \"' >x</tspan>\";\n",
    "        svg.appendChild(close);\n",
    "        \n",
    "        myThis.touch();\n",
    "        \n",
    "        rect = null;\n",
    "        console.log(\"finsihed.\");     \n",
    "    } else {\n",
    "        var text = $(event.target);\n",
    "        if (text.html() != \"x\"){\n",
    "            var pos = getMousePos(eve);\n",
    "\n",
    "            startX= pos.x;\n",
    "            startY = pos.y;\n",
    "\n",
    "            console.log(\"begun.\");\n",
    "        \n",
    "            if(!rect){\n",
    "                rect = document.createElementNS(\"http://www.w3.org/2000/svg\", 'rect');\n",
    "                rect.id = 'rect' + count;\n",
    "                count = count + 1;\n",
    "\n",
    "                updateRect(eve, rect);\n",
    "\n",
    "                setStyleRect(rect);\n",
    "                document.getElementById('svg').appendChild(rect);\n",
    "            }\n",
    "        }else{\n",
    "            var closeId = text.attr(\"id\");\n",
    "            console.log(closeId);\n",
    "            var id = closeId[closeId.length - 1];\n",
    "            var closeParentId = \"closeParent\" + id;\n",
    "            var rectId = \"rect\" + id;\n",
    "            var textId = id + \"txt\";\n",
    "            \n",
    "            //Obtenemos coordenadas del rectangulo\n",
    "            var removed_rect = document.getElementById(rectId);\n",
    "            \n",
    "            console.log('Eliminamos rect.')\n",
    "            // Transmitimos al kernel, python, el\n",
    "            // rectangulo a eliminar\n",
    "            model.set('removed_rect',[removed_rect.x['baseVal'].value,removed_rect.y['baseVal'].value,removed_rect.width['baseVal'].value,removed_rect.height['baseVal'].value]);\n",
    "            myThis.touch();\n",
    "            // Eliminamos todo lo relativo al rectangulo\n",
    "            document.getElementById(closeParentId).remove();\n",
    "            document.getElementById(rectId).remove();\n",
    "            document.getElementById(textId).remove();\n",
    "        }\n",
    "    }\n",
    "}\n",
    "\n",
    "// Funciones para la carga y cambio de imagen\n",
    "function loadImage(svg, src){\n",
    "    svg.innerHTML = '<image id=\"image\" xlink:href=\"'+ src +'\" x=\"0\" y=\"0\" height=\"400px\" width=\"400px\"/>'\n",
    "}\n",
    "\n",
    "function changeImage(svg, el, image){\n",
    "    console.log(\"Cambio de imagen\");\n",
    "    console.log(image);\n",
    "    svg.innerHTML = '<image id=\"image\" xlink:href=\"' + image + '\" x=\"0\" y=\"0\" height=\"400px\" width=\"400px\"/>';\n",
    "    \n",
    "    el = svg;\n",
    "}\n",
    "\n",
    "\n",
    "// Definición del Widget en javasript\n",
    "define('ImageLabeler', [\"jupyter-js-widgets\"], function(widgets) {\n",
    "    var svg;\n",
    "    var ImageLabelerView = widgets.DOMWidgetView.extend({\n",
    "        // Renderizar vista\n",
    "        render: function() {\n",
    "            model = this.model;\n",
    "            myThis = this;\n",
    "            // Creamos el SVG\n",
    "            svg = document.createElementNS(\"http://www.w3.org/2000/svg\", \"svg\");\n",
    "            svg.id = 'svg';\n",
    "            svg.setAttribute('width', '400px');\n",
    "            svg.setAttribute('height', '400px');\n",
    "            \n",
    "            // Asignamos listeners al SVG\n",
    "            svg.addEventListener(\"click\", mouseClick, false);\n",
    "            svg.addEventListener(\"mousemove\", mouseMove, false);\n",
    "            \n",
    "            // Imágen\n",
    "            var src = \"../rsc/img/family.jpg\";\n",
    "            loadImage(svg, src);\n",
    "            // Listener para cambios de imagen\n",
    "            this.image_changed();\n",
    "            this.model.on('change:image', this.image_changed, this);\n",
    "            \n",
    "            // Listener para dibujar rectangulos dados\n",
    "            // desde Python\n",
    "            this.model.on('change:rect_to_add', this.add_rect, this);\n",
    "            \n",
    "            // Listener para intento de cambio de imagen erroneo\n",
    "            this.model.on('change:error_loading', this.error_loading_image, this);\n",
    "            \n",
    "            // Listener para notificar guardado de las imágenes\n",
    "            this.model.on('change:saved_successfuly', this.success_saving_labels, this);\n",
    "            \n",
    "            // Asignamos a la vista el elemento SVG\n",
    "            this.el = svg;\n",
    "        },\n",
    "        // Función que se lanza con el cambio de imagen\n",
    "        image_changed: function() {\n",
    "            var image = this.model.get('image');\n",
    "            changeImage(svg, this.el, image);\n",
    "            var image_name = image.split(/[\\\\]+/);\n",
    "            image_name = image_name[image_name.length - 1];\n",
    "             \n",
    "            sucess_image_notify(image_name);\n",
    "        },\n",
    "        // Función que se lanza cuando se intenta cargar un\n",
    "        // fichero distinto a una imagen\n",
    "        error_loading_image: function() {\n",
    "            var file_name = this.model.get('error_loading');\n",
    "            var file_name = file_name.split(/[\\\\]+/);\n",
    "            file_name = file_name[file_name.length - 1];\n",
    "            error_image_notify(file_name);\n",
    "        },\n",
    "        // Función que se lanza cuando se guardan\n",
    "        // las etiquetas de la imagen\n",
    "        success_saving_labels: function() {\n",
    "            console.log('File')\n",
    "            var file_name = this.model.get('image');\n",
    "            var file_name = file_name.split(/[\\\\]+/);\n",
    "            file_name = file_name[file_name.length - 1];\n",
    "            success_saving_labels_notify(file_name);\n",
    "        },        \n",
    "        // Función par dibujar rectangulos\n",
    "        // con coordenadas provistas por Python\n",
    "        add_rect: function() {\n",
    "            console.log('Add');\n",
    "            \n",
    "            var rect_coords = this.model.get('rect_to_add');\n",
    "            \n",
    "            var x = rect_coords[0];\n",
    "            var y = rect_coords[1];\n",
    "            var height = rect_coords[2];\n",
    "            var width = rect_coords[2];\n",
    "            \n",
    "            var new_rect = document.createElementNS(\"http://www.w3.org/2000/svg\", 'rect');\n",
    "            new_rect.id = 'rect' + count;\n",
    "            count = count + 1;\n",
    "\n",
    "            new_rect.setAttributeNS(null, 'x', x);\n",
    "            new_rect.setAttributeNS(null, 'y', y);\n",
    "            new_rect.setAttributeNS(null, 'height', height);\n",
    "            new_rect.setAttributeNS(null, 'width', width);\n",
    "\n",
    "            setStyleRect(new_rect);\n",
    "            document.getElementById('svg').appendChild(new_rect);\n",
    "        },\n",
    "    });\n",
    "\n",
    "    return {\n",
    "        ImageLabelerView: ImageLabelerView\n",
    "    };\n",
    "});"
   ]
  },
  {
   "cell_type": "code",
   "execution_count": 23,
   "metadata": {
    "collapsed": true,
    "extensions": {
     "jupyter_dashboards": {
      "version": 1,
      "views": {
       "grid_default": {
        "hidden": true
       },
       "report_default": {
        "hidden": true
       }
      }
     }
    }
   },
   "outputs": [],
   "source": [
    "# Inicializamos Widget etiquetador de imágenes\n",
    "image_labeler = ImageLabelerWidget()"
   ]
  },
  {
   "cell_type": "markdown",
   "metadata": {
    "extensions": {
     "jupyter_dashboards": {
      "version": 1,
      "views": {
       "grid_default": {
        "col": 0,
        "height": 4,
        "hidden": true,
        "row": 21,
        "width": 4
       },
       "report_default": {
        "hidden": true
       }
      }
     }
    }
   },
   "source": [
    "# Creamos directorios"
   ]
  },
  {
   "cell_type": "code",
   "execution_count": 24,
   "metadata": {
    "collapsed": true,
    "extensions": {
     "jupyter_dashboards": {
      "version": 1,
      "views": {
       "grid_default": {
        "hidden": true
       },
       "report_default": {
        "hidden": true
       }
      }
     }
    }
   },
   "outputs": [],
   "source": [
    "# Clases para la gestión de directorios\n",
    "import Directory\n",
    "import Directory_Manager\n",
    "# Creamos directorios\n",
    "dir_list = ['Rondel','Bulliform',\n",
    "            'Bilobate','Trichomas',\n",
    "            'Saddle']\n",
    "\n",
    "dir_manager = Directory_Manager.Directory_Manager(dir_list, current_dir= dir_list[0])"
   ]
  },
  {
   "cell_type": "markdown",
   "metadata": {
    "extensions": {
     "jupyter_dashboards": {
      "version": 1,
      "views": {
       "grid_default": {
        "col": 0,
        "height": 4,
        "hidden": false,
        "row": 22,
        "width": 12
       },
       "report_default": {
        "hidden": true
       }
      }
     }
    }
   },
   "source": [
    "# Añadimos gestión de tipo de fitolito junto a coordenadas de cada rectángulo"
   ]
  },
  {
   "cell_type": "code",
   "execution_count": 25,
   "metadata": {
    "collapsed": true,
    "extensions": {
     "jupyter_dashboards": {
      "version": 1,
      "views": {
       "grid_default": {
        "hidden": true
       },
       "report_default": {
        "hidden": true
       }
      }
     }
    }
   },
   "outputs": [],
   "source": [
    "# Añadimos un diccionario que nos permita \n",
    "# añadir las coordenadas segun el tipo de fitolito\n",
    "# para guardar así la imagenes en el \n",
    "# directorio que corresponda\n",
    "coords_dict = dict()\n",
    "\n",
    "''' Función que indexa las coordenadas al tipo de\n",
    "fitolito que estamos eligiendo, de manera que añadimos\n",
    "al diccionario cada una de las coordenadas que dibujamos\n",
    "correspondiendo a la carpeta en la que sera guardada'''\n",
    "def update_coords_list(coords_list):\n",
    "    \n",
    "    # Coordenadas a añadir\n",
    "    coords_to_add = coords_list[len(coords_list)-1]\n",
    "    \n",
    "    # Leemos el directorio seleccionado actualmente\n",
    "    current_dir_path = dir_manager.get_current_dir_path()\n",
    "    current_dir = dir_manager.get_current_dir()\n",
    "    \n",
    "    # Si existia ya, añadimos coords a la lista\n",
    "    if current_dir_path in coords_dict:\n",
    "        coords_dict[current_dir_path].append(coords_to_add)\n",
    "    # Sino creamos lista y añadimos coords\n",
    "    else:\n",
    "        coords_dict[current_dir_path] = []\n",
    "        coords_dict[current_dir_path].append(coords_to_add)\n",
    "\n",
    "# Patrón observe sobre la lista de coordenadas\n",
    "image_labeler.rectList_bind_to(update_coords_list)"
   ]
  },
  {
   "cell_type": "markdown",
   "metadata": {
    "extensions": {
     "jupyter_dashboards": {
      "version": 1,
      "views": {
       "grid_default": {
        "col": 0,
        "height": 4,
        "hidden": false,
        "row": 26,
        "width": 4
       },
       "report_default": {
        "hidden": true
       }
      }
     }
    }
   },
   "source": [
    "## Gestión en la eliminación de rectángulos"
   ]
  },
  {
   "cell_type": "code",
   "execution_count": 26,
   "metadata": {
    "collapsed": true,
    "extensions": {
     "jupyter_dashboards": {
      "version": 1,
      "views": {
       "grid_default": {
        "hidden": true
       },
       "report_default": {
        "hidden": true
       }
      }
     }
    }
   },
   "outputs": [],
   "source": [
    "''' Función que se encarga de eliminar del diccionario\n",
    "anterior las coordenadas del rectangulo que ha sido\n",
    "eliminado por el usuario'''\n",
    "def remove_coords_list(coords_list):\n",
    "    # Coordenadas a eliminar\n",
    "    # TODO Tener en cuenta transformación a realizar\n",
    "    coords_to_delete = coords_list[len(coords_list)-1]\n",
    "    \n",
    "    # Comprobamos en que clave del \n",
    "    # diccionario se encuentran las \n",
    "    # coordenadas y las eliminamos\n",
    "    for k in coords_dict.keys():\n",
    "        if coords_to_delete in coords_dict[k]:\n",
    "            coords_dict[k].remove(coords_to_delete)\n",
    "# Patrón observe sobre la lista de coordenadas\n",
    "image_labeler.removed_rect_bind_to(remove_coords_list)"
   ]
  },
  {
   "cell_type": "markdown",
   "metadata": {
    "extensions": {
     "jupyter_dashboards": {
      "version": 1,
      "views": {
       "grid_default": {
        "col": 8,
        "height": 4,
        "hidden": true,
        "row": 17,
        "width": 4
       },
       "report_default": {
        "hidden": true
       }
      }
     }
    }
   },
   "source": [
    "# Añadimos más widgets\n",
    "\n",
    "En esta celda añadimos el *file upload*"
   ]
  },
  {
   "cell_type": "code",
   "execution_count": 27,
   "metadata": {
    "collapsed": true,
    "extensions": {
     "jupyter_dashboards": {
      "version": 1,
      "views": {
       "grid_default": {
        "hidden": true
       },
       "report_default": {
        "hidden": true
       }
      }
     }
    }
   },
   "outputs": [],
   "source": [
    "from IPython.display import display\n",
    "import fileupload\n",
    "import PIL.Image\n",
    "import io as io2\n",
    "from skimage.color import rgb2gray\n",
    "\n",
    "''' Función que se encarga de aplicar las operaciones \n",
    "necesarias para convertir los datos obtenidos del FileUpload\n",
    "en una imagen'''\n",
    "def image_converter(image):\n",
    "        image = io2.BytesIO(image)\n",
    "        image = PIL.Image.open(image)\n",
    "        return np.array(image)"
   ]
  },
  {
   "cell_type": "markdown",
   "metadata": {
    "extensions": {
     "jupyter_dashboards": {
      "version": 1,
      "views": {
       "grid_default": {
        "col": 0,
        "height": 4,
        "hidden": true,
        "row": 17,
        "width": 4
       },
       "report_default": {
        "hidden": true
       }
      }
     }
    }
   },
   "source": [
    "### Inicializamos el resto de Widgets"
   ]
  },
  {
   "cell_type": "code",
   "execution_count": 28,
   "metadata": {
    "collapsed": true,
    "extensions": {
     "jupyter_dashboards": {
      "version": 1,
      "views": {
       "grid_default": {
        "hidden": true
       },
       "report_default": {
        "hidden": true
       }
      }
     }
    }
   },
   "outputs": [],
   "source": [
    "from ipywidgets import HBox, VBox, Label, Layout\n",
    "import re\n",
    "import os.path\n",
    "#Inicializamos Widget de File Upload\n",
    "upload_widget = fileupload.FileUploadWidget()\n",
    "upload_widget.description = '(50% width, 80px height) button'\n",
    "\n",
    "# Creamos el patron para el nombre \n",
    "# de una imagen\n",
    "pattern = re.compile(\"^.*\\.(jpeg|jpg|tif|tiff|png)$\", re.IGNORECASE)\n",
    "\n",
    "# TODO Cuando se cambia de imagen\n",
    "# hay que asegurarse de que las\n",
    "# distintas variables se inicializan\n",
    "# a los valores por defecto\n",
    "\n",
    "# Callback para el cambio de imagen\n",
    "def _cb(change):\n",
    "    # Limpiamos variables\n",
    "    coords_dict.clear()\n",
    "    \n",
    "    change = change['owner']\n",
    "    # Control de que el fichero es una imagen\n",
    "    # y no otro tipo de fichero\n",
    "    if pattern.match(change.filename):\n",
    "        image = image_converter(change.data)\n",
    "        \n",
    "        image_path = dir_manager.get_default_dir() + change.filename \n",
    "        \n",
    "                \n",
    "        # Guardamos imagen\n",
    "        io.imsave(image_path, image)\n",
    "        \n",
    "        # Sincronizamos cambio\n",
    "        image_labeler.image = image_path\n",
    "        \n",
    "        # Comprobar si la imagen había \n",
    "        # sido previamente cargada.\n",
    "        # Si es así, cargamos etiquetas previas\n",
    "        if os.path.exists(image_path):\n",
    "            name = change.filename.split(\".\")[0]\n",
    "            \n",
    "            with open(dir_manager.get_default_dir() +\\\n",
    "                      name + '.json') as jsonfile:\n",
    "                \n",
    "                old_coords_dict = json.load(jsonfile)[name + \".jpg\"]\n",
    "                \n",
    "                # Añadir al diccionario actual todas las coordenadas\n",
    "                # existentes para no eliminarlas al volver\n",
    "                # a guardar imagen\n",
    "                for k, _ in old_coords_dict.items():\n",
    "                    coords_dict[dir_manager.get_possible_dir(k)] = old_coords_dict[k]\n",
    "                    \n",
    "                    #Añadimos los rectangulos\n",
    "                    for rect_x, rect_y, rect_x2, rect_y2 in old_coords_dict[k]:\n",
    "                        image_labeler.text = k\n",
    "                        image_labeler.rect_to_add = [rect_x, rect_y, rect_x2 - rect_x, rect_y2 - rect_y]\n",
    "\n",
    "        \n",
    "    else:\n",
    "        # Sino, lanzamos error\n",
    "        image_labeler.error_loading = change.filename\n",
    "\n",
    "upload_widget.observe(_cb, names='data')"
   ]
  },
  {
   "cell_type": "code",
   "execution_count": 29,
   "metadata": {
    "collapsed": true,
    "extensions": {
     "jupyter_dashboards": {
      "version": 1,
      "views": {
       "grid_default": {
        "col": 4,
        "height": 4,
        "hidden": true,
        "row": 17,
        "width": 4
       },
       "report_default": {
        "hidden": true
       }
      }
     }
    }
   },
   "outputs": [],
   "source": [
    "# Selector de fitolito\n",
    "\n",
    "btns_selector =widgets.ToggleButtons(\n",
    "    options= dir_list,\n",
    "    #description='Tipo de fitolito',\n",
    "    disabled=False,\n",
    "    # 'success', 'info', 'warning', 'danger' or ''\n",
    "    button_style='',\n",
    "    tooltip='Description',\n",
    "    #icon='check'\n",
    ")\n",
    "\n",
    "'''Función que se encarga de hacer los cambios \n",
    "necesarios al cambiar el fitolito que se etiqueta'''\n",
    "def on_phytolith_change(change):\n",
    "    new_dir = change['new']\n",
    "    dir_manager.change_dir(new_dir)  \n",
    "    image_labeler.text = new_dir\n",
    "\n",
    "# listener del cambio de fitolito\n",
    "btns_selector.observe(on_phytolith_change,names='value')\n",
    "\n",
    "\n",
    "#Asignamos al texto del etiquetador por defecto al primer elemento de los botones\n",
    "image_labeler.text = dir_list[0]"
   ]
  },
  {
   "cell_type": "code",
   "execution_count": 30,
   "metadata": {
    "collapsed": true,
    "extensions": {
     "jupyter_dashboards": {
      "version": 1,
      "views": {
       "grid_default": {
        "hidden": true
       },
       "report_default": {
        "hidden": true
       }
      }
     }
    }
   },
   "outputs": [],
   "source": [
    "import warnings\n",
    "# Añadimos el botón que se encarga de guardar\n",
    "#las imágenes en el directorio correspondiente\n",
    "\n",
    "save_btn = widgets.Button(\n",
    "    description='Guardar imágenes',\n",
    "    disabled=False,\n",
    "    button_style='',\n",
    "    tooltip='Guardar imágenes',\n",
    "    icon='check'\n",
    ")\n",
    "\n",
    "#Ignoramos warnings de calidad de imagen\n",
    "\n",
    "warnings.filterwarnings('ignore')\n",
    "'''Función que se encarga de llamar a la función \n",
    "de guardar las etiquetas como imágenes'''\n",
    "def on_save_btn_click(ch):\n",
    "    #Obtenemos el nombre de la imagen\n",
    "    image_path = image_labeler.image\n",
    "    image_name = image_path.split(\"\\\\\")\n",
    "    image_name = image_name[len(image_name)-1]\n",
    "    image_name = image_name.split(\".\")\n",
    "    image_name = image_name[0]\n",
    "    # Cargamos imágen\n",
    "    image = io.imread(image_path)\n",
    "    \n",
    "    coords_dict_copy = dict()\n",
    "    \n",
    "    for path, coords_set in coords_dict.items():\n",
    "        # Transformamos las coordenadas\n",
    "        coords_set = transform_coords(coords_set, 400, image.shape)\n",
    "        # Guardamos la imagenes en sus correspondientes directorios\n",
    "        #save_as_all_formats(coords_set, image, path, image_name)\n",
    "        save_coords_as_images(coords_set, image, path, image_name)\n",
    "        \n",
    "        # Realizamos una copía para la posterior realización \n",
    "        # del fichero json con las claves siendo el tipo de fitolito \n",
    "        # y no el path\n",
    "        coords_dict_copy[path.split(\"\\\\\")[-2]] = coords_set\n",
    "    \n",
    "    save_coords_as_json(coords_dict_copy, dir_manager.get_default_dir(), image_name)\n",
    "    \n",
    "    # Notificamos al usuario que las etiquetas \n",
    "    #han sido guardadas correctamente\n",
    "    if image_labeler.saved_successfuly == 'false':\n",
    "        image_labeler.saved_successfuly = 'true'\n",
    "    else:\n",
    "        image_labeler.saved_successfuly = 'false'\n",
    "    # Eliminamos los rectangulos que añadimos para\n",
    "    # evitar redundacia de coordenadas\n",
    "    image_labeler.set_rectList([])\n",
    "save_btn.on_click(on_save_btn_click)"
   ]
  },
  {
   "cell_type": "markdown",
   "metadata": {
    "extensions": {
     "jupyter_dashboards": {
      "version": 1,
      "views": {
       "grid_default": {
        "col": 0,
        "height": 4,
        "hidden": true,
        "row": 22,
        "width": 4
       },
       "report_default": {
        "hidden": true
       }
      }
     }
    }
   },
   "source": [
    "### Dando formato al Widget"
   ]
  },
  {
   "cell_type": "code",
   "execution_count": 31,
   "metadata": {
    "collapsed": true,
    "extensions": {
     "jupyter_dashboards": {
      "version": 1,
      "views": {
       "grid_default": {
        "hidden": true
       },
       "report_default": {
        "hidden": true
       }
      }
     }
    }
   },
   "outputs": [],
   "source": [
    "# Formato de los widgets\n",
    "right_size_widget = VBox([upload_widget, btns_selector, save_btn])\n",
    "\n",
    "right_size_widget.width = '10%'\n",
    "right_size_widget.margin = '5% 5% 5% 5%'\n",
    "btns_selector.padding = '10%'\n",
    "upload_widget.padding = '10%'\n",
    "image_labeler.margin = '5% 10% 0% 0%'\n",
    "upload_widget.margin = '0 0 7% 12%'\n",
    "upload_widget.width = '50'"
   ]
  },
  {
   "cell_type": "markdown",
   "metadata": {
    "extensions": {
     "jupyter_dashboards": {
      "version": 1,
      "views": {
       "grid_default": {
        "col": 4,
        "height": 4,
        "hidden": true,
        "row": 22,
        "width": 4
       },
       "report_default": {
        "hidden": true
       }
      }
     }
    }
   },
   "source": [
    "# Widget"
   ]
  },
  {
   "cell_type": "code",
   "execution_count": 32,
   "metadata": {
    "extensions": {
     "jupyter_dashboards": {
      "version": 1,
      "views": {
       "grid_default": {
        "col": 1,
        "height": 18,
        "hidden": false,
        "row": 4,
        "width": 10
       },
       "report_default": {
        "hidden": false
       }
      }
     }
    }
   },
   "outputs": [
    {
     "ename": "FileNotFoundError",
     "evalue": "[Errno 2] No such file or directory: '..\\\\rsc\\\\img\\\\Default\\\\2.json'",
     "output_type": "error",
     "traceback": [
      "\u001b[0;31m---------------------------------------------------------------------------\u001b[0m",
      "\u001b[0;31mFileNotFoundError\u001b[0m                         Traceback (most recent call last)",
      "\u001b[0;32mD:\\Program Files\\Anaconda3\\lib\\site-packages\\ipywidgets\\widgets\\widget.py\u001b[0m in \u001b[0;36m_handle_msg\u001b[0;34m(self, msg)\u001b[0m\n\u001b[1;32m    426\u001b[0m                 \u001b[1;32mfor\u001b[0m \u001b[0mi\u001b[0m\u001b[1;33m,\u001b[0m\u001b[0mk\u001b[0m \u001b[1;32min\u001b[0m \u001b[0menumerate\u001b[0m\u001b[1;33m(\u001b[0m\u001b[0mdata\u001b[0m\u001b[1;33m.\u001b[0m\u001b[0mget\u001b[0m\u001b[1;33m(\u001b[0m\u001b[1;34m'buffer_keys'\u001b[0m\u001b[1;33m,\u001b[0m \u001b[1;33m[\u001b[0m\u001b[1;33m]\u001b[0m\u001b[1;33m)\u001b[0m\u001b[1;33m)\u001b[0m\u001b[1;33m:\u001b[0m\u001b[1;33m\u001b[0m\u001b[0m\n\u001b[1;32m    427\u001b[0m                     \u001b[0msync_data\u001b[0m\u001b[1;33m[\u001b[0m\u001b[0mk\u001b[0m\u001b[1;33m]\u001b[0m \u001b[1;33m=\u001b[0m \u001b[0mmsg\u001b[0m\u001b[1;33m[\u001b[0m\u001b[1;34m'buffers'\u001b[0m\u001b[1;33m]\u001b[0m\u001b[1;33m[\u001b[0m\u001b[0mi\u001b[0m\u001b[1;33m]\u001b[0m\u001b[1;33m\u001b[0m\u001b[0m\n\u001b[0;32m--> 428\u001b[0;31m                 \u001b[0mself\u001b[0m\u001b[1;33m.\u001b[0m\u001b[0mset_state\u001b[0m\u001b[1;33m(\u001b[0m\u001b[0msync_data\u001b[0m\u001b[1;33m)\u001b[0m \u001b[1;31m# handles all methods\u001b[0m\u001b[1;33m\u001b[0m\u001b[0m\n\u001b[0m\u001b[1;32m    429\u001b[0m \u001b[1;33m\u001b[0m\u001b[0m\n\u001b[1;32m    430\u001b[0m         \u001b[1;31m# Handle a state request.\u001b[0m\u001b[1;33m\u001b[0m\u001b[1;33m\u001b[0m\u001b[0m\n",
      "\u001b[0;32mD:\\Program Files\\Anaconda3\\lib\\site-packages\\ipywidgets\\widgets\\widget.py\u001b[0m in \u001b[0;36mset_state\u001b[0;34m(self, sync_data)\u001b[0m\n\u001b[1;32m    305\u001b[0m                     from_json = self.trait_metadata(name, 'from_json',\n\u001b[1;32m    306\u001b[0m                                                     self._trait_from_json)\n\u001b[0;32m--> 307\u001b[0;31m                     \u001b[0mself\u001b[0m\u001b[1;33m.\u001b[0m\u001b[0mset_trait\u001b[0m\u001b[1;33m(\u001b[0m\u001b[0mname\u001b[0m\u001b[1;33m,\u001b[0m \u001b[0mfrom_json\u001b[0m\u001b[1;33m(\u001b[0m\u001b[0msync_data\u001b[0m\u001b[1;33m[\u001b[0m\u001b[0mname\u001b[0m\u001b[1;33m]\u001b[0m\u001b[1;33m,\u001b[0m \u001b[0mself\u001b[0m\u001b[1;33m)\u001b[0m\u001b[1;33m)\u001b[0m\u001b[1;33m\u001b[0m\u001b[0m\n\u001b[0m\u001b[1;32m    308\u001b[0m \u001b[1;33m\u001b[0m\u001b[0m\n\u001b[1;32m    309\u001b[0m     \u001b[1;32mdef\u001b[0m \u001b[0msend\u001b[0m\u001b[1;33m(\u001b[0m\u001b[0mself\u001b[0m\u001b[1;33m,\u001b[0m \u001b[0mcontent\u001b[0m\u001b[1;33m,\u001b[0m \u001b[0mbuffers\u001b[0m\u001b[1;33m=\u001b[0m\u001b[1;32mNone\u001b[0m\u001b[1;33m)\u001b[0m\u001b[1;33m:\u001b[0m\u001b[1;33m\u001b[0m\u001b[0m\n",
      "\u001b[0;32mD:\\Program Files\\Anaconda3\\lib\\contextlib.py\u001b[0m in \u001b[0;36m__exit__\u001b[0;34m(self, type, value, traceback)\u001b[0m\n\u001b[1;32m     64\u001b[0m         \u001b[1;32mif\u001b[0m \u001b[0mtype\u001b[0m \u001b[1;32mis\u001b[0m \u001b[1;32mNone\u001b[0m\u001b[1;33m:\u001b[0m\u001b[1;33m\u001b[0m\u001b[0m\n\u001b[1;32m     65\u001b[0m             \u001b[1;32mtry\u001b[0m\u001b[1;33m:\u001b[0m\u001b[1;33m\u001b[0m\u001b[0m\n\u001b[0;32m---> 66\u001b[0;31m                 \u001b[0mnext\u001b[0m\u001b[1;33m(\u001b[0m\u001b[0mself\u001b[0m\u001b[1;33m.\u001b[0m\u001b[0mgen\u001b[0m\u001b[1;33m)\u001b[0m\u001b[1;33m\u001b[0m\u001b[0m\n\u001b[0m\u001b[1;32m     67\u001b[0m             \u001b[1;32mexcept\u001b[0m \u001b[0mStopIteration\u001b[0m\u001b[1;33m:\u001b[0m\u001b[1;33m\u001b[0m\u001b[0m\n\u001b[1;32m     68\u001b[0m                 \u001b[1;32mreturn\u001b[0m\u001b[1;33m\u001b[0m\u001b[0m\n",
      "\u001b[0;32mD:\\Program Files\\Anaconda3\\lib\\site-packages\\traitlets\\traitlets.py\u001b[0m in \u001b[0;36mhold_trait_notifications\u001b[0;34m(self)\u001b[0m\n\u001b[1;32m   1127\u001b[0m                 \u001b[1;32mfor\u001b[0m \u001b[0mchanges\u001b[0m \u001b[1;32min\u001b[0m \u001b[0mcache\u001b[0m\u001b[1;33m.\u001b[0m\u001b[0mvalues\u001b[0m\u001b[1;33m(\u001b[0m\u001b[1;33m)\u001b[0m\u001b[1;33m:\u001b[0m\u001b[1;33m\u001b[0m\u001b[0m\n\u001b[1;32m   1128\u001b[0m                     \u001b[1;32mfor\u001b[0m \u001b[0mchange\u001b[0m \u001b[1;32min\u001b[0m \u001b[0mchanges\u001b[0m\u001b[1;33m:\u001b[0m\u001b[1;33m\u001b[0m\u001b[0m\n\u001b[0;32m-> 1129\u001b[0;31m                         \u001b[0mself\u001b[0m\u001b[1;33m.\u001b[0m\u001b[0mnotify_change\u001b[0m\u001b[1;33m(\u001b[0m\u001b[0mchange\u001b[0m\u001b[1;33m)\u001b[0m\u001b[1;33m\u001b[0m\u001b[0m\n\u001b[0m\u001b[1;32m   1130\u001b[0m \u001b[1;33m\u001b[0m\u001b[0m\n\u001b[1;32m   1131\u001b[0m     \u001b[1;32mdef\u001b[0m \u001b[0m_notify_trait\u001b[0m\u001b[1;33m(\u001b[0m\u001b[0mself\u001b[0m\u001b[1;33m,\u001b[0m \u001b[0mname\u001b[0m\u001b[1;33m,\u001b[0m \u001b[0mold_value\u001b[0m\u001b[1;33m,\u001b[0m \u001b[0mnew_value\u001b[0m\u001b[1;33m)\u001b[0m\u001b[1;33m:\u001b[0m\u001b[1;33m\u001b[0m\u001b[0m\n",
      "\u001b[0;32mD:\\Program Files\\Anaconda3\\lib\\site-packages\\ipywidgets\\widgets\\widget.py\u001b[0m in \u001b[0;36mnotify_change\u001b[0;34m(self, change)\u001b[0m\n\u001b[1;32m    366\u001b[0m                 \u001b[1;31m# Send new state to front-end\u001b[0m\u001b[1;33m\u001b[0m\u001b[1;33m\u001b[0m\u001b[0m\n\u001b[1;32m    367\u001b[0m                 \u001b[0mself\u001b[0m\u001b[1;33m.\u001b[0m\u001b[0msend_state\u001b[0m\u001b[1;33m(\u001b[0m\u001b[0mkey\u001b[0m\u001b[1;33m=\u001b[0m\u001b[0mname\u001b[0m\u001b[1;33m)\u001b[0m\u001b[1;33m\u001b[0m\u001b[0m\n\u001b[0;32m--> 368\u001b[0;31m         \u001b[0mLoggingConfigurable\u001b[0m\u001b[1;33m.\u001b[0m\u001b[0mnotify_change\u001b[0m\u001b[1;33m(\u001b[0m\u001b[0mself\u001b[0m\u001b[1;33m,\u001b[0m \u001b[0mchange\u001b[0m\u001b[1;33m)\u001b[0m\u001b[1;33m\u001b[0m\u001b[0m\n\u001b[0m\u001b[1;32m    369\u001b[0m \u001b[1;33m\u001b[0m\u001b[0m\n\u001b[1;32m    370\u001b[0m     \u001b[1;31m#-------------------------------------------------------------------------\u001b[0m\u001b[1;33m\u001b[0m\u001b[1;33m\u001b[0m\u001b[0m\n",
      "\u001b[0;32mD:\\Program Files\\Anaconda3\\lib\\site-packages\\traitlets\\traitlets.py\u001b[0m in \u001b[0;36mnotify_change\u001b[0;34m(self, change)\u001b[0m\n\u001b[1;32m   1172\u001b[0m                 \u001b[0mc\u001b[0m \u001b[1;33m=\u001b[0m \u001b[0mgetattr\u001b[0m\u001b[1;33m(\u001b[0m\u001b[0mself\u001b[0m\u001b[1;33m,\u001b[0m \u001b[0mc\u001b[0m\u001b[1;33m.\u001b[0m\u001b[0mname\u001b[0m\u001b[1;33m)\u001b[0m\u001b[1;33m\u001b[0m\u001b[0m\n\u001b[1;32m   1173\u001b[0m \u001b[1;33m\u001b[0m\u001b[0m\n\u001b[0;32m-> 1174\u001b[0;31m             \u001b[0mc\u001b[0m\u001b[1;33m(\u001b[0m\u001b[0mchange\u001b[0m\u001b[1;33m)\u001b[0m\u001b[1;33m\u001b[0m\u001b[0m\n\u001b[0m\u001b[1;32m   1175\u001b[0m \u001b[1;33m\u001b[0m\u001b[0m\n\u001b[1;32m   1176\u001b[0m     \u001b[1;32mdef\u001b[0m \u001b[0m_add_notifiers\u001b[0m\u001b[1;33m(\u001b[0m\u001b[0mself\u001b[0m\u001b[1;33m,\u001b[0m \u001b[0mhandler\u001b[0m\u001b[1;33m,\u001b[0m \u001b[0mname\u001b[0m\u001b[1;33m,\u001b[0m \u001b[0mtype\u001b[0m\u001b[1;33m)\u001b[0m\u001b[1;33m:\u001b[0m\u001b[1;33m\u001b[0m\u001b[0m\n",
      "\u001b[0;32mD:\\Program Files\\Anaconda3\\lib\\site-packages\\traitlets\\traitlets.py\u001b[0m in \u001b[0;36m__call__\u001b[0;34m(self, change)\u001b[0m\n\u001b[1;32m    694\u001b[0m         \u001b[1;31m# The wrapper is callable\u001b[0m\u001b[1;33m\u001b[0m\u001b[1;33m\u001b[0m\u001b[0m\n\u001b[1;32m    695\u001b[0m         \u001b[1;32mif\u001b[0m \u001b[0mself\u001b[0m\u001b[1;33m.\u001b[0m\u001b[0mnargs\u001b[0m \u001b[1;33m==\u001b[0m \u001b[1;36m0\u001b[0m\u001b[1;33m:\u001b[0m\u001b[1;33m\u001b[0m\u001b[0m\n\u001b[0;32m--> 696\u001b[0;31m             \u001b[0mself\u001b[0m\u001b[1;33m.\u001b[0m\u001b[0mcb\u001b[0m\u001b[1;33m(\u001b[0m\u001b[1;33m)\u001b[0m\u001b[1;33m\u001b[0m\u001b[0m\n\u001b[0m\u001b[1;32m    697\u001b[0m         \u001b[1;32melif\u001b[0m \u001b[0mself\u001b[0m\u001b[1;33m.\u001b[0m\u001b[0mnargs\u001b[0m \u001b[1;33m==\u001b[0m \u001b[1;36m1\u001b[0m\u001b[1;33m:\u001b[0m\u001b[1;33m\u001b[0m\u001b[0m\n\u001b[1;32m    698\u001b[0m             \u001b[0mself\u001b[0m\u001b[1;33m.\u001b[0m\u001b[0mcb\u001b[0m\u001b[1;33m(\u001b[0m\u001b[0mchange\u001b[0m\u001b[1;33m.\u001b[0m\u001b[0mname\u001b[0m\u001b[1;33m)\u001b[0m\u001b[1;33m\u001b[0m\u001b[0m\n",
      "\u001b[0;32mD:\\Program Files\\Anaconda3\\lib\\site-packages\\fileupload\\widget.py\u001b[0m in \u001b[0;36m_data_base64_changed\u001b[0;34m(self, *args)\u001b[0m\n\u001b[1;32m     21\u001b[0m \u001b[1;33m\u001b[0m\u001b[0m\n\u001b[1;32m     22\u001b[0m     \u001b[1;32mdef\u001b[0m \u001b[0m_data_base64_changed\u001b[0m\u001b[1;33m(\u001b[0m\u001b[0mself\u001b[0m\u001b[1;33m,\u001b[0m \u001b[1;33m*\u001b[0m\u001b[0margs\u001b[0m\u001b[1;33m)\u001b[0m\u001b[1;33m:\u001b[0m\u001b[1;33m\u001b[0m\u001b[0m\n\u001b[0;32m---> 23\u001b[0;31m         \u001b[0mself\u001b[0m\u001b[1;33m.\u001b[0m\u001b[0mdata\u001b[0m \u001b[1;33m=\u001b[0m \u001b[0mbase64\u001b[0m\u001b[1;33m.\u001b[0m\u001b[0mb64decode\u001b[0m\u001b[1;33m(\u001b[0m\u001b[0mself\u001b[0m\u001b[1;33m.\u001b[0m\u001b[0mdata_base64\u001b[0m\u001b[1;33m.\u001b[0m\u001b[0msplit\u001b[0m\u001b[1;33m(\u001b[0m\u001b[1;34m','\u001b[0m\u001b[1;33m,\u001b[0m \u001b[1;36m1\u001b[0m\u001b[1;33m)\u001b[0m\u001b[1;33m[\u001b[0m\u001b[1;36m1\u001b[0m\u001b[1;33m]\u001b[0m\u001b[1;33m)\u001b[0m\u001b[1;33m\u001b[0m\u001b[0m\n\u001b[0m",
      "\u001b[0;32mD:\\Program Files\\Anaconda3\\lib\\site-packages\\traitlets\\traitlets.py\u001b[0m in \u001b[0;36m__set__\u001b[0;34m(self, obj, value)\u001b[0m\n\u001b[1;32m    581\u001b[0m             \u001b[1;32mraise\u001b[0m \u001b[0mTraitError\u001b[0m\u001b[1;33m(\u001b[0m\u001b[1;34m'The \"%s\" trait is read-only.'\u001b[0m \u001b[1;33m%\u001b[0m \u001b[0mself\u001b[0m\u001b[1;33m.\u001b[0m\u001b[0mname\u001b[0m\u001b[1;33m)\u001b[0m\u001b[1;33m\u001b[0m\u001b[0m\n\u001b[1;32m    582\u001b[0m         \u001b[1;32melse\u001b[0m\u001b[1;33m:\u001b[0m\u001b[1;33m\u001b[0m\u001b[0m\n\u001b[0;32m--> 583\u001b[0;31m             \u001b[0mself\u001b[0m\u001b[1;33m.\u001b[0m\u001b[0mset\u001b[0m\u001b[1;33m(\u001b[0m\u001b[0mobj\u001b[0m\u001b[1;33m,\u001b[0m \u001b[0mvalue\u001b[0m\u001b[1;33m)\u001b[0m\u001b[1;33m\u001b[0m\u001b[0m\n\u001b[0m\u001b[1;32m    584\u001b[0m \u001b[1;33m\u001b[0m\u001b[0m\n\u001b[1;32m    585\u001b[0m     \u001b[1;32mdef\u001b[0m \u001b[0m_validate\u001b[0m\u001b[1;33m(\u001b[0m\u001b[0mself\u001b[0m\u001b[1;33m,\u001b[0m \u001b[0mobj\u001b[0m\u001b[1;33m,\u001b[0m \u001b[0mvalue\u001b[0m\u001b[1;33m)\u001b[0m\u001b[1;33m:\u001b[0m\u001b[1;33m\u001b[0m\u001b[0m\n",
      "\u001b[0;32mD:\\Program Files\\Anaconda3\\lib\\site-packages\\traitlets\\traitlets.py\u001b[0m in \u001b[0;36mset\u001b[0;34m(self, obj, value)\u001b[0m\n\u001b[1;32m    570\u001b[0m             \u001b[1;31m# we explicitly compare silent to True just in case the equality\u001b[0m\u001b[1;33m\u001b[0m\u001b[1;33m\u001b[0m\u001b[0m\n\u001b[1;32m    571\u001b[0m             \u001b[1;31m# comparison above returns something other than True/False\u001b[0m\u001b[1;33m\u001b[0m\u001b[1;33m\u001b[0m\u001b[0m\n\u001b[0;32m--> 572\u001b[0;31m             \u001b[0mobj\u001b[0m\u001b[1;33m.\u001b[0m\u001b[0m_notify_trait\u001b[0m\u001b[1;33m(\u001b[0m\u001b[0mself\u001b[0m\u001b[1;33m.\u001b[0m\u001b[0mname\u001b[0m\u001b[1;33m,\u001b[0m \u001b[0mold_value\u001b[0m\u001b[1;33m,\u001b[0m \u001b[0mnew_value\u001b[0m\u001b[1;33m)\u001b[0m\u001b[1;33m\u001b[0m\u001b[0m\n\u001b[0m\u001b[1;32m    573\u001b[0m \u001b[1;33m\u001b[0m\u001b[0m\n\u001b[1;32m    574\u001b[0m     \u001b[1;32mdef\u001b[0m \u001b[0m__set__\u001b[0m\u001b[1;33m(\u001b[0m\u001b[0mself\u001b[0m\u001b[1;33m,\u001b[0m \u001b[0mobj\u001b[0m\u001b[1;33m,\u001b[0m \u001b[0mvalue\u001b[0m\u001b[1;33m)\u001b[0m\u001b[1;33m:\u001b[0m\u001b[1;33m\u001b[0m\u001b[0m\n",
      "\u001b[0;32mD:\\Program Files\\Anaconda3\\lib\\site-packages\\traitlets\\traitlets.py\u001b[0m in \u001b[0;36m_notify_trait\u001b[0;34m(self, name, old_value, new_value)\u001b[0m\n\u001b[1;32m   1135\u001b[0m             \u001b[0mnew\u001b[0m\u001b[1;33m=\u001b[0m\u001b[0mnew_value\u001b[0m\u001b[1;33m,\u001b[0m\u001b[1;33m\u001b[0m\u001b[0m\n\u001b[1;32m   1136\u001b[0m             \u001b[0mowner\u001b[0m\u001b[1;33m=\u001b[0m\u001b[0mself\u001b[0m\u001b[1;33m,\u001b[0m\u001b[1;33m\u001b[0m\u001b[0m\n\u001b[0;32m-> 1137\u001b[0;31m             \u001b[0mtype\u001b[0m\u001b[1;33m=\u001b[0m\u001b[1;34m'change'\u001b[0m\u001b[1;33m,\u001b[0m\u001b[1;33m\u001b[0m\u001b[0m\n\u001b[0m\u001b[1;32m   1138\u001b[0m         ))\n\u001b[1;32m   1139\u001b[0m \u001b[1;33m\u001b[0m\u001b[0m\n",
      "\u001b[0;32mD:\\Program Files\\Anaconda3\\lib\\site-packages\\ipywidgets\\widgets\\widget.py\u001b[0m in \u001b[0;36mnotify_change\u001b[0;34m(self, change)\u001b[0m\n\u001b[1;32m    366\u001b[0m                 \u001b[1;31m# Send new state to front-end\u001b[0m\u001b[1;33m\u001b[0m\u001b[1;33m\u001b[0m\u001b[0m\n\u001b[1;32m    367\u001b[0m                 \u001b[0mself\u001b[0m\u001b[1;33m.\u001b[0m\u001b[0msend_state\u001b[0m\u001b[1;33m(\u001b[0m\u001b[0mkey\u001b[0m\u001b[1;33m=\u001b[0m\u001b[0mname\u001b[0m\u001b[1;33m)\u001b[0m\u001b[1;33m\u001b[0m\u001b[0m\n\u001b[0;32m--> 368\u001b[0;31m         \u001b[0mLoggingConfigurable\u001b[0m\u001b[1;33m.\u001b[0m\u001b[0mnotify_change\u001b[0m\u001b[1;33m(\u001b[0m\u001b[0mself\u001b[0m\u001b[1;33m,\u001b[0m \u001b[0mchange\u001b[0m\u001b[1;33m)\u001b[0m\u001b[1;33m\u001b[0m\u001b[0m\n\u001b[0m\u001b[1;32m    369\u001b[0m \u001b[1;33m\u001b[0m\u001b[0m\n\u001b[1;32m    370\u001b[0m     \u001b[1;31m#-------------------------------------------------------------------------\u001b[0m\u001b[1;33m\u001b[0m\u001b[1;33m\u001b[0m\u001b[0m\n",
      "\u001b[0;32mD:\\Program Files\\Anaconda3\\lib\\site-packages\\traitlets\\traitlets.py\u001b[0m in \u001b[0;36mnotify_change\u001b[0;34m(self, change)\u001b[0m\n\u001b[1;32m   1172\u001b[0m                 \u001b[0mc\u001b[0m \u001b[1;33m=\u001b[0m \u001b[0mgetattr\u001b[0m\u001b[1;33m(\u001b[0m\u001b[0mself\u001b[0m\u001b[1;33m,\u001b[0m \u001b[0mc\u001b[0m\u001b[1;33m.\u001b[0m\u001b[0mname\u001b[0m\u001b[1;33m)\u001b[0m\u001b[1;33m\u001b[0m\u001b[0m\n\u001b[1;32m   1173\u001b[0m \u001b[1;33m\u001b[0m\u001b[0m\n\u001b[0;32m-> 1174\u001b[0;31m             \u001b[0mc\u001b[0m\u001b[1;33m(\u001b[0m\u001b[0mchange\u001b[0m\u001b[1;33m)\u001b[0m\u001b[1;33m\u001b[0m\u001b[0m\n\u001b[0m\u001b[1;32m   1175\u001b[0m \u001b[1;33m\u001b[0m\u001b[0m\n\u001b[1;32m   1176\u001b[0m     \u001b[1;32mdef\u001b[0m \u001b[0m_add_notifiers\u001b[0m\u001b[1;33m(\u001b[0m\u001b[0mself\u001b[0m\u001b[1;33m,\u001b[0m \u001b[0mhandler\u001b[0m\u001b[1;33m,\u001b[0m \u001b[0mname\u001b[0m\u001b[1;33m,\u001b[0m \u001b[0mtype\u001b[0m\u001b[1;33m)\u001b[0m\u001b[1;33m:\u001b[0m\u001b[1;33m\u001b[0m\u001b[0m\n",
      "\u001b[0;32m<ipython-input-28-1e00ae3d8e65>\u001b[0m in \u001b[0;36m_cb\u001b[0;34m(change)\u001b[0m\n\u001b[1;32m     41\u001b[0m             \u001b[0mname\u001b[0m \u001b[1;33m=\u001b[0m \u001b[0mchange\u001b[0m\u001b[1;33m.\u001b[0m\u001b[0mfilename\u001b[0m\u001b[1;33m.\u001b[0m\u001b[0msplit\u001b[0m\u001b[1;33m(\u001b[0m\u001b[1;34m\".\"\u001b[0m\u001b[1;33m)\u001b[0m\u001b[1;33m[\u001b[0m\u001b[1;36m0\u001b[0m\u001b[1;33m]\u001b[0m\u001b[1;33m\u001b[0m\u001b[0m\n\u001b[1;32m     42\u001b[0m \u001b[1;33m\u001b[0m\u001b[0m\n\u001b[0;32m---> 43\u001b[0;31m             \u001b[1;32mwith\u001b[0m \u001b[0mopen\u001b[0m\u001b[1;33m(\u001b[0m\u001b[0mdir_manager\u001b[0m\u001b[1;33m.\u001b[0m\u001b[0mget_default_dir\u001b[0m\u001b[1;33m(\u001b[0m\u001b[1;33m)\u001b[0m \u001b[1;33m+\u001b[0m                      \u001b[0mname\u001b[0m \u001b[1;33m+\u001b[0m \u001b[1;34m'.json'\u001b[0m\u001b[1;33m)\u001b[0m \u001b[1;32mas\u001b[0m \u001b[0mjsonfile\u001b[0m\u001b[1;33m:\u001b[0m\u001b[1;33m\u001b[0m\u001b[0m\n\u001b[0m\u001b[1;32m     44\u001b[0m \u001b[1;33m\u001b[0m\u001b[0m\n\u001b[1;32m     45\u001b[0m                 \u001b[0mold_coords_dict\u001b[0m \u001b[1;33m=\u001b[0m \u001b[0mjson\u001b[0m\u001b[1;33m.\u001b[0m\u001b[0mload\u001b[0m\u001b[1;33m(\u001b[0m\u001b[0mjsonfile\u001b[0m\u001b[1;33m)\u001b[0m\u001b[1;33m[\u001b[0m\u001b[0mname\u001b[0m \u001b[1;33m+\u001b[0m \u001b[1;34m\".jpg\"\u001b[0m\u001b[1;33m]\u001b[0m\u001b[1;33m\u001b[0m\u001b[0m\n",
      "\u001b[0;31mFileNotFoundError\u001b[0m: [Errno 2] No such file or directory: '..\\\\rsc\\\\img\\\\Default\\\\2.json'"
     ]
    }
   ],
   "source": [
    "w = HBox([image_labeler,right_size_widget])\n",
    "w.margin = '5%'\n",
    "w"
   ]
  }
 ],
 "metadata": {
  "anaconda-cloud": {},
  "extensions": {
   "jupyter_dashboards": {
    "activeView": "report_default",
    "version": 1,
    "views": {
     "grid_default": {
      "cellMargin": 10,
      "defaultCellHeight": 20,
      "maxColumns": 12,
      "name": "grid",
      "type": "grid"
     },
     "report_default": {
      "name": "report",
      "type": "report"
     }
    }
   }
  },
  "kernelspec": {
   "display_name": "Python [default]",
   "language": "python",
   "name": "python3"
  },
  "language_info": {
   "codemirror_mode": {
    "name": "ipython",
    "version": 3
   },
   "file_extension": ".py",
   "mimetype": "text/x-python",
   "name": "python",
   "nbconvert_exporter": "python",
   "pygments_lexer": "ipython3",
   "version": "3.5.2"
  },
  "widgets": {
   "state": {
    "3803d08902d74ac59a815c0dd1b205ca": {
     "views": [
      {
       "cell_index": 25
      }
     ]
    }
   },
   "version": "1.2.0"
  }
 },
 "nbformat": 4,
 "nbformat_minor": 2
}
