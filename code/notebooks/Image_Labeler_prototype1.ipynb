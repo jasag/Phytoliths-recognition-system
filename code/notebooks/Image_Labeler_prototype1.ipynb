{
 "cells": [
  {
   "cell_type": "markdown",
   "metadata": {},
   "source": [
    "<div height= \"1500px\" width=\"1500px\"><div/>"
   ]
  },
  {
   "cell_type": "markdown",
   "metadata": {},
   "source": [
    "# Image Labeler\n",
    "\n",
    "En este notebook pretendemos crear una widget que nos permita etiquetar los fitolitos."
   ]
  },
  {
   "cell_type": "markdown",
   "metadata": {},
   "source": [
    "<svg id=\"svg\" width=\"200px\" height=\"200px\" version=\"1.1\"\n",
    "     xmlns=\"http://www.w3.org/1999/svg\" xmlns:xlink= \"http://www.w3.org/1999/xlink\">\n",
    "</svg>"
   ]
  },
  {
   "cell_type": "code",
   "execution_count": 25,
   "metadata": {
    "collapsed": false
   },
   "outputs": [],
   "source": [
    "from __future__ import print_function\n",
    "from IPython.display import SVG\n",
    "#SVG(url='http://www.openbookproject.net/tutorials/getdown/svg/resources/lesson1/starter.svg')"
   ]
  },
  {
   "cell_type": "code",
   "execution_count": 26,
   "metadata": {
    "collapsed": false
   },
   "outputs": [],
   "source": [
    "import ipywidgets as widgets\n",
    "from traitlets import Unicode, validate, Bool, Any\n",
    "from ipywidgets import Color\n",
    "\n",
    "\n",
    "class ImageLabelerWidget(widgets.DOMWidget):\n",
    "    _view_name = Unicode('ImageLabelerView').tag(sync=True)\n",
    "    _view_module = Unicode('ImageLabeler').tag(sync=True)\n"
   ]
  },
  {
   "cell_type": "code",
   "execution_count": 27,
   "metadata": {
    "collapsed": false
   },
   "outputs": [
    {
     "data": {
      "application/javascript": [
       "require.undef('ImageLabeler');\n",
       "var svgns = \"http://www.w3.org/2000/svg\";\n",
       "var svg, startX, endX, startY, endY;\n",
       "var mouseIsDown = 0;\n",
       "var count = 0;\n",
       "var rect = null;\n",
       "\n",
       "function getMousePos(evt) {\n",
       "    return {\n",
       "        x: evt.clientX - startX,\n",
       "        y: evt.clientY - startY\n",
       "    };\n",
       "}\n",
       "\n",
       "function mouseMove(eve) {\n",
       "    var pos = getMousePos(eve);\n",
       "    if(rect){\n",
       "      rect.setAttributeNS(null, 'x', startX);\n",
       "      rect.setAttributeNS(null, 'y', startY);\n",
       "      rect.setAttributeNS(null, 'height', Math.abs(pos.y));\n",
       "      rect.setAttributeNS(null, 'width', Math.abs(pos.x));\n",
       "      }\n",
       "}\n",
       "\n",
       "function mouseClick(eve) {\n",
       "    if (rect !== null) {\n",
       "        rect = null;\n",
       "        console.log(\"finsihed.\");\n",
       "    } else {\n",
       "        var pos = getMousePos(eve);\n",
       "        startX= eve.clientX;\n",
       "        startY = eve.clientY;\n",
       "        \n",
       "        console.log(\"begun.\");\n",
       "        \n",
       "        if(!rect){\n",
       "          rect = document.createElementNS(svgns, 'rect');\n",
       "          rect.id = 'rect' + count;\n",
       "          count = count + 1;\n",
       "          rect.setAttributeNS(null, 'fill', 'transparent');\n",
       "          rect.setAttributeNS(null, 'stroke', 'green');\n",
       "          rect.setAttributeNS(null, 'linewidth', '10px');\n",
       "          document.getElementById('svg').appendChild(rect);\n",
       "          }\n",
       "        }\n",
       "}\n",
       "\n",
       "\n",
       "define('ImageLabeler', [\"jupyter-js-widgets\"], function(widgets) {\n",
       "\n",
       "    var ImageLabelerView = widgets.DOMWidgetView.extend({\n",
       "\n",
       "        // Renderizar vista\n",
       "        render: function() {\n",
       "            var svg = document.createElementNS(\"http://www.w3.org/2000/svg\", \"svg\");\n",
       "//             svg = document.createElement('svg');\n",
       "             svg.id = 'svg';\n",
       "             svg.setAttribute('width', '800px');\n",
       "             svg.setAttribute('height', '800px');\n",
       "//             svg.setAttribute('version', '1.1');\n",
       "//             svg.setAttribute('xmlns', 'http://www.w3.org/1999/svg');\n",
       "//             svg.setAttribute('xmlns:xlink', 'http://www.w3.org/1999/xlink');\n",
       "            \n",
       "            //Cargar imagen\n",
       "//            var svg = document.getElementById(\"starter_svg\");\n",
       "//             image = document.createElement('image');\n",
       "//             image.id = 'img';\n",
       "//             image.setAttribute('width', '200px');\n",
       "//             image.setAttribute('height', '200px');\n",
       "//             image.setAttribute('xlink:href', 'https://www.w3schools.com/css/img_fjords.jpg');\n",
       "//             image.setAttribute('x', '0');\n",
       "//             image.setAttribute('y', '0');\n",
       "//            svg.innerHTML += '<image xlink:href=\"https://www.w3schools.com/css/img_fjords.jpg\" x=\"0\" y=\"0\" height=\"200px\" width=\"200px\"/>'\n",
       "            \n",
       "//            svg.appendChild(image)\n",
       "            \n",
       "            svg.addEventListener(\"click\", mouseClick, false);\n",
       "            svg.addEventListener(\"mousemove\", mouseMove, false);\n",
       "            \n",
       "            this.el = svg\n",
       "        },\n",
       "    });\n",
       "\n",
       "    return {\n",
       "        ImageLabelerView: ImageLabelerView\n",
       "    };\n",
       "});"
      ],
      "text/plain": [
       "<IPython.core.display.Javascript object>"
      ]
     },
     "metadata": {},
     "output_type": "display_data"
    }
   ],
   "source": [
    "%%javascript\n",
    "require.undef('ImageLabeler');\n",
    "var svgns = \"http://www.w3.org/2000/svg\";\n",
    "var svg, startX, endX, startY, endY;\n",
    "var mouseIsDown = 0;\n",
    "var count = 0;\n",
    "var rect = null;\n",
    "\n",
    "function getMousePos(evt) {\n",
    "    return {\n",
    "        x: evt.clientX - startX,\n",
    "        y: evt.clientY - startY\n",
    "    };\n",
    "}\n",
    "\n",
    "function mouseMove(eve) {\n",
    "    var pos = getMousePos(eve);\n",
    "    if(rect){\n",
    "      rect.setAttributeNS(null, 'x', startX);\n",
    "      rect.setAttributeNS(null, 'y', startY);\n",
    "      rect.setAttributeNS(null, 'height', Math.abs(pos.y));\n",
    "      rect.setAttributeNS(null, 'width', Math.abs(pos.x));\n",
    "      }\n",
    "}\n",
    "\n",
    "function mouseClick(eve) {\n",
    "    if (rect !== null) {\n",
    "        rect = null;\n",
    "        console.log(\"finsihed.\");\n",
    "    } else {\n",
    "        var pos = getMousePos(eve);\n",
    "        startX= eve.clientX;\n",
    "        startY = eve.clientY;\n",
    "        \n",
    "        console.log(\"begun.\");\n",
    "        \n",
    "        if(!rect){\n",
    "          rect = document.createElementNS(svgns, 'rect');\n",
    "          rect.id = 'rect' + count;\n",
    "          count = count + 1;\n",
    "          rect.setAttributeNS(null, 'fill', 'transparent');\n",
    "          rect.setAttributeNS(null, 'stroke', 'green');\n",
    "          rect.setAttributeNS(null, 'linewidth', '10px');\n",
    "          document.getElementById('svg').appendChild(rect);\n",
    "          }\n",
    "        }\n",
    "}\n",
    "\n",
    "\n",
    "define('ImageLabeler', [\"jupyter-js-widgets\"], function(widgets) {\n",
    "\n",
    "    var ImageLabelerView = widgets.DOMWidgetView.extend({\n",
    "\n",
    "        // Renderizar vista\n",
    "        render: function() {\n",
    "            var svg = document.createElementNS(\"http://www.w3.org/2000/svg\", \"svg\");\n",
    "//             svg = document.createElement('svg');\n",
    "             svg.id = 'svg';\n",
    "             svg.setAttribute('width', '800px');\n",
    "             svg.setAttribute('height', '800px');\n",
    "//             svg.setAttribute('version', '1.1');\n",
    "//             svg.setAttribute('xmlns', 'http://www.w3.org/1999/svg');\n",
    "//             svg.setAttribute('xmlns:xlink', 'http://www.w3.org/1999/xlink');\n",
    "            \n",
    "            //Cargar imagen\n",
    "//            var svg = document.getElementById(\"starter_svg\");\n",
    "//             image = document.createElement('image');\n",
    "//             image.id = 'img';\n",
    "//             image.setAttribute('width', '200px');\n",
    "//             image.setAttribute('height', '200px');\n",
    "//             image.setAttribute('xlink:href', 'https://www.w3schools.com/css/img_fjords.jpg');\n",
    "//             image.setAttribute('x', '0');\n",
    "//             image.setAttribute('y', '0');\n",
    "//            svg.innerHTML += '<image xlink:href=\"https://www.w3schools.com/css/img_fjords.jpg\" x=\"0\" y=\"0\" height=\"200px\" width=\"200px\"/>'\n",
    "            \n",
    "//            svg.appendChild(image)\n",
    "            \n",
    "            svg.addEventListener(\"click\", mouseClick, false);\n",
    "            svg.addEventListener(\"mousemove\", mouseMove, false);\n",
    "            \n",
    "            this.el = svg\n",
    "        },\n",
    "    });\n",
    "\n",
    "    return {\n",
    "        ImageLabelerView: ImageLabelerView\n",
    "    };\n",
    "});"
   ]
  },
  {
   "cell_type": "markdown",
   "metadata": {},
   "source": [
    "# Demostración\n",
    "\n",
    "Justo debajo hemos insertado un canvas mediante el que mostramos las coordenadas en las que estas clicando. Pruebalo."
   ]
  },
  {
   "cell_type": "code",
   "execution_count": 28,
   "metadata": {
    "collapsed": false
   },
   "outputs": [],
   "source": [
    "ImageLabelerWidget()\n"
   ]
  },
  {
   "cell_type": "code",
   "execution_count": null,
   "metadata": {
    "collapsed": true
   },
   "outputs": [],
   "source": []
  }
 ],
 "metadata": {
  "kernelspec": {
   "display_name": "Python 3",
   "language": "python",
   "name": "python3"
  },
  "language_info": {
   "codemirror_mode": {
    "name": "ipython",
    "version": 3
   },
   "file_extension": ".py",
   "mimetype": "text/x-python",
   "name": "python",
   "nbconvert_exporter": "python",
   "pygments_lexer": "ipython3",
   "version": "3.5.2"
  },
  "widgets": {
   "state": {
    "6c843402746948a8810b0cbffc52a92f": {
     "views": [
      {
       "cell_index": 7
      }
     ]
    }
   },
   "version": "1.2.0"
  }
 },
 "nbformat": 4,
 "nbformat_minor": 2
}
