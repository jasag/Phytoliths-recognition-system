{
 "cells": [
  {
   "cell_type": "code",
   "execution_count": 5,
   "metadata": {
    "collapsed": true
   },
   "outputs": [],
   "source": [
    "import pickle\n",
    "\n",
    "path = '..\\\\..\\\\rsc\\\\obj\\\\'\n",
    "\n",
    "real_x_path = path + 'real_x_train.sav'\n",
    "real_y_path = path + 'real_y_train.sav'\n",
    "\n",
    "X_train = pickle.load(open(real_x_path, 'rb'))\n",
    "y_train = pickle.load(open(real_y_path, 'rb'))"
   ]
  },
  {
   "cell_type": "markdown",
   "metadata": {},
   "source": [
    "# 2. Crear vocabulario\n",
    "\n",
    "## A. Extracción de características\n",
    "\n",
    "Una vez obtenido el conjunto de entrenamiento, procedemos a extraer sus  características. Para ello, extraemos las características por cada una de las imagenes. Y, finalmente, unimos todas en un mismo conjunto de características.\n",
    "\n",
    "Este proceso es aplicable a cualquier tipo de características, aunque en este caso se le aplique a las características HoG."
   ]
  },
  {
   "cell_type": "code",
   "execution_count": 6,
   "metadata": {},
   "outputs": [
    {
     "name": "stdout",
     "output_type": "stream",
     "text": [
      "Procesada imagen0/53688\n",
      "Procesada imagen15000/53688\n",
      "Procesada imagen30000/53688\n",
      "Procesada imagen45000/53688\n",
      "Procesada imagen53688/53688\n"
     ]
    }
   ],
   "source": [
    "from skimage.feature import daisy\n",
    "import pickle # Módulo para serializar\n",
    "\n",
    "path = '..\\\\..\\\\rsc\\\\obj\\\\BoW_features\\\\'\n",
    "\n",
    "daisy_features_path = path + 'BoW_features'\n",
    "ext= '.sav'\n",
    "\n",
    "train_features = []\n",
    "i = 0\n",
    "\n",
    "# Cada 3000 imágenes creamos un conjunto de entrenamiento\n",
    "for img in X_train: \n",
    "    if i%15000 ==0:\n",
    "        print(\"Procesada imagen\"+str(i)+\"/\"+str(len(X_train)))\n",
    "        pickle.dump(train_features, open(daisy_features_path+str(i)+ext, 'wb'))\n",
    "        train_features = []\n",
    "#     img_grey = rgb2gray(img)\n",
    "    features = daisy(img)\n",
    "    numFils, numCols, sizeDesc = features.shape\n",
    "    features = features.reshape((numFils*numCols,sizeDesc))\n",
    "    train_features.append(features)\n",
    "    i=i+1\n",
    "\n",
    "print(\"Procesada imagen\"+str(i)+\"/\"+str(len(X_train)))\n",
    "pickle.dump(train_features, open(daisy_features_path+str(i)+ext, 'wb'))"
   ]
  },
  {
   "cell_type": "code",
   "execution_count": 7,
   "metadata": {},
   "outputs": [
    {
     "data": {
      "text/plain": [
       "(347520, 200)"
      ]
     },
     "execution_count": 7,
     "metadata": {},
     "output_type": "execute_result"
    }
   ],
   "source": [
    "import numpy as np\n",
    "all_features = np.concatenate(train_features)\n",
    "all_features.shape"
   ]
  }
 ],
 "metadata": {
  "anaconda-cloud": {},
  "kernelspec": {
   "display_name": "Python [default]",
   "language": "python",
   "name": "python3"
  },
  "language_info": {
   "codemirror_mode": {
    "name": "ipython",
    "version": 3
   },
   "file_extension": ".py",
   "mimetype": "text/x-python",
   "name": "python",
   "nbconvert_exporter": "python",
   "pygments_lexer": "ipython3",
   "version": "3.5.2"
  }
 },
 "nbformat": 4,
 "nbformat_minor": 2
}
