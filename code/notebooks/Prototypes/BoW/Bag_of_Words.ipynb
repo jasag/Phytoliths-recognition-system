{
 "cells": [
  {
   "cell_type": "markdown",
   "metadata": {},
   "source": [
    "# Bag of Words\n",
    "\n",
    "Bag of Words obtiene las características de una imagen, es decir, las formas, texturas, etc., como palabras [[1](https://en.wikipedia.org/w/index.php?title=Bag-of-words_model_in_computer_vision&oldid=768535010)]. Así, se describe la imagen en función de la frecuencia de cada una de estas palabras o características.\n",
    "\n",
    "En este notebook entrenaremos un clasificador con la técnica Bag of Words. Lo cual se compone, brevemente explicado, de los siguientes pasos:\n",
    "\n",
    "1. Crear el conjunto de entrenamiento.\n",
    "2. Crear vocabulario.\n",
    "    1. Extracción de características.\n",
    "    2. Construcción del vocabulario mediante Clustering\n",
    "3. Entrenar el clasificador."
   ]
  },
  {
   "cell_type": "code",
   "execution_count": 9,
   "metadata": {
    "collapsed": true
   },
   "outputs": [],
   "source": [
    "%matplotlib inline \n",
    "import numpy as np\n",
    "import matplotlib.pyplot as plt"
   ]
  },
  {
   "cell_type": "markdown",
   "metadata": {},
   "source": [
    "# 1. Cargamos el conjunto de entrenamiento\n",
    "\n",
    "La manera en la que cargamos el conjunto de entrenamiento podemos observarlo en el Jupyter Notebook *1_Train_Set_Load*."
   ]
  },
  {
   "cell_type": "markdown",
   "metadata": {},
   "source": [
    "# 2. Crear vocabulario\n",
    "\n",
    "La manera en la que creamos el voacabulario podemos observarlo en el Jupyter Notebook *2A_Daisy_Features* y *2B_Clustering*."
   ]
  },
  {
   "cell_type": "code",
   "execution_count": null,
   "metadata": {
    "collapsed": true
   },
   "outputs": [],
   "source": [
    "path = '../rsc/obj/'\n",
    "\n",
    "mini_kmeans_path = path + 'mini_kmeans.sav'\n",
    "\n",
    "mini_kmeans = pickle.load(open(mini_kmeans_path, 'rb'))"
   ]
  },
  {
   "cell_type": "markdown",
   "metadata": {},
   "source": [
    "# 3. Obtención de Bag of Words"
   ]
  },
  {
   "cell_type": "code",
   "execution_count": null,
   "metadata": {
    "collapsed": true
   },
   "outputs": [],
   "source": [
    "trainInstances = []\n",
    "for imgFeatures in train_features:\n",
    "    # extrae pertenencias a cluster\n",
    "    pertenencias = mini_kmeans.predict(imgFeatures)\n",
    "    # extrae histograma\n",
    "    bovw_representation, _ = np.histogram(pertenencias, bins=500, range=(0,499))\n",
    "    # añade al conjunto de entrenamiento final\n",
    "    trainInstances.append(bovw_representation)\n",
    "trainInstances = np.array(trainInstances)"
   ]
  },
  {
   "cell_type": "markdown",
   "metadata": {},
   "source": [
    "## Entrenamiento de un clasificador"
   ]
  },
  {
   "cell_type": "code",
   "execution_count": null,
   "metadata": {
    "collapsed": true
   },
   "outputs": [],
   "source": [
    "from sklearn import svm\n",
    "\n",
    "\n",
    "classifier = svm.SVC(kernel='linear', C=0.01)\n",
    "y_pred = classifier.fit(trainInstances, y_train)"
   ]
  },
  {
   "cell_type": "code",
   "execution_count": null,
   "metadata": {
    "collapsed": true
   },
   "outputs": [],
   "source": [
    "import pickle # Módulo para serializar\n",
    "\n",
    "path = '../rsc/obj/'\n",
    "\n",
    "svm_BoW_path = path + 'svm_BoW.sav'\n",
    "\n",
    "pickle.dump(classifier, open(svm_BoW_path, 'wb'))"
   ]
  }
 ],
 "metadata": {
  "anaconda-cloud": {},
  "kernelspec": {
   "display_name": "Python [default]",
   "language": "python",
   "name": "python3"
  },
  "language_info": {
   "codemirror_mode": {
    "name": "ipython",
    "version": 3
   },
   "file_extension": ".py",
   "mimetype": "text/x-python",
   "name": "python",
   "nbconvert_exporter": "python",
   "pygments_lexer": "ipython3",
   "version": "3.5.2"
  }
 },
 "nbformat": 4,
 "nbformat_minor": 2
}
