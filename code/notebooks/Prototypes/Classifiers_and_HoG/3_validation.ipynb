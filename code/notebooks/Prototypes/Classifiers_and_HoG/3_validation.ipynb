{
 "cells": [
  {
   "cell_type": "markdown",
   "metadata": {},
   "source": [
    "# Validación\n",
    "\n",
    "Para la validación de nuestro clasificadores, vamos a apoyarnos en dos herramientas: la validación cruzada y distintas métricas.\n",
    "\n",
    "La validación cruzada consiste en ir realizando distintas particiones de nuestro conjunto de datos para utilizarlas como particiones de entrenamiento y validación. Y de esta manera obtener ciertas métricas de nuestros clasificadores.\n",
    "\n",
    "Vamos a utilizar dos métricas principalmente:\n",
    "1. *F1-score*\n",
    "2. *Acurracy score*\n",
    "\n",
    "Primero importamos los clasificadores:"
   ]
  },
  {
   "cell_type": "code",
   "execution_count": 1,
   "metadata": {
    "collapsed": true
   },
   "outputs": [],
   "source": [
    "import pickle\n",
    "\n",
    "path = '../../rsc/obj/'\n",
    "\n",
    "# Todas las rutas\n",
    "svm_path = path + 'svm_clf.sav'\n",
    "svm2_path = path + 'svm2_clf.sav'\n",
    "gtb_path = path + 'gtb_clf.sav'\n",
    "rf_path = path + 'rf_clf.sav'\n",
    "\n",
    "# Serizalización\n",
    "svm_clf = pickle.load(open(svm_path, 'rb'))\n",
    "svm2_clf = pickle.load(open(svm2_path, 'rb'))\n",
    "gtb_clf = pickle.load(open(gtb_path, 'rb'))\n",
    "rf_clf = pickle.load(open(rf_path, 'rb'))\n",
    "\n",
    "classifiers = [svm_clf, svm2_clf, gtb_clf, rf_clf]"
   ]
  },
  {
   "cell_type": "markdown",
   "metadata": {},
   "source": [
    "Segundo, importamos las características:"
   ]
  },
  {
   "cell_type": "code",
   "execution_count": 2,
   "metadata": {
    "collapsed": true
   },
   "outputs": [],
   "source": [
    "X_train_path = path + 'X_train.sav'\n",
    "y_train_path = path + 'y_train.sav'\n",
    "\n",
    "X_train = pickle.load(open(X_train_path, 'rb'))\n",
    "y_train = pickle.load(open(y_train_path, 'rb'))"
   ]
  },
  {
   "cell_type": "code",
   "execution_count": 3,
   "metadata": {
    "collapsed": true
   },
   "outputs": [],
   "source": [
    "'''Función para la impresión formateada de la precisión'''\n",
    "def accuracy_printer(scores):\n",
    "    print(\"Accuracy: %0.2f (+/- %0.2f)\" % (scores.mean(), scores.std() * 2))"
   ]
  },
  {
   "cell_type": "markdown",
   "metadata": {},
   "source": [
    "## 1. Métrica F1\n",
    "\n",
    "Primero calculamos las métricas para todos los clasificadores."
   ]
  },
  {
   "cell_type": "code",
   "execution_count": 4,
   "metadata": {},
   "outputs": [
    {
     "name": "stdout",
     "output_type": "stream",
     "text": [
      "0\n",
      "Accuracy: 0.98 (+/- 0.01)\n",
      "1\n",
      "Accuracy: 0.99 (+/- 0.00)\n",
      "2\n",
      "Accuracy: 0.98 (+/- 0.01)\n",
      "3\n",
      "Accuracy: 0.97 (+/- 0.01)\n"
     ]
    }
   ],
   "source": [
    "from sklearn.model_selection import cross_val_score\n",
    "#from sklearn import metrics\n",
    "\n",
    "for i in range(len(classifiers)):\n",
    "    print(i)\n",
    "    score = cross_val_score(classifiers[i], X_train, y_train, cv=5, scoring='f1_macro')\n",
    "    accuracy_printer(score)"
   ]
  },
  {
   "cell_type": "markdown",
   "metadata": {},
   "source": [
    "## 2. Métrica Acurracy"
   ]
  },
  {
   "cell_type": "code",
   "execution_count": 6,
   "metadata": {},
   "outputs": [
    {
     "name": "stdout",
     "output_type": "stream",
     "text": [
      "0\n",
      "Accuracy: 0.99 (+/- 0.01)\n",
      "1\n",
      "Accuracy: 0.99 (+/- 0.00)\n",
      "2\n",
      "Accuracy: 0.98 (+/- 0.01)\n",
      "3\n",
      "Accuracy: 0.97 (+/- 0.01)\n"
     ]
    }
   ],
   "source": [
    "from sklearn.model_selection import cross_val_score\n",
    "#from sklearn import metrics\n",
    "\n",
    "for i in range(len(classifiers)):\n",
    "    print(i)\n",
    "    score = cross_val_score(classifiers[i], X_train, y_train, cv=5, scoring='accuracy')\n",
    "    accuracy_printer(score)"
   ]
  }
 ],
 "metadata": {
  "anaconda-cloud": {},
  "kernelspec": {
   "display_name": "Python [default]",
   "language": "python",
   "name": "python3"
  },
  "language_info": {
   "codemirror_mode": {
    "name": "ipython",
    "version": 3
   },
   "file_extension": ".py",
   "mimetype": "text/x-python",
   "name": "python",
   "nbconvert_exporter": "python",
   "pygments_lexer": "ipython3",
   "version": "3.5.2"
  }
 },
 "nbformat": 4,
 "nbformat_minor": 2
}
