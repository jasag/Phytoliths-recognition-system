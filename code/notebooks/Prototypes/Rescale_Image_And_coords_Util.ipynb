{
 "cells": [
  {
   "cell_type": "markdown",
   "metadata": {},
   "source": [
    "<div Style=\"text-align: center;line-height: 30px;font-size:32px;font-weight: bold\"> Herramienta para el reescalado de imágenes en bloque</div>\n",
    "***\n",
    "Este notebook es una herramienta para el reescalado de imágenes."
   ]
  },
  {
   "cell_type": "code",
   "execution_count": null,
   "metadata": {
    "collapsed": true
   },
   "outputs": [],
   "source": [
    "%matplotlib inline\n",
    "from __future__ import print_function\n",
    "from ipywidgets import interact_manual, fixed\n",
    "\n",
    "import os.path\n",
    "\n",
    "from math import ceil\n",
    "\n",
    "import numpy as np\n",
    "import random\n",
    "\n",
    "from skimage import io\n",
    "from skimage.transform import rotate, rescale, resize\n",
    "\n",
    "import matplotlib.pyplot as plt\n",
    "\n",
    "import json\n",
    "\n",
    "import warnings"
   ]
  },
  {
   "cell_type": "code",
   "execution_count": null,
   "metadata": {
    "collapsed": true
   },
   "outputs": [],
   "source": [
    "def rescale_coords(coords, factor_h, factor_v, h_limits, v_limits):\n",
    "    rescale_cs = []\n",
    "    for coord in coords:\n",
    "        if(coord[0] > h_limits[0] and coord[2] < h_limits[1] and\n",
    "           coord[1] > v_limits[0] and coord[3] < h_limits[1]):\n",
    "            r_coord = []\n",
    "            r_coord.append(coord[0] * factor_h)\n",
    "            r_coord.append(coord[1] * factor_v)\n",
    "            r_coord.append(coord[2] * factor_h)\n",
    "            r_coord.append(coord[3] * factor_v)\n",
    "            rescale_cs.append(r_coord)\n",
    "    return rescale_cs"
   ]
  },
  {
   "cell_type": "code",
   "execution_count": null,
   "metadata": {
    "collapsed": true
   },
   "outputs": [],
   "source": [
    "# Contamos el número de imágenes que tenemos en\n",
    "# el directorio de las imágenes etiquetadas\n",
    "import os, os.path\n",
    "import re\n",
    "\n",
    "path=\"../../rsc/img/Default\"\n",
    "dest_path = \"../../rsc/img/rescaled/\"\n",
    "\n",
    "pattern = re.compile(\"^.*\\.jpg$\", re.IGNORECASE)\n",
    "\n",
    "def list_images(path='../../rsc/img/Default'):\n",
    "    images_list = []\n",
    "    for name in os.listdir(path):\n",
    "        json_name = name.split(\".\")[0] + \".json\"\n",
    "        if pattern.match(name) \\\n",
    "        and os.path.exists(path + \"/\" + json_name):\n",
    "            images_list.append(path + \"/\" + name)\n",
    "    return images_list"
   ]
  },
  {
   "cell_type": "code",
   "execution_count": null,
   "metadata": {
    "collapsed": true
   },
   "outputs": [],
   "source": [
    "def read_coords_conversion(coords_dict):\n",
    "    for k, coords in coords_dict.items():\n",
    "        coords_mod = np.array(coords)\n",
    "        coords_mod = coords_mod[:,[2,0,3,1]]\n",
    "        coords_mod = coords_mod.tolist()\n",
    "        coords_dict[k] = coords_mod\n",
    "    return coords_dict"
   ]
  },
  {
   "cell_type": "code",
   "execution_count": null,
   "metadata": {
    "collapsed": true
   },
   "outputs": [],
   "source": [
    "def save_coords_conversion(coords_dict):\n",
    "    for k, coords in coords_dict.items():\n",
    "        if len(coords) == 0:\n",
    "            continue\n",
    "        coords_mod = np.array(coords)\n",
    "        coords_mod = coords_mod[:,[1,3,0,2]]\n",
    "        coords_mod = coords_mod.tolist()\n",
    "        coords_dict[k] = coords_mod\n",
    "    return coords_dict"
   ]
  },
  {
   "cell_type": "code",
   "execution_count": null,
   "metadata": {},
   "outputs": [],
   "source": [
    "import copy\n",
    "\n",
    "images_names_list = list_images(path)\n",
    "\n",
    "if len(images_names_list) == 0:\n",
    "    raise ValueError(\"Number of images must be greater than 0\")\n",
    "\n",
    "for image_path in images_names_list:\n",
    "    \n",
    "    warnings.filterwarnings('ignore')\n",
    "    original_image = io.imread(image_path)\n",
    "\n",
    "    json_path = \"../..\" + image_path.split(\".\")[-2] + \".json\"\n",
    "    image_name = os.path.split(image_path)[1].split(\".\")[0]\n",
    "    image_with_format = image_name + \".jpg\"\n",
    "\n",
    "    # Cargamos coordenadas, si existen,\n",
    "    # y si no existe fichero de coordenadas\n",
    "    # pasamos a la siguiente imagen\n",
    "    if os.path.exists(json_path):\n",
    "        with open(json_path) as jsonfile:\n",
    "            coords_dict = json.load(jsonfile)\n",
    "            coords_dict = coords_dict[image_with_format]\n",
    "            coords_dict = read_coords_conversion(coords_dict)\n",
    "    else:\n",
    "        continue\n",
    "\n",
    "    # Cambios de tamaño en la imagen\n",
    "    mod_image = original_image[0:1920,0:1920]\n",
    "    mod_image = resize(mod_image,(480,480),mode='constant')\n",
    "    \n",
    "    mod_coords = dict()\n",
    "    for k, coords in coords_dict.items():\n",
    "            mod_coords[k] = rescale_coords(coords, \n",
    "                                           480/1920, 480/1920, (0,1920), (0,1920)) \n",
    "    \n",
    "    # Guardamos imagen\n",
    "    io.imsave(dest_path + image_name + \".jpg\", mod_image, quality=30)\n",
    "\n",
    "    with open(dest_path + image_name + \".json\", \"w\") as jsonfile2:\n",
    "        mod_coords_dict = dict()\n",
    "        mod_coords_dict[image_name +\".jpg\"] = save_coords_conversion(mod_coords)\n",
    "        json.dump(mod_coords_dict, jsonfile2)"
   ]
  }
 ],
 "metadata": {
  "anaconda-cloud": {},
  "kernelspec": {
   "display_name": "Python [default]",
   "language": "python",
   "name": "python3"
  },
  "language_info": {
   "codemirror_mode": {
    "name": "ipython",
    "version": 3
   },
   "file_extension": ".py",
   "mimetype": "text/x-python",
   "name": "python",
   "nbconvert_exporter": "python",
   "pygments_lexer": "ipython3",
   "version": "3.5.2"
  }
 },
 "nbformat": 4,
 "nbformat_minor": 2
}
