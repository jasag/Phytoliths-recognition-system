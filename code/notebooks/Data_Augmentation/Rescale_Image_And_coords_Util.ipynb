{
 "cells": [
  {
   "cell_type": "markdown",
   "metadata": {},
   "source": [
    "<div Style=\"text-align: center;line-height: 30px;font-size:32px;font-weight: bold\"> Herramienta para el reescalado de imágenes en bloque</div>\n",
    "***"
   ]
  },
  {
   "cell_type": "code",
   "execution_count": 1,
   "metadata": {
    "collapsed": true
   },
   "outputs": [],
   "source": [
    "%matplotlib inline\n",
    "from __future__ import print_function\n",
    "from ipywidgets import interact_manual, fixed\n",
    "\n",
    "import os.path\n",
    "\n",
    "from math import ceil\n",
    "\n",
    "import numpy as np\n",
    "import random\n",
    "\n",
    "from skimage import io\n",
    "from skimage.transform import rotate, rescale, resize\n",
    "\n",
    "import matplotlib.pyplot as plt\n",
    "\n",
    "import json"
   ]
  },
  {
   "cell_type": "code",
   "execution_count": 2,
   "metadata": {
    "collapsed": true
   },
   "outputs": [],
   "source": [
    "def rescale_coords(coords, factor_h, factor_v, h_limits, v_limits):\n",
    "    rescale_cs = []\n",
    "    for coord in coords:\n",
    "        if(coord[0] > h_limits[0] and coord[2] < h_limits[1] and\n",
    "           coord[1] > v_limits[0] and coord[3] < h_limits[1]):\n",
    "            r_coord = []\n",
    "            r_coord.append(coord[0] * factor_h)\n",
    "            r_coord.append(coord[1] * factor_v)\n",
    "            r_coord.append(coord[2] * factor_h)\n",
    "            r_coord.append(coord[3] * factor_v)\n",
    "            rescale_cs.append(r_coord)\n",
    "    return rescale_cs"
   ]
  },
  {
   "cell_type": "code",
   "execution_count": 3,
   "metadata": {
    "collapsed": true
   },
   "outputs": [],
   "source": [
    "# Contamos el número de imágenes que tenemos en\n",
    "# el directorio de las imágenes etiquetadas\n",
    "import os, os.path\n",
    "import re\n",
    "\n",
    "path=\"../../rsc/img/picsCompressed/pics\"\n",
    "dest_path = \"../../rsc/img/picsCompressed/reescaled/\"\n",
    "\n",
    "pattern = re.compile(\"^.*\\.jpg$\", re.IGNORECASE)\n",
    "\n",
    "def list_images(path='../../rsc/img/Default'):\n",
    "    images_list = []\n",
    "    for name in os.listdir(path):\n",
    "        json_name = name.split(\".\")[0] + \".json\"\n",
    "        if pattern.match(name) \\\n",
    "        and os.path.exists(path + \"/\" + json_name):\n",
    "            images_list.append(path + \"/\" + name)\n",
    "    return images_list"
   ]
  },
  {
   "cell_type": "code",
   "execution_count": 4,
   "metadata": {
    "collapsed": true
   },
   "outputs": [],
   "source": [
    "def read_coords_conversion(coords_dict):\n",
    "    for k, coords in coords_dict.items():\n",
    "        coords_mod = np.array(coords)\n",
    "        coords_mod = coords_mod[:,[2,0,3,1]]\n",
    "        coords_mod = coords_mod.tolist()\n",
    "        coords_dict[k] = coords_mod\n",
    "    return coords_dict"
   ]
  },
  {
   "cell_type": "code",
   "execution_count": 5,
   "metadata": {
    "collapsed": true
   },
   "outputs": [],
   "source": [
    "def save_coords_conversion(coords_dict):\n",
    "    for k, coords in coords_dict.items():\n",
    "        coords_mod = np.array(coords)\n",
    "        coords_mod = coords_mod[:,[1,3,0,2]]\n",
    "        coords_mod = coords_mod.tolist()\n",
    "        coords_dict[k] = coords_mod\n",
    "    return coords_dict"
   ]
  },
  {
   "cell_type": "code",
   "execution_count": 6,
   "metadata": {},
   "outputs": [
    {
     "name": "stderr",
     "output_type": "stream",
     "text": [
      "D:\\Program Files\\Anaconda3\\lib\\site-packages\\skimage\\util\\dtype.py:122: UserWarning: Possible precision loss when converting from float64 to uint8\n",
      "  .format(dtypeobj_in, dtypeobj_out))\n",
      "D:\\Program Files\\Anaconda3\\lib\\site-packages\\skimage\\util\\dtype.py:122: UserWarning: Possible precision loss when converting from float64 to uint8\n",
      "  .format(dtypeobj_in, dtypeobj_out))\n",
      "D:\\Program Files\\Anaconda3\\lib\\site-packages\\skimage\\util\\dtype.py:122: UserWarning: Possible precision loss when converting from float64 to uint8\n",
      "  .format(dtypeobj_in, dtypeobj_out))\n",
      "D:\\Program Files\\Anaconda3\\lib\\site-packages\\skimage\\util\\dtype.py:122: UserWarning: Possible precision loss when converting from float64 to uint8\n",
      "  .format(dtypeobj_in, dtypeobj_out))\n",
      "D:\\Program Files\\Anaconda3\\lib\\site-packages\\skimage\\util\\dtype.py:122: UserWarning: Possible precision loss when converting from float64 to uint8\n",
      "  .format(dtypeobj_in, dtypeobj_out))\n",
      "D:\\Program Files\\Anaconda3\\lib\\site-packages\\skimage\\util\\dtype.py:122: UserWarning: Possible precision loss when converting from float64 to uint8\n",
      "  .format(dtypeobj_in, dtypeobj_out))\n",
      "D:\\Program Files\\Anaconda3\\lib\\site-packages\\skimage\\util\\dtype.py:122: UserWarning: Possible precision loss when converting from float64 to uint8\n",
      "  .format(dtypeobj_in, dtypeobj_out))\n",
      "D:\\Program Files\\Anaconda3\\lib\\site-packages\\skimage\\io\\_io.py:132: UserWarning: ../../rsc/img/picsCompressed/reescaled/2017_5_26_14_152017_5_17_17_28Image_467.jpg is a low contrast image\n",
      "  warn('%s is a low contrast image' % fname)\n",
      "D:\\Program Files\\Anaconda3\\lib\\site-packages\\skimage\\util\\dtype.py:122: UserWarning: Possible precision loss when converting from float64 to uint8\n",
      "  .format(dtypeobj_in, dtypeobj_out))\n",
      "D:\\Program Files\\Anaconda3\\lib\\site-packages\\skimage\\io\\_io.py:132: UserWarning: ../../rsc/img/picsCompressed/reescaled/2017_5_26_14_152017_5_17_17_28Image_470.jpg is a low contrast image\n",
      "  warn('%s is a low contrast image' % fname)\n",
      "D:\\Program Files\\Anaconda3\\lib\\site-packages\\skimage\\util\\dtype.py:122: UserWarning: Possible precision loss when converting from float64 to uint8\n",
      "  .format(dtypeobj_in, dtypeobj_out))\n",
      "D:\\Program Files\\Anaconda3\\lib\\site-packages\\skimage\\io\\_io.py:132: UserWarning: ../../rsc/img/picsCompressed/reescaled/2017_5_26_14_162017_5_17_17_28Image_474.jpg is a low contrast image\n",
      "  warn('%s is a low contrast image' % fname)\n",
      "D:\\Program Files\\Anaconda3\\lib\\site-packages\\skimage\\util\\dtype.py:122: UserWarning: Possible precision loss when converting from float64 to uint8\n",
      "  .format(dtypeobj_in, dtypeobj_out))\n",
      "D:\\Program Files\\Anaconda3\\lib\\site-packages\\skimage\\util\\dtype.py:122: UserWarning: Possible precision loss when converting from float64 to uint8\n",
      "  .format(dtypeobj_in, dtypeobj_out))\n",
      "D:\\Program Files\\Anaconda3\\lib\\site-packages\\skimage\\util\\dtype.py:122: UserWarning: Possible precision loss when converting from float64 to uint8\n",
      "  .format(dtypeobj_in, dtypeobj_out))\n",
      "D:\\Program Files\\Anaconda3\\lib\\site-packages\\skimage\\util\\dtype.py:122: UserWarning: Possible precision loss when converting from float64 to uint8\n",
      "  .format(dtypeobj_in, dtypeobj_out))\n",
      "D:\\Program Files\\Anaconda3\\lib\\site-packages\\skimage\\util\\dtype.py:122: UserWarning: Possible precision loss when converting from float64 to uint8\n",
      "  .format(dtypeobj_in, dtypeobj_out))\n",
      "D:\\Program Files\\Anaconda3\\lib\\site-packages\\skimage\\util\\dtype.py:122: UserWarning: Possible precision loss when converting from float64 to uint8\n",
      "  .format(dtypeobj_in, dtypeobj_out))\n",
      "D:\\Program Files\\Anaconda3\\lib\\site-packages\\skimage\\io\\_io.py:132: UserWarning: ../../rsc/img/picsCompressed/reescaled/2017_5_26_14_192017_5_17_17_33Image_522.jpg is a low contrast image\n",
      "  warn('%s is a low contrast image' % fname)\n",
      "D:\\Program Files\\Anaconda3\\lib\\site-packages\\skimage\\util\\dtype.py:122: UserWarning: Possible precision loss when converting from float64 to uint8\n",
      "  .format(dtypeobj_in, dtypeobj_out))\n",
      "D:\\Program Files\\Anaconda3\\lib\\site-packages\\skimage\\io\\_io.py:132: UserWarning: ../../rsc/img/picsCompressed/reescaled/2017_5_26_14_202017_5_17_17_33Image_525.jpg is a low contrast image\n",
      "  warn('%s is a low contrast image' % fname)\n",
      "D:\\Program Files\\Anaconda3\\lib\\site-packages\\skimage\\util\\dtype.py:122: UserWarning: Possible precision loss when converting from float64 to uint8\n",
      "  .format(dtypeobj_in, dtypeobj_out))\n",
      "D:\\Program Files\\Anaconda3\\lib\\site-packages\\skimage\\util\\dtype.py:122: UserWarning: Possible precision loss when converting from float64 to uint8\n",
      "  .format(dtypeobj_in, dtypeobj_out))\n",
      "D:\\Program Files\\Anaconda3\\lib\\site-packages\\skimage\\util\\dtype.py:122: UserWarning: Possible precision loss when converting from float64 to uint8\n",
      "  .format(dtypeobj_in, dtypeobj_out))\n",
      "D:\\Program Files\\Anaconda3\\lib\\site-packages\\skimage\\util\\dtype.py:122: UserWarning: Possible precision loss when converting from float64 to uint8\n",
      "  .format(dtypeobj_in, dtypeobj_out))\n",
      "D:\\Program Files\\Anaconda3\\lib\\site-packages\\skimage\\io\\_io.py:132: UserWarning: ../../rsc/img/picsCompressed/reescaled/2017_5_26_14_232017_5_17_17_34Image_532.jpg is a low contrast image\n",
      "  warn('%s is a low contrast image' % fname)\n",
      "D:\\Program Files\\Anaconda3\\lib\\site-packages\\skimage\\util\\dtype.py:122: UserWarning: Possible precision loss when converting from float64 to uint8\n",
      "  .format(dtypeobj_in, dtypeobj_out))\n",
      "D:\\Program Files\\Anaconda3\\lib\\site-packages\\skimage\\util\\dtype.py:122: UserWarning: Possible precision loss when converting from float64 to uint8\n",
      "  .format(dtypeobj_in, dtypeobj_out))\n",
      "D:\\Program Files\\Anaconda3\\lib\\site-packages\\skimage\\io\\_io.py:132: UserWarning: ../../rsc/img/picsCompressed/reescaled/2017_5_26_14_242017_5_17_17_38Image_535.jpg is a low contrast image\n",
      "  warn('%s is a low contrast image' % fname)\n",
      "D:\\Program Files\\Anaconda3\\lib\\site-packages\\skimage\\util\\dtype.py:122: UserWarning: Possible precision loss when converting from float64 to uint8\n",
      "  .format(dtypeobj_in, dtypeobj_out))\n",
      "D:\\Program Files\\Anaconda3\\lib\\site-packages\\skimage\\util\\dtype.py:122: UserWarning: Possible precision loss when converting from float64 to uint8\n",
      "  .format(dtypeobj_in, dtypeobj_out))\n",
      "D:\\Program Files\\Anaconda3\\lib\\site-packages\\skimage\\io\\_io.py:132: UserWarning: ../../rsc/img/picsCompressed/reescaled/2017_5_26_14_252017_5_17_17_50Image_564.jpg is a low contrast image\n",
      "  warn('%s is a low contrast image' % fname)\n",
      "D:\\Program Files\\Anaconda3\\lib\\site-packages\\skimage\\util\\dtype.py:122: UserWarning: Possible precision loss when converting from float64 to uint8\n",
      "  .format(dtypeobj_in, dtypeobj_out))\n",
      "D:\\Program Files\\Anaconda3\\lib\\site-packages\\skimage\\util\\dtype.py:122: UserWarning: Possible precision loss when converting from float64 to uint8\n",
      "  .format(dtypeobj_in, dtypeobj_out))\n"
     ]
    },
    {
     "ename": "IndexError",
     "evalue": "too many indices for array",
     "output_type": "error",
     "traceback": [
      "\u001b[0;31m---------------------------------------------------------------------------\u001b[0m",
      "\u001b[0;31mIndexError\u001b[0m                                Traceback (most recent call last)",
      "\u001b[0;32m<ipython-input-6-f7172c0f5728>\u001b[0m in \u001b[0;36m<module>\u001b[0;34m()\u001b[0m\n\u001b[1;32m     39\u001b[0m     \u001b[1;32mwith\u001b[0m \u001b[0mopen\u001b[0m\u001b[1;33m(\u001b[0m\u001b[0mdest_path\u001b[0m \u001b[1;33m+\u001b[0m \u001b[0mimage_name\u001b[0m \u001b[1;33m+\u001b[0m \u001b[1;34m\".json\"\u001b[0m\u001b[1;33m,\u001b[0m \u001b[1;34m\"w\"\u001b[0m\u001b[1;33m)\u001b[0m \u001b[1;32mas\u001b[0m \u001b[0mjsonfile2\u001b[0m\u001b[1;33m:\u001b[0m\u001b[1;33m\u001b[0m\u001b[0m\n\u001b[1;32m     40\u001b[0m         \u001b[0mmod_coords_dict\u001b[0m \u001b[1;33m=\u001b[0m \u001b[0mdict\u001b[0m\u001b[1;33m(\u001b[0m\u001b[1;33m)\u001b[0m\u001b[1;33m\u001b[0m\u001b[0m\n\u001b[0;32m---> 41\u001b[0;31m         \u001b[0mmod_coords_dict\u001b[0m\u001b[1;33m[\u001b[0m\u001b[0mimage_name\u001b[0m \u001b[1;33m+\u001b[0m\u001b[1;34m\".jpg\"\u001b[0m\u001b[1;33m]\u001b[0m \u001b[1;33m=\u001b[0m \u001b[0msave_coords_conversion\u001b[0m\u001b[1;33m(\u001b[0m\u001b[0mmod_coords\u001b[0m\u001b[1;33m)\u001b[0m\u001b[1;33m\u001b[0m\u001b[0m\n\u001b[0m\u001b[1;32m     42\u001b[0m         \u001b[0mjson\u001b[0m\u001b[1;33m.\u001b[0m\u001b[0mdump\u001b[0m\u001b[1;33m(\u001b[0m\u001b[0mmod_coords_dict\u001b[0m\u001b[1;33m,\u001b[0m \u001b[0mjsonfile2\u001b[0m\u001b[1;33m)\u001b[0m\u001b[1;33m\u001b[0m\u001b[0m\n",
      "\u001b[0;32m<ipython-input-5-c81c7ae9ff5d>\u001b[0m in \u001b[0;36msave_coords_conversion\u001b[0;34m(coords_dict)\u001b[0m\n\u001b[1;32m      2\u001b[0m     \u001b[1;32mfor\u001b[0m \u001b[0mk\u001b[0m\u001b[1;33m,\u001b[0m \u001b[0mcoords\u001b[0m \u001b[1;32min\u001b[0m \u001b[0mcoords_dict\u001b[0m\u001b[1;33m.\u001b[0m\u001b[0mitems\u001b[0m\u001b[1;33m(\u001b[0m\u001b[1;33m)\u001b[0m\u001b[1;33m:\u001b[0m\u001b[1;33m\u001b[0m\u001b[0m\n\u001b[1;32m      3\u001b[0m         \u001b[0mcoords_mod\u001b[0m \u001b[1;33m=\u001b[0m \u001b[0mnp\u001b[0m\u001b[1;33m.\u001b[0m\u001b[0marray\u001b[0m\u001b[1;33m(\u001b[0m\u001b[0mcoords\u001b[0m\u001b[1;33m)\u001b[0m\u001b[1;33m\u001b[0m\u001b[0m\n\u001b[0;32m----> 4\u001b[0;31m         \u001b[0mcoords_mod\u001b[0m \u001b[1;33m=\u001b[0m \u001b[0mcoords_mod\u001b[0m\u001b[1;33m[\u001b[0m\u001b[1;33m:\u001b[0m\u001b[1;33m,\u001b[0m\u001b[1;33m[\u001b[0m\u001b[1;36m1\u001b[0m\u001b[1;33m,\u001b[0m\u001b[1;36m3\u001b[0m\u001b[1;33m,\u001b[0m\u001b[1;36m0\u001b[0m\u001b[1;33m,\u001b[0m\u001b[1;36m2\u001b[0m\u001b[1;33m]\u001b[0m\u001b[1;33m]\u001b[0m\u001b[1;33m\u001b[0m\u001b[0m\n\u001b[0m\u001b[1;32m      5\u001b[0m         \u001b[0mcoords_mod\u001b[0m \u001b[1;33m=\u001b[0m \u001b[0mcoords_mod\u001b[0m\u001b[1;33m.\u001b[0m\u001b[0mtolist\u001b[0m\u001b[1;33m(\u001b[0m\u001b[1;33m)\u001b[0m\u001b[1;33m\u001b[0m\u001b[0m\n\u001b[1;32m      6\u001b[0m         \u001b[0mcoords_dict\u001b[0m\u001b[1;33m[\u001b[0m\u001b[0mk\u001b[0m\u001b[1;33m]\u001b[0m \u001b[1;33m=\u001b[0m \u001b[0mcoords_mod\u001b[0m\u001b[1;33m\u001b[0m\u001b[0m\n",
      "\u001b[0;31mIndexError\u001b[0m: too many indices for array"
     ]
    }
   ],
   "source": [
    "import copy\n",
    "\n",
    "images_names_list = list_images(path)\n",
    "\n",
    "if len(images_names_list) == 0:\n",
    "    raise ValueError(\"Number of images must be greater than 0\")\n",
    "\n",
    "for image_path in images_names_list:\n",
    "    \n",
    "    original_image = io.imread(image_path)\n",
    "\n",
    "    json_path = \"../..\" + image_path.split(\".\")[-2] + \".json\"\n",
    "    image_name = os.path.split(image_path)[1].split(\".\")[0]\n",
    "    image_with_format = image_name + \".jpg\"\n",
    "\n",
    "    # Cargamos coordenadas, si existen,\n",
    "    # y si no existe fichero de coordenadas\n",
    "    # pasamos a la siguiente imagen\n",
    "    if os.path.exists(json_path):\n",
    "        with open(json_path) as jsonfile:\n",
    "            coords_dict = json.load(jsonfile)\n",
    "            coords_dict = coords_dict[image_with_format]\n",
    "            coords_dict = read_coords_conversion(coords_dict)\n",
    "    else:\n",
    "        continue\n",
    "\n",
    "    # Cambios de tamaño en la imagen\n",
    "    mod_image = original_image[0:1920,0:1920]\n",
    "    mod_image = resize(mod_image,(480,480),mode='constant')\n",
    "    \n",
    "    mod_coords = dict()\n",
    "    for k, coords in coords_dict.items():\n",
    "            mod_coords[k] = rescale_coords(coords, \n",
    "                                           480/1920, 480/1920, (0,1920), (0,1920)) \n",
    "    \n",
    "    # Guardamos imagen\n",
    "    io.imsave(dest_path + image_name + \".jpg\", mod_image, quality=100)\n",
    "\n",
    "    with open(dest_path + image_name + \".json\", \"w\") as jsonfile2:\n",
    "        mod_coords_dict = dict()\n",
    "        mod_coords_dict[image_name +\".jpg\"] = save_coords_conversion(mod_coords)\n",
    "        json.dump(mod_coords_dict, jsonfile2)"
   ]
  }
 ],
 "metadata": {
  "anaconda-cloud": {},
  "kernelspec": {
   "display_name": "Python [default]",
   "language": "python",
   "name": "python3"
  },
  "language_info": {
   "codemirror_mode": {
    "name": "ipython",
    "version": 3
   },
   "file_extension": ".py",
   "mimetype": "text/x-python",
   "name": "python",
   "nbconvert_exporter": "python",
   "pygments_lexer": "ipython3",
   "version": "3.5.2"
  }
 },
 "nbformat": 4,
 "nbformat_minor": 2
}
