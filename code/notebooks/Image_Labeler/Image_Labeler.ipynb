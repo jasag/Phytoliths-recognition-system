{
 "cells": [
  {
   "cell_type": "markdown",
   "metadata": {
    "extensions": {
     "jupyter_dashboards": {
      "version": 1,
      "views": {
       "grid_default": {
        "col": 0,
        "height": 4,
        "hidden": false,
        "row": 0,
        "width": 12
       },
       "report_default": {
        "hidden": false
       }
      }
     }
    }
   },
   "source": [
    "<div Style=\"text-align: center;line-height: 30px;font-size:24px;font-weight: bold\"> Etiquetador de imágenes</div>\n",
    "***"
   ]
  },
  {
   "cell_type": "code",
   "execution_count": 1,
   "metadata": {
    "collapsed": true,
    "extensions": {
     "jupyter_dashboards": {
      "version": 1,
      "views": {
       "grid_default": {
        "hidden": true
       },
       "report_default": {
        "hidden": true
       }
      }
     }
    }
   },
   "outputs": [],
   "source": [
    "from __future__ import print_function\n",
    "#Importss\n",
    "%matplotlib inline\n",
    "import numpy as np"
   ]
  },
  {
   "cell_type": "markdown",
   "metadata": {
    "extensions": {
     "jupyter_dashboards": {
      "version": 1,
      "views": {
       "grid_default": {
        "col": 0,
        "height": 4,
        "hidden": true,
        "row": 22,
        "width": 4
       },
       "report_default": {
        "hidden": true
       }
      }
     }
    }
   },
   "source": [
    "### Añadimos capacidad de mostrar notificaciones"
   ]
  },
  {
   "cell_type": "code",
   "execution_count": 2,
   "metadata": {
    "extensions": {
     "jupyter_dashboards": {
      "version": 1,
      "views": {
       "grid_default": {
        "hidden": true
       },
       "report_default": {
        "hidden": true
       }
      }
     }
    }
   },
   "outputs": [
    {
     "data": {
      "application/javascript": [
       "\n",
       "// Añadimos script que nos permite mostrar notificaciones bootstrap-growl\n",
       "$('head').append('<script src=\"../../rsc/bootstrap-growl/jquery.bootstrap-growl.min.js\">');\n",
       "\n",
       "$('head').append('<link rel=\"stylesheet\" href=\"Style.css\">');"
      ],
      "text/plain": [
       "<IPython.core.display.Javascript object>"
      ]
     },
     "metadata": {},
     "output_type": "display_data"
    }
   ],
   "source": [
    "%%javascript\n",
    "\n",
    "// Añadimos script que nos permite mostrar notificaciones bootstrap-growl\n",
    "$('head').append('<script src=\"../../rsc/bootstrap-growl/jquery.bootstrap-growl.min.js\">');\n",
    "\n",
    "$('head').append('<link rel=\"stylesheet\" href=\"Style.css\">');"
   ]
  },
  {
   "cell_type": "markdown",
   "metadata": {
    "extensions": {
     "jupyter_dashboards": {
      "version": 1,
      "views": {
       "grid_default": {
        "col": 4,
        "height": 4,
        "hidden": true,
        "row": 22,
        "width": 4
       },
       "report_default": {
        "hidden": true
       }
      }
     }
    }
   },
   "source": [
    "# Creamos el Widget Etiquetador de imágenes"
   ]
  },
  {
   "cell_type": "code",
   "execution_count": 3,
   "metadata": {
    "collapsed": true,
    "extensions": {
     "jupyter_dashboards": {
      "version": 1,
      "views": {
       "grid_default": {
        "hidden": true
       },
       "report_default": {
        "hidden": true
       }
      }
     }
    }
   },
   "outputs": [],
   "source": [
    "import ipywidgets as widgets\n",
    "from traitlets import Unicode, validate, Bool, CBool, Any, List, observe\n",
    "from ipywidgets import Color\n",
    "from skimage import io\n",
    "from skimage.transform import resize\n",
    "\n",
    "class ImageLabelerWidget(widgets.DOMWidget):\n",
    "    _view_name = Unicode('ImageLabelerView').tag(sync=True)\n",
    "    _view_module = Unicode('ImageLabeler').tag(sync=True)\n",
    "    # Atributos sincronos entre js y python\n",
    "    image = Unicode('blank.png').tag(sync=True)\n",
    "    rect = List().tag(sync=True)\n",
    "    rect_to_add = List().tag(sync=True)\n",
    "    text_to_add = List().tag(sync=True)\n",
    "    \n",
    "    removed_rect = List().tag(sync=True)\n",
    "    # Intento de carga de imágen incorrecto notificación\n",
    "    error_loading = Unicode('').tag(sync=True)\n",
    "    # Imagen guardada correctamente notificación\n",
    "    saved_successfuly = Unicode('').tag(sync=True)\n",
    "    # Texto a incluir en el rectangulo\n",
    "    text = Unicode('').tag(sync=True)\n",
    "    \n",
    "    Phytolith_type = Any().tag(sync=True)\n",
    "    \n",
    "    def __init__(self, *pargs, **kwargs):\n",
    "        super(widgets.DOMWidget, self).__init__(*pargs, **kwargs)\n",
    "        self._rectList = []\n",
    "        self._removed_rectList = []\n",
    "        # Para patron observer\n",
    "        self._rectList_observers = []\n",
    "        self._removed_rectList_observers = []\n",
    "    \n",
    "    '''Método que se encarga de recibir la notificación\n",
    "    de la adicción de unas nuevas coordenadas a la imagen'''\n",
    "    @observe('rect')\n",
    "    def new_rect(self, change):\n",
    "        rec = change[\"new\"]\n",
    "        self._rectList.append(rec)\n",
    "        # Callback a observers\n",
    "        for callback in self._rectList_observers:\n",
    "            callback(self._rectList)\n",
    "            \n",
    "    '''Método que se encarga de recibir la notificación\n",
    "    de la eliminación de unas nuevas coordenadas a la imagen'''\n",
    "    @observe('removed_rect')\n",
    "    def old_rect(self, change):\n",
    "        removed_rec = change[\"new\"]\n",
    "        #print(\"removed_rect\", removed_rec)\n",
    "        #Cambiamos indices\n",
    "        self._removed_rectList.append(removed_rec)\n",
    "        # Callback a observers\n",
    "        for callback in self._removed_rectList_observers:\n",
    "            callback(self._removed_rectList)\n",
    "    \n",
    "    '''Método para enlazar al observer con\n",
    "    el atributo rectList'''\n",
    "    def rectList_bind_to(self, callback):\n",
    "        self._rectList_observers.append(callback)\n",
    "    \n",
    "    '''Método para enlazar al observer con\n",
    "    el atributo removed_rect'''\n",
    "    def removed_rect_bind_to(self, callback):\n",
    "        self._removed_rectList_observers.append(callback)\n",
    "    \n",
    "    def get_rectList(self):\n",
    "        return self._rectList\n",
    "    \n",
    "    def set_rectList(self, value):\n",
    "        self._rectList = value"
   ]
  },
  {
   "cell_type": "code",
   "execution_count": 4,
   "metadata": {
    "collapsed": true,
    "extensions": {
     "jupyter_dashboards": {
      "version": 1,
      "views": {
       "grid_default": {
        "hidden": true
       },
       "report_default": {
        "hidden": true
       }
      }
     }
    }
   },
   "outputs": [],
   "source": [
    "import csv, json\n",
    "from datetime import datetime\n",
    "\n",
    "''' Rescalamos las coordenadas para que coincidan \n",
    "las coordenadas de la vista con las de la imagen original'''\n",
    "def transform_view_coords_to_image_coords(coords, svg_h, svg_w, real_image_h, real_image_w):\n",
    "    # TODO Cuidado con si es menor de  svg_size x svg_size\n",
    "#     print(\"\\t\\t>>>Coords entrantes a conversión: \", coords)\n",
    "    # Rescalado de la imagen en la vista\n",
    "    if real_image_h > real_image_w:\n",
    "        coef = real_image_h / svg_h\n",
    "        svg_image_h = svg_h\n",
    "        svg_image_w = round(real_image_w / coef)\n",
    "    else:\n",
    "        coef = real_image_w / svg_w\n",
    "        svg_image_w = svg_w\n",
    "        svg_image_h = round(real_image_h / coef)\n",
    "        \n",
    "    # Coeficientes de rescalado\n",
    "    coef_h = real_image_h / svg_image_h\n",
    "    coef_w = real_image_w / svg_image_w\n",
    "    \n",
    "    # Calculamos padding en función de\n",
    "    # los valores de ancho y alto de la imagen\n",
    "    # en la vista\n",
    "    svg_padding_h = (svg_h - svg_image_h) / 2\n",
    "    svg_padding_w = (svg_w - svg_image_w) / 2\n",
    "    \n",
    "    #TODO comprobar que las coordenadas no se salen de la imagen\n",
    "    \n",
    "    new_coords = []\n",
    "    # Por cada rectangulo generamos una nueva imagen\n",
    "    # siempre que se encuentre dentro de la imagen\n",
    "    for rect_x, rect_y, rect_height, rect_width in coords:\n",
    "        rect_x = round((rect_x - svg_padding_h) * coef_h)\n",
    "        rect_y = round((rect_y - svg_padding_w) * coef_w)\n",
    "        rect_height = round(rect_height * coef_h)\n",
    "        rect_width = round(rect_width * coef_w)\n",
    "        rect_x2 = rect_x+rect_height\n",
    "        rect_y2 = rect_y+rect_width\n",
    "        \n",
    "#         print(\"\\t\\t>>>Coords pre salientes conversión: \", coords)\n",
    "#         print(rect_x, rect_x2, rect_y, rect_y2)\n",
    "        # Comprobamos que las coordenadas estan dentro de la imagen\n",
    "        if rect_x > 0 and rect_x2 < real_image_h \\\n",
    "        and rect_y2 < real_image_w and rect_y > 0:\n",
    "            new_coords.append([rect_x, rect_x2, rect_y, rect_y2])  \n",
    "#         else:\n",
    "#             print(rect_x, \">\", 0,\" and\", rect_x2, \"<\", real_image_h, \"and\", rect_y2, \"<\", real_image_w, \"and\", rect_y, \">\", 0)\n",
    "#             print(\"NO CONVERTIDA: \",[rect_x, rect_x2, rect_y, rect_y2])\n",
    "    return new_coords"
   ]
  },
  {
   "cell_type": "code",
   "execution_count": 5,
   "metadata": {
    "collapsed": true,
    "extensions": {
     "jupyter_dashboards": {
      "version": 1,
      "views": {
       "grid_default": {},
       "report_default": {
        "hidden": true
       }
      }
     }
    }
   },
   "outputs": [],
   "source": [
    "''' Rescalamos las coordenadas para que coincidan \n",
    "las coordenadas de la vista con las de la imagen original'''\n",
    "def transform_image_coords_to_view_coords(coords, svg_h, svg_w, real_image_h, real_image_w):\n",
    "    # Rescalado de la imagen en la vista\n",
    "    if real_image_h > real_image_w:\n",
    "        coef = real_image_h / svg_h\n",
    "        svg_image_h = svg_h\n",
    "        svg_image_w = round(real_image_w / coef)\n",
    "    else:\n",
    "        coef = real_image_w / svg_w\n",
    "        svg_image_w = svg_w\n",
    "        svg_image_h = round(real_image_h / coef)\n",
    "        \n",
    "    # Coeficientes de rescalado\n",
    "    coef_h = real_image_h / svg_image_h\n",
    "    coef_w = real_image_w / svg_image_w\n",
    "    \n",
    "    # Calculamos padding en función de\n",
    "    # los valores de ancho y alto de la imagen\n",
    "    # en la vista\n",
    "    svg_padding_h = (svg_h - svg_image_h) / 2\n",
    "    svg_padding_w = (svg_w - svg_image_w) / 2\n",
    "    \n",
    "    new_coords = []\n",
    "    # Por cada rectangulo generamos una nueva imagen\n",
    "    # siempre que se encuentre dentro de la imagen\n",
    "    for rect_x, rect_y, rect_height, rect_width in coords:\n",
    "        rect_x = round((rect_x / coef_h) + svg_padding_h)\n",
    "        rect_y = round((rect_y / coef_w) + svg_padding_w)\n",
    "        rect_height = round(rect_height / coef_h)\n",
    "        rect_width = round(rect_width / coef_w)\n",
    "\n",
    "        new_coords.append([rect_x, rect_y, rect_height, rect_width])\n",
    "    \n",
    "    \n",
    "    return new_coords"
   ]
  },
  {
   "cell_type": "code",
   "execution_count": 6,
   "metadata": {
    "collapsed": true,
    "extensions": {
     "jupyter_dashboards": {
      "version": 1,
      "views": {
       "grid_default": {
        "hidden": true
       },
       "report_default": {
        "hidden": true
       }
      }
     }
    }
   },
   "outputs": [],
   "source": [
    "def additional_text():\n",
    "    # Timestamp for jpg files\n",
    "    time = datetime.today()\n",
    "    year = time.year\n",
    "    month = time.month\n",
    "    day = time.day\n",
    "    hour = time.hour\n",
    "    minute = time.minute\n",
    "    \n",
    "    return str(year) + '_' + str(month) + '_' + str(day) \\\n",
    "+ '_' + str(hour) + '_' + str(minute)\n",
    "\n",
    "'''Función que genera las imágenes a partir de las coordenadas'''\n",
    "def save_coords_as_images(coords, image, dest_path, image_name):\n",
    "    # Por cada conjunto de rectangulos generamos una nueva imagen\n",
    "    for rect_x, rect_x2, rect_y, rect_y2 in coords:\n",
    "        name = image_name + str(rect_x) + \\\n",
    "        'X'+ str(rect_x2) + 'X2'+str(rect_y) \\\n",
    "        + 'Y' + str(rect_y2) + 'Y2' + \".jpg\"\n",
    "        \n",
    "        img = image[rect_x:rect_x2,rect_y:rect_y2]\n",
    "        io.imsave(dest_path+name, img, quality=100)\n",
    "\n",
    "'''Función que genera un fichero CSV a partir de las coordenadas'''\n",
    "def save_coords_as_csv(coords, dest_path, image_name):\n",
    "    with open(dest_path+image_name+'.csv', 'w', newline='') as csvfile:\n",
    "        coords_writer = csv.writer(csvfile, delimiter=',',\n",
    "                                   quotechar='|', quoting = csv.QUOTE_MINIMAL)\n",
    "        # Por cada conjunto de rectangulos generamos una nueva imagen\n",
    "        for rect_x, rect_x2, rect_y, rect_y2 in coords:\n",
    "            coords_writer.writerow([rect_x,rect_x2,rect_y,rect_y2])\n",
    "\n",
    "'''Función que genera un fichero JSON a partir de las coordenadas'''\n",
    "def save_coords_as_json(coords, dest_path, image_name):\n",
    "    with open(dest_path + image_name+'.json', 'w') as jsonfile:\n",
    "        coords_dict = dict()\n",
    "        coords_dict[image_name+'.jpg'] = coords\n",
    "        \n",
    "        json.dump(coords_dict, jsonfile)\n",
    "\n",
    "'''Función que genera todos los ficheros anteriores'''\n",
    "def save_as_all_formats(coords, image, dest_path, image_name):\n",
    "    save_coords_as_images(coords, image, dest_path, image_name)\n",
    "    save_coords_as_csv(coords, dest_path, image_name)\n",
    "    save_coords_as_json(coords, dest_path, image_name)"
   ]
  },
  {
   "cell_type": "code",
   "execution_count": 7,
   "metadata": {
    "extensions": {
     "jupyter_dashboards": {
      "version": 1,
      "views": {
       "grid_default": {
        "hidden": true
       },
       "report_default": {
        "hidden": true
       }
      }
     }
    }
   },
   "outputs": [
    {
     "data": {
      "application/javascript": [
       "\n",
       "//Añadimos estilo a las notificaciones:\n",
       "\n",
       "var error_type ='danger';\n",
       "var success_type ='success';\n",
       "var info_type = 'info';\n",
       "\n",
       "var notify_style = {\n",
       "  ele: 'body', // which element to append to\n",
       "  offset: {from: 'bottom', amount: 20}, // 'top', or 'bottom'\n",
       "  align: 'left', // ('left', 'right', or 'center')\n",
       "  width: 'auto',//250, // (integer, or 'auto')\n",
       "  delay: 4000, // Time while the message will be displayed. It's not equivalent to the *demo* timeOut!\n",
       "  allow_dismiss: true, // If true then will display a cross to close the popup.\n",
       "  stackup_spacing: 10, // spacing between consecutively stacked growls.\n",
       "}\n",
       "\n",
       "function change_style(style, type){\n",
       "    style['type'] = type;\n",
       "}\n",
       "\n",
       "function sucess_image_notify(image_name){\n",
       "    change_style(notify_style, success_type);\n",
       "    if (image_name != \"blank.png\"){\n",
       "        var notify_msg = \"La imagen \" + image_name + \" ha sido cargada correctamente!\";\n",
       "        $.bootstrapGrowl(notify_msg, notify_style);\n",
       "    }\n",
       "}\n",
       "\n",
       "function error_image_notify(file_name){\n",
       "    change_style(notify_style, error_type);\n",
       "    if(file_name != \"blank.png\"){\n",
       "        var notify_msg = \"El fichero \" + file_name + \" no \" +\n",
       "            \"tiene formato de imagen. Ejemplo: jpeg, jpg, tif, tiff, png \";\n",
       "        $.bootstrapGrowl(notify_msg, notify_style);\n",
       "    }\n",
       "}\n",
       "\n",
       "function success_saving_labels_notify(file_name){\n",
       "    change_style(notify_style, success_type);\n",
       "    if(file_name != \"blank.png\"){\n",
       "        var notify_msg = \" Las etiquetas para la imagen \" + file_name + \" han \" +\n",
       "            \"sido guardadas correctamente \";\n",
       "        $.bootstrapGrowl(notify_msg, notify_style);\n",
       "    }\n",
       "}\n",
       "\n",
       "// JS Widget\n",
       "\n",
       "require.undef('ImageLabeler');\n",
       "\n",
       "var startX, startY;\n",
       "var count = 0;\n",
       "var rect = null;\n",
       "var rectsList = [];\n",
       "var model;\n",
       "var myThis;\n",
       "\n",
       "function getMousePos(evt) {\n",
       "    // Obtenemos posición absoluta del elemento svg\n",
       "    var svgRef = document.getElementById(\"svg\");\n",
       "    var htmlPos = svgRef.getBoundingClientRect();\n",
       "    return {\n",
       "        x: evt.clientX - htmlPos.left,\n",
       "        y: evt.clientY - htmlPos.top\n",
       "    };\n",
       "}\n",
       "\n",
       "function updateRect(eve, rect){\n",
       "    var pos = getMousePos(eve);\n",
       "    var endX = pos.x;\n",
       "    var endY = pos.y;\n",
       "    if (endX - startX > 0){\n",
       "        var x = startX\n",
       "    }else{\n",
       "        var x = endX;\n",
       "    }\n",
       "\n",
       "    if (endY - startY > 0){\n",
       "        var y = startY\n",
       "    }else{\n",
       "        var y = endY;\n",
       "    }\n",
       "    var width = Math.abs(endX - startX);\n",
       "    var height = Math.abs(endY - startY);\n",
       "    \n",
       "    rect.setAttributeNS(null, 'x', x);\n",
       "    rect.setAttributeNS(null, 'y', y);\n",
       "    rect.setAttributeNS(null, 'height', height);\n",
       "    rect.setAttributeNS(null, 'width', width);\n",
       "}\n",
       "\n",
       "function setStyleRect(rect){\n",
       "    rect.setAttributeNS(null, 'fill', 'transparent');\n",
       "    rect.setAttributeNS(null, 'stroke', 'green');\n",
       "    rect.setAttributeNS(null, 'linewidth', '10px');\n",
       "}\n",
       "\n",
       "function mouseMove(eve) {\n",
       "    if(rect){\n",
       "        updateRect(eve, rect);\n",
       "      }\n",
       "}\n",
       "\n",
       "function mouseClick(eve) {\n",
       "    if (rect !== null) {\n",
       "        //Cada vez que finalizamos el rectangulo\n",
       "        // , le añadimos a la lista\n",
       "        //console.log(rect.x['baseVal'].value,rect.y['baseVal'].value,rect.width['baseVal'].value,rect.height['baseVal'].value);\n",
       "        rectsList = [];\n",
       "        model.set('rect',[rect.y['baseVal'].value, rect.x['baseVal'].value, rect.height['baseVal'].value, rect.width['baseVal'].value]);\n",
       "        var svg = document.getElementById('svg');\n",
       "        var x= rect.x['baseVal'].value;\n",
       "        var y= rect.y['baseVal'].value;\n",
       "        \n",
       "        var text = model.get('text');\n",
       "        // Añadimos la etiqueta de texto que deseemos al rectangulo\n",
       "        svg.innerHTML += \"<text class='text' id='\" + (count-1) + \"txt\" +\"' x='\"+ x +\"' y='\"+ y +\"' font-family='Verdana' font-size='14px'>\"+ text +\"</text>\"\n",
       "        \n",
       "        var close = document.createElementNS(\"http://www.w3.org/2000/svg\", \"text\");\n",
       "        close.setAttribute(\"id\",\"closeParent\"+(count-1));\n",
       "        close.setAttribute(\"class\",\"close\");\n",
       "        close.setAttribute(\"x\",x);\n",
       "        close.setAttribute(\"y\",y+14);\n",
       "        close.setAttribute(\"font-family\",\"Verdana\");\n",
       "        close.setAttribute(\"font-size\",\"15px\");\n",
       "        \n",
       "        close.innerHTML += \"<tspan id='close\" + (count-1) + \"' >x</tspan>\";\n",
       "        svg.appendChild(close);\n",
       "        \n",
       "        myThis.touch();\n",
       "        \n",
       "        rect = null;\n",
       "        //console.log(\"finsihed.\");     \n",
       "    } else {\n",
       "        var text = $(event.target);\n",
       "        if (text.html() != \"x\"){\n",
       "            var pos = getMousePos(eve);\n",
       "\n",
       "            startX= pos.x;\n",
       "            startY = pos.y;\n",
       "\n",
       "            //console.log(\"begun.\");\n",
       "        \n",
       "            if(!rect){\n",
       "                rect = document.createElementNS(\"http://www.w3.org/2000/svg\", 'rect');\n",
       "                rect.id = 'rect' + count;\n",
       "                rect.setAttribute('class', 'rect');\n",
       "                \n",
       "                count = count + 1;\n",
       "\n",
       "                updateRect(eve, rect);\n",
       "\n",
       "                setStyleRect(rect);\n",
       "                document.getElementById('svg').appendChild(rect);\n",
       "            }\n",
       "        }else{\n",
       "            var closeId = text.attr(\"id\");\n",
       "            //console.log(closeId);\n",
       "            var id = closeId[closeId.length - 1];\n",
       "            var closeParentId = \"closeParent\" + id;\n",
       "            var rectId = \"rect\" + id;\n",
       "            var textId = id + \"txt\";\n",
       "            \n",
       "            //Obtenemos coordenadas del rectangulo\n",
       "            var removed_rect = document.getElementById(rectId);\n",
       "            \n",
       "            //console.log('Eliminamos rect.')\n",
       "            // Transmitimos al kernel, python, el\n",
       "            // rectangulo a eliminar\n",
       "            model.set('removed_rect',[removed_rect.y['baseVal'].value, removed_rect.x['baseVal'].value, removed_rect.height['baseVal'].value, removed_rect.width['baseVal'].value]);\n",
       "            myThis.touch();\n",
       "            // Eliminamos todo lo relativo al rectangulo\n",
       "            document.getElementById(closeParentId).remove();\n",
       "            document.getElementById(rectId).remove();\n",
       "            document.getElementById(textId).remove();\n",
       "        }\n",
       "    }\n",
       "}\n",
       "\n",
       "// Funciones para la carga y cambio de imagen\n",
       "function loadImage(svg, src){\n",
       "    $( \".rect\" ).remove();\n",
       "    $( \".text\" ).remove();\n",
       "    $( \".close\" ).remove();\n",
       "    svg.innerHTML = '<image id=\"image\" xlink:href=\"'+ src +'\" x=\"0\" y=\"0\" height=\"500px\" width=\"700px\"/>'\n",
       "}\n",
       "\n",
       "function changeImage(svg, el, image){\n",
       "    //console.log(\"Cambio de imagen\");\n",
       "    //console.log(image);\n",
       "    $( \".rect\" ).remove();\n",
       "    $( \".text\" ).remove();\n",
       "    $( \".close\" ).remove();\n",
       "    svg.innerHTML = '<image id=\"image\" xlink:href=\"' + image + '\" x=\"0\" y=\"0\" height=\"500px\" width=\"700px\"/>';\n",
       "    \n",
       "    el = svg;\n",
       "}\n",
       "\n",
       "\n",
       "// Definición del Widget en javasript\n",
       "define('ImageLabeler', [\"jupyter-js-widgets\"], function(widgets) {\n",
       "    var svg;\n",
       "    var ImageLabelerView = widgets.DOMWidgetView.extend({\n",
       "        // Renderizar vista\n",
       "        render: function() {\n",
       "            model = this.model;\n",
       "            myThis = this;\n",
       "            // Creamos el SVG\n",
       "            svg = document.createElementNS(\"http://www.w3.org/2000/svg\", \"svg\");\n",
       "            svg.id = 'svg';\n",
       "            svg.setAttribute('height', '500px');\n",
       "            svg.setAttribute('width', '700px');\n",
       "            \n",
       "            // Asignamos listeners al SVG\n",
       "            svg.addEventListener(\"click\", mouseClick, false);\n",
       "            svg.addEventListener(\"mousemove\", mouseMove, false);\n",
       "            \n",
       "            // Imágen\n",
       "            var src = \"../rsc/img/family.jpg\";\n",
       "            loadImage(svg, src);\n",
       "            // Listener para cambios de imagen\n",
       "            this.image_changed();\n",
       "            this.model.on('change:image', this.image_changed, this);\n",
       "            \n",
       "            // Listener para dibujar rectangulos dados\n",
       "            // desde Python\n",
       "            this.model.on('change:rect_to_add', this.add_rect, this);\n",
       "            \n",
       "            // Listener para intento de cambio de imagen erroneo\n",
       "            this.model.on('change:error_loading', this.error_loading_image, this);\n",
       "            \n",
       "            // Listener para notificar guardado de las imágenes\n",
       "            this.model.on('change:saved_successfuly', this.success_saving_labels, this);\n",
       "            \n",
       "            // Asignamos a la vista el elemento SVG\n",
       "            this.el = svg;\n",
       "        },\n",
       "        // Función que se lanza con el cambio de imagen\n",
       "        image_changed: function() {\n",
       "            var image = this.model.get('image');\n",
       "            changeImage(svg, this.el, image);\n",
       "            console.log(image)\n",
       "            var image_name = image.split(/[/]+/);\n",
       "            image_name = image_name[image_name.length - 1];\n",
       "            \n",
       "            sucess_image_notify(image_name);\n",
       "        },\n",
       "        // Función que se lanza cuando se intenta cargar un\n",
       "        // fichero distinto a una imagen\n",
       "        error_loading_image: function() {\n",
       "            var file_name = this.model.get('error_loading');\n",
       "            var file_name = file_name.split(/[/]+/);\n",
       "            file_name = file_name[file_name.length - 1];\n",
       "            error_image_notify(file_name);\n",
       "        },\n",
       "        // Función que se lanza cuando se guardan\n",
       "        // las etiquetas de la imagen\n",
       "        success_saving_labels: function() {\n",
       "            //console.log('File')\n",
       "            var file_name = this.model.get('image');\n",
       "            var file_name = file_name.split(/[/]+/);\n",
       "            file_name = file_name[file_name.length - 1];\n",
       "            success_saving_labels_notify(file_name);\n",
       "        },        \n",
       "        // Función par dibujar rectangulos\n",
       "        // con coordenadas provistas por Python\n",
       "        add_rect: function() {\n",
       "            \n",
       "            var rect_coords = this.model.get('rect_to_add');\n",
       "            //console.log(\"add rects\", rect_coords);\n",
       "            \n",
       "            var text_for_coords = this.model.get('text_to_add');\n",
       "            //console.log(\"text rects\", text_for_coords[0]);\n",
       "            \n",
       "            for (var i = 0; i < rect_coords.length; i++) { \n",
       "                \n",
       "                var new_rect_coords = rect_coords[i];\n",
       "                \n",
       "                var x = new_rect_coords[1];\n",
       "                var y = new_rect_coords[0];\n",
       "                var height = new_rect_coords[2];\n",
       "                var width = new_rect_coords[3];\n",
       "                //console.log('Add', x,' ', y, ' ',height, ' ', width);\n",
       "\n",
       "                var new_rect = document.createElementNS(\"http://www.w3.org/2000/svg\", 'rect');\n",
       "                new_rect.id = 'rect' + count;\n",
       "                new_rect.setAttribute('class', 'rect');\n",
       "\n",
       "                count = count + 1;\n",
       "\n",
       "                new_rect.setAttributeNS(null, 'x', x);\n",
       "                new_rect.setAttributeNS(null, 'y', y);\n",
       "                new_rect.setAttributeNS(null, 'height', height);\n",
       "                new_rect.setAttributeNS(null, 'width', width);\n",
       "\n",
       "                setStyleRect(new_rect);\n",
       "\n",
       "                document.getElementById('svg').appendChild(new_rect);\n",
       "                \n",
       "                \n",
       "                \n",
       "                var text = text_for_coords[i];\n",
       "                \n",
       "                // Añadimos la etiqueta de texto que deseemos al rectangulo\n",
       "                svg.innerHTML += \"<text class='text' id='\" + (count-1) + \"txt\" +\"' x='\"+ x +\"' y='\"+ y +\"' font-family='Verdana' font-size='14px'>\"+ text +\"</text>\"\n",
       "\n",
       "                var close = document.createElementNS(\"http://www.w3.org/2000/svg\", \"text\");\n",
       "                close.setAttribute(\"id\",\"closeParent\"+(count-1));\n",
       "                close.setAttribute(\"class\",\"close\");\n",
       "                close.setAttribute(\"x\",x);\n",
       "                close.setAttribute(\"y\",y+14);\n",
       "                close.setAttribute(\"font-family\",\"Verdana\");\n",
       "                close.setAttribute(\"font-size\",\"15px\");\n",
       "\n",
       "                close.innerHTML += \"<tspan id='close\" + (count-1) + \"' >x</tspan>\";\n",
       "                svg.appendChild(close);\n",
       "            }\n",
       "            \n",
       "            myThis.touch();\n",
       "        },\n",
       "    });\n",
       "\n",
       "    return {\n",
       "        ImageLabelerView: ImageLabelerView\n",
       "    };\n",
       "});"
      ],
      "text/plain": [
       "<IPython.core.display.Javascript object>"
      ]
     },
     "metadata": {},
     "output_type": "display_data"
    }
   ],
   "source": [
    "%%javascript\n",
    "\n",
    "//Añadimos estilo a las notificaciones:\n",
    "\n",
    "var error_type ='danger';\n",
    "var success_type ='success';\n",
    "var info_type = 'info';\n",
    "\n",
    "var notify_style = {\n",
    "  ele: 'body', // which element to append to\n",
    "  offset: {from: 'bottom', amount: 20}, // 'top', or 'bottom'\n",
    "  align: 'left', // ('left', 'right', or 'center')\n",
    "  width: 'auto',//250, // (integer, or 'auto')\n",
    "  delay: 4000, // Time while the message will be displayed. It's not equivalent to the *demo* timeOut!\n",
    "  allow_dismiss: true, // If true then will display a cross to close the popup.\n",
    "  stackup_spacing: 10, // spacing between consecutively stacked growls.\n",
    "}\n",
    "\n",
    "function change_style(style, type){\n",
    "    style['type'] = type;\n",
    "}\n",
    "\n",
    "function sucess_image_notify(image_name){\n",
    "    change_style(notify_style, success_type);\n",
    "    if (image_name != \"blank.png\"){\n",
    "        var notify_msg = \"La imagen \" + image_name + \" ha sido cargada correctamente!\";\n",
    "        $.bootstrapGrowl(notify_msg, notify_style);\n",
    "    }\n",
    "}\n",
    "\n",
    "function error_image_notify(file_name){\n",
    "    change_style(notify_style, error_type);\n",
    "    if(file_name != \"blank.png\"){\n",
    "        var notify_msg = \"El fichero \" + file_name + \" no \" +\n",
    "            \"tiene formato de imagen. Ejemplo: jpeg, jpg, tif, tiff, png \";\n",
    "        $.bootstrapGrowl(notify_msg, notify_style);\n",
    "    }\n",
    "}\n",
    "\n",
    "function success_saving_labels_notify(file_name){\n",
    "    change_style(notify_style, success_type);\n",
    "    if(file_name != \"blank.png\"){\n",
    "        var notify_msg = \" Las etiquetas para la imagen \" + file_name + \" han \" +\n",
    "            \"sido guardadas correctamente \";\n",
    "        $.bootstrapGrowl(notify_msg, notify_style);\n",
    "    }\n",
    "}\n",
    "\n",
    "// JS Widget\n",
    "\n",
    "require.undef('ImageLabeler');\n",
    "\n",
    "var startX, startY;\n",
    "var count = 0;\n",
    "var rect = null;\n",
    "var rectsList = [];\n",
    "var model;\n",
    "var myThis;\n",
    "\n",
    "function getMousePos(evt) {\n",
    "    // Obtenemos posición absoluta del elemento svg\n",
    "    var svgRef = document.getElementById(\"svg\");\n",
    "    var htmlPos = svgRef.getBoundingClientRect();\n",
    "    return {\n",
    "        x: evt.clientX - htmlPos.left,\n",
    "        y: evt.clientY - htmlPos.top\n",
    "    };\n",
    "}\n",
    "\n",
    "function updateRect(eve, rect){\n",
    "    var pos = getMousePos(eve);\n",
    "    var endX = pos.x;\n",
    "    var endY = pos.y;\n",
    "    if (endX - startX > 0){\n",
    "        var x = startX\n",
    "    }else{\n",
    "        var x = endX;\n",
    "    }\n",
    "\n",
    "    if (endY - startY > 0){\n",
    "        var y = startY\n",
    "    }else{\n",
    "        var y = endY;\n",
    "    }\n",
    "    var width = Math.abs(endX - startX);\n",
    "    var height = Math.abs(endY - startY);\n",
    "    \n",
    "    rect.setAttributeNS(null, 'x', x);\n",
    "    rect.setAttributeNS(null, 'y', y);\n",
    "    rect.setAttributeNS(null, 'height', height);\n",
    "    rect.setAttributeNS(null, 'width', width);\n",
    "}\n",
    "\n",
    "function setStyleRect(rect){\n",
    "    rect.setAttributeNS(null, 'fill', 'transparent');\n",
    "    rect.setAttributeNS(null, 'stroke', 'green');\n",
    "    rect.setAttributeNS(null, 'linewidth', '10px');\n",
    "}\n",
    "\n",
    "function mouseMove(eve) {\n",
    "    if(rect){\n",
    "        updateRect(eve, rect);\n",
    "      }\n",
    "}\n",
    "\n",
    "function mouseClick(eve) {\n",
    "    if (rect !== null) {\n",
    "        //Cada vez que finalizamos el rectangulo\n",
    "        // , le añadimos a la lista\n",
    "        //console.log(rect.x['baseVal'].value,rect.y['baseVal'].value,rect.width['baseVal'].value,rect.height['baseVal'].value);\n",
    "        rectsList = [];\n",
    "        model.set('rect',[rect.y['baseVal'].value, rect.x['baseVal'].value, rect.height['baseVal'].value, rect.width['baseVal'].value]);\n",
    "        var svg = document.getElementById('svg');\n",
    "        var x= rect.x['baseVal'].value;\n",
    "        var y= rect.y['baseVal'].value;\n",
    "        \n",
    "        var text = model.get('text');\n",
    "        // Añadimos la etiqueta de texto que deseemos al rectangulo\n",
    "        svg.innerHTML += \"<text class='text' id='\" + (count-1) + \"txt\" +\"' x='\"+ x +\"' y='\"+ y +\"' font-family='Verdana' font-size='14px'>\"+ text +\"</text>\"\n",
    "        \n",
    "        var close = document.createElementNS(\"http://www.w3.org/2000/svg\", \"text\");\n",
    "        close.setAttribute(\"id\",\"closeParent\"+(count-1));\n",
    "        close.setAttribute(\"class\",\"close\");\n",
    "        close.setAttribute(\"x\",x);\n",
    "        close.setAttribute(\"y\",y+14);\n",
    "        close.setAttribute(\"font-family\",\"Verdana\");\n",
    "        close.setAttribute(\"font-size\",\"15px\");\n",
    "        \n",
    "        close.innerHTML += \"<tspan id='close\" + (count-1) + \"' >x</tspan>\";\n",
    "        svg.appendChild(close);\n",
    "        \n",
    "        myThis.touch();\n",
    "        \n",
    "        rect = null;\n",
    "        //console.log(\"finsihed.\");     \n",
    "    } else {\n",
    "        var text = $(event.target);\n",
    "        if (text.html() != \"x\"){\n",
    "            var pos = getMousePos(eve);\n",
    "\n",
    "            startX= pos.x;\n",
    "            startY = pos.y;\n",
    "\n",
    "            //console.log(\"begun.\");\n",
    "        \n",
    "            if(!rect){\n",
    "                rect = document.createElementNS(\"http://www.w3.org/2000/svg\", 'rect');\n",
    "                rect.id = 'rect' + count;\n",
    "                rect.setAttribute('class', 'rect');\n",
    "                \n",
    "                count = count + 1;\n",
    "\n",
    "                updateRect(eve, rect);\n",
    "\n",
    "                setStyleRect(rect);\n",
    "                document.getElementById('svg').appendChild(rect);\n",
    "            }\n",
    "        }else{\n",
    "            var closeId = text.attr(\"id\");\n",
    "            //console.log(closeId);\n",
    "            var id = closeId[closeId.length - 1];\n",
    "            var closeParentId = \"closeParent\" + id;\n",
    "            var rectId = \"rect\" + id;\n",
    "            var textId = id + \"txt\";\n",
    "            \n",
    "            //Obtenemos coordenadas del rectangulo\n",
    "            var removed_rect = document.getElementById(rectId);\n",
    "            \n",
    "            //console.log('Eliminamos rect.')\n",
    "            // Transmitimos al kernel, python, el\n",
    "            // rectangulo a eliminar\n",
    "            model.set('removed_rect',[removed_rect.y['baseVal'].value, removed_rect.x['baseVal'].value, removed_rect.height['baseVal'].value, removed_rect.width['baseVal'].value]);\n",
    "            myThis.touch();\n",
    "            // Eliminamos todo lo relativo al rectangulo\n",
    "            document.getElementById(closeParentId).remove();\n",
    "            document.getElementById(rectId).remove();\n",
    "            document.getElementById(textId).remove();\n",
    "        }\n",
    "    }\n",
    "}\n",
    "\n",
    "// Funciones para la carga y cambio de imagen\n",
    "function loadImage(svg, src){\n",
    "    $( \".rect\" ).remove();\n",
    "    $( \".text\" ).remove();\n",
    "    $( \".close\" ).remove();\n",
    "    svg.innerHTML = '<image id=\"image\" xlink:href=\"'+ src +'\" x=\"0\" y=\"0\" height=\"500px\" width=\"700px\"/>'\n",
    "}\n",
    "\n",
    "function changeImage(svg, el, image){\n",
    "    //console.log(\"Cambio de imagen\");\n",
    "    //console.log(image);\n",
    "    $( \".rect\" ).remove();\n",
    "    $( \".text\" ).remove();\n",
    "    $( \".close\" ).remove();\n",
    "    svg.innerHTML = '<image id=\"image\" xlink:href=\"' + image + '\" x=\"0\" y=\"0\" height=\"500px\" width=\"700px\"/>';\n",
    "    \n",
    "    el = svg;\n",
    "}\n",
    "\n",
    "\n",
    "// Definición del Widget en javasript\n",
    "define('ImageLabeler', [\"jupyter-js-widgets\"], function(widgets) {\n",
    "    var svg;\n",
    "    var ImageLabelerView = widgets.DOMWidgetView.extend({\n",
    "        // Renderizar vista\n",
    "        render: function() {\n",
    "            model = this.model;\n",
    "            myThis = this;\n",
    "            // Creamos el SVG\n",
    "            svg = document.createElementNS(\"http://www.w3.org/2000/svg\", \"svg\");\n",
    "            svg.id = 'svg';\n",
    "            svg.setAttribute('height', '500px');\n",
    "            svg.setAttribute('width', '700px');\n",
    "            \n",
    "            // Asignamos listeners al SVG\n",
    "            svg.addEventListener(\"click\", mouseClick, false);\n",
    "            svg.addEventListener(\"mousemove\", mouseMove, false);\n",
    "            \n",
    "            // Imágen\n",
    "            var src = \"../rsc/img/family.jpg\";\n",
    "            loadImage(svg, src);\n",
    "            // Listener para cambios de imagen\n",
    "            this.image_changed();\n",
    "            this.model.on('change:image', this.image_changed, this);\n",
    "            \n",
    "            // Listener para dibujar rectangulos dados\n",
    "            // desde Python\n",
    "            this.model.on('change:rect_to_add', this.add_rect, this);\n",
    "            \n",
    "            // Listener para intento de cambio de imagen erroneo\n",
    "            this.model.on('change:error_loading', this.error_loading_image, this);\n",
    "            \n",
    "            // Listener para notificar guardado de las imágenes\n",
    "            this.model.on('change:saved_successfuly', this.success_saving_labels, this);\n",
    "            \n",
    "            // Asignamos a la vista el elemento SVG\n",
    "            this.el = svg;\n",
    "        },\n",
    "        // Función que se lanza con el cambio de imagen\n",
    "        image_changed: function() {\n",
    "            var image = this.model.get('image');\n",
    "            changeImage(svg, this.el, image);\n",
    "            console.log(image)\n",
    "            var image_name = image.split(/[/]+/);\n",
    "            image_name = image_name[image_name.length - 1];\n",
    "            \n",
    "            sucess_image_notify(image_name);\n",
    "        },\n",
    "        // Función que se lanza cuando se intenta cargar un\n",
    "        // fichero distinto a una imagen\n",
    "        error_loading_image: function() {\n",
    "            var file_name = this.model.get('error_loading');\n",
    "            var file_name = file_name.split(/[/]+/);\n",
    "            file_name = file_name[file_name.length - 1];\n",
    "            error_image_notify(file_name);\n",
    "        },\n",
    "        // Función que se lanza cuando se guardan\n",
    "        // las etiquetas de la imagen\n",
    "        success_saving_labels: function() {\n",
    "            //console.log('File')\n",
    "            var file_name = this.model.get('image');\n",
    "            var file_name = file_name.split(/[/]+/);\n",
    "            file_name = file_name[file_name.length - 1];\n",
    "            success_saving_labels_notify(file_name);\n",
    "        },        \n",
    "        // Función par dibujar rectangulos\n",
    "        // con coordenadas provistas por Python\n",
    "        add_rect: function() {\n",
    "            \n",
    "            var rect_coords = this.model.get('rect_to_add');\n",
    "            //console.log(\"add rects\", rect_coords);\n",
    "            \n",
    "            var text_for_coords = this.model.get('text_to_add');\n",
    "            //console.log(\"text rects\", text_for_coords[0]);\n",
    "            \n",
    "            for (var i = 0; i < rect_coords.length; i++) { \n",
    "                \n",
    "                var new_rect_coords = rect_coords[i];\n",
    "                \n",
    "                var x = new_rect_coords[1];\n",
    "                var y = new_rect_coords[0];\n",
    "                var height = new_rect_coords[2];\n",
    "                var width = new_rect_coords[3];\n",
    "                //console.log('Add', x,' ', y, ' ',height, ' ', width);\n",
    "\n",
    "                var new_rect = document.createElementNS(\"http://www.w3.org/2000/svg\", 'rect');\n",
    "                new_rect.id = 'rect' + count;\n",
    "                new_rect.setAttribute('class', 'rect');\n",
    "\n",
    "                count = count + 1;\n",
    "\n",
    "                new_rect.setAttributeNS(null, 'x', x);\n",
    "                new_rect.setAttributeNS(null, 'y', y);\n",
    "                new_rect.setAttributeNS(null, 'height', height);\n",
    "                new_rect.setAttributeNS(null, 'width', width);\n",
    "\n",
    "                setStyleRect(new_rect);\n",
    "\n",
    "                document.getElementById('svg').appendChild(new_rect);\n",
    "                \n",
    "                \n",
    "                \n",
    "                var text = text_for_coords[i];\n",
    "                \n",
    "                // Añadimos la etiqueta de texto que deseemos al rectangulo\n",
    "                svg.innerHTML += \"<text class='text' id='\" + (count-1) + \"txt\" +\"' x='\"+ x +\"' y='\"+ y +\"' font-family='Verdana' font-size='14px'>\"+ text +\"</text>\"\n",
    "\n",
    "                var close = document.createElementNS(\"http://www.w3.org/2000/svg\", \"text\");\n",
    "                close.setAttribute(\"id\",\"closeParent\"+(count-1));\n",
    "                close.setAttribute(\"class\",\"close\");\n",
    "                close.setAttribute(\"x\",x);\n",
    "                close.setAttribute(\"y\",y+14);\n",
    "                close.setAttribute(\"font-family\",\"Verdana\");\n",
    "                close.setAttribute(\"font-size\",\"15px\");\n",
    "\n",
    "                close.innerHTML += \"<tspan id='close\" + (count-1) + \"' >x</tspan>\";\n",
    "                svg.appendChild(close);\n",
    "            }\n",
    "            \n",
    "            myThis.touch();\n",
    "        },\n",
    "    });\n",
    "\n",
    "    return {\n",
    "        ImageLabelerView: ImageLabelerView\n",
    "    };\n",
    "});"
   ]
  },
  {
   "cell_type": "code",
   "execution_count": 8,
   "metadata": {
    "collapsed": true,
    "extensions": {
     "jupyter_dashboards": {
      "version": 1,
      "views": {
       "grid_default": {
        "hidden": true
       },
       "report_default": {
        "hidden": true
       }
      }
     }
    }
   },
   "outputs": [],
   "source": [
    "# Inicializamos Widget etiquetador de imágenes\n",
    "image_labeler = ImageLabelerWidget()"
   ]
  },
  {
   "cell_type": "markdown",
   "metadata": {
    "extensions": {
     "jupyter_dashboards": {
      "version": 1,
      "views": {
       "grid_default": {
        "col": 0,
        "height": 4,
        "hidden": true,
        "row": 21,
        "width": 4
       },
       "report_default": {
        "hidden": true
       }
      }
     }
    }
   },
   "source": [
    "# Creamos directorios"
   ]
  },
  {
   "cell_type": "code",
   "execution_count": 9,
   "metadata": {
    "collapsed": true,
    "extensions": {
     "jupyter_dashboards": {
      "version": 1,
      "views": {
       "grid_default": {
        "hidden": true
       },
       "report_default": {
        "hidden": true
       }
      }
     }
    }
   },
   "outputs": [],
   "source": [
    "# Clases para la gestión de directorios\n",
    "import Directory_Manager\n",
    "# Creamos directorios\n",
    "dir_list = ['Rondel','Bulliform',\n",
    "            'Bilobate','Trichomas',\n",
    "            'Saddle', 'Spherical',\n",
    "           'Cyperaceae']\n",
    "\n",
    "dir_manager = Directory_Manager.Directory_Manager(dir_list, current_dir= dir_list[0])"
   ]
  },
  {
   "cell_type": "markdown",
   "metadata": {
    "extensions": {
     "jupyter_dashboards": {
      "version": 1,
      "views": {
       "grid_default": {
        "col": 0,
        "height": 4,
        "hidden": false,
        "row": 22,
        "width": 12
       },
       "report_default": {
        "hidden": true
       }
      }
     }
    }
   },
   "source": [
    "# Añadimos gestión de tipo de fitolito junto a coordenadas de cada rectángulo"
   ]
  },
  {
   "cell_type": "code",
   "execution_count": 10,
   "metadata": {
    "collapsed": true,
    "extensions": {
     "jupyter_dashboards": {
      "version": 1,
      "views": {
       "grid_default": {
        "hidden": true
       },
       "report_default": {
        "hidden": true
       }
      }
     }
    }
   },
   "outputs": [],
   "source": [
    "# Añadimos un diccionario que nos permita \n",
    "# añadir las coordenadas segun el tipo de fitolito\n",
    "# para guardar así la imagenes en el \n",
    "# directorio que corresponda\n",
    "coords_dict = dict()\n",
    "\n",
    "''' Función que indexa las coordenadas al tipo de\n",
    "fitolito que estamos eligiendo, de manera que añadimos\n",
    "al diccionario cada una de las coordenadas que dibujamos\n",
    "correspondiendo a la carpeta en la que sera guardada'''\n",
    "def update_coords_list(coords_list):\n",
    "    \n",
    "    # Coordenadas a añadir\n",
    "    coords_to_add = coords_list[len(coords_list)-1]\n",
    "    \n",
    "    # Leemos el directorio seleccionado actualmente\n",
    "    current_dir_path = dir_manager.get_current_dir_path()\n",
    "    current_dir = dir_manager.get_current_dir()\n",
    "    \n",
    "    # Si existia ya, añadimos coords a la lista\n",
    "    if current_dir_path in coords_dict:\n",
    "        coords_dict[current_dir_path].append(coords_to_add)\n",
    "    # Sino creamos lista y añadimos coords\n",
    "    else:\n",
    "        coords_dict[current_dir_path] = []\n",
    "        coords_dict[current_dir_path].append(coords_to_add)\n",
    "\n",
    "# Patrón observe sobre la lista de coordenadas\n",
    "image_labeler.rectList_bind_to(update_coords_list)"
   ]
  },
  {
   "cell_type": "markdown",
   "metadata": {
    "extensions": {
     "jupyter_dashboards": {
      "version": 1,
      "views": {
       "grid_default": {
        "col": 0,
        "height": 4,
        "hidden": false,
        "row": 26,
        "width": 4
       },
       "report_default": {
        "hidden": true
       }
      }
     }
    }
   },
   "source": [
    "## Gestión en la eliminación de rectángulos"
   ]
  },
  {
   "cell_type": "code",
   "execution_count": 11,
   "metadata": {
    "collapsed": true,
    "extensions": {
     "jupyter_dashboards": {
      "version": 1,
      "views": {
       "grid_default": {
        "hidden": true
       },
       "report_default": {
        "hidden": true
       }
      }
     }
    }
   },
   "outputs": [],
   "source": [
    "''' Función que se encarga de eliminar del diccionario\n",
    "anterior las coordenadas del rectangulo que ha sido\n",
    "eliminado por el usuario'''\n",
    "def remove_coords_list(coords_list):\n",
    "    # Coordenadas a eliminar\n",
    "    # TODO Tener en cuenta transformación a realizar\n",
    "    coords_to_delete = coords_list[len(coords_list)-1]\n",
    "    \n",
    "    # Comprobamos en que clave del \n",
    "    # diccionario se encuentran las \n",
    "    # coordenadas y las eliminamos\n",
    "    for k in coords_dict.keys():\n",
    "        #print(\"To remove\", coords_to_delete)\n",
    "        if coords_to_delete in coords_dict[k]:\n",
    "            coords_dict[k].remove(coords_to_delete)\n",
    "# Patrón observe sobre la lista de coordenadas\n",
    "image_labeler.removed_rect_bind_to(remove_coords_list)"
   ]
  },
  {
   "cell_type": "markdown",
   "metadata": {
    "extensions": {
     "jupyter_dashboards": {
      "version": 1,
      "views": {
       "grid_default": {
        "col": 8,
        "height": 4,
        "hidden": true,
        "row": 17,
        "width": 4
       },
       "report_default": {
        "hidden": true
       }
      }
     }
    }
   },
   "source": [
    "# Añadimos más widgets\n",
    "\n",
    "En esta celda añadimos el *file upload*"
   ]
  },
  {
   "cell_type": "code",
   "execution_count": 12,
   "metadata": {
    "collapsed": true,
    "extensions": {
     "jupyter_dashboards": {
      "version": 1,
      "views": {
       "grid_default": {
        "hidden": true
       },
       "report_default": {
        "hidden": true
       }
      }
     }
    }
   },
   "outputs": [],
   "source": [
    "from IPython.display import display\n",
    "import fileupload\n",
    "import PIL.Image\n",
    "import io as io2\n",
    "from skimage.color import rgb2gray\n",
    "\n",
    "''' Función que se encarga de aplicar las operaciones \n",
    "necesarias para convertir los datos obtenidos del FileUpload\n",
    "en una imagen'''\n",
    "def image_converter(image):\n",
    "        image = io2.BytesIO(image)\n",
    "        image = PIL.Image.open(image)\n",
    "        return np.array(image)"
   ]
  },
  {
   "cell_type": "markdown",
   "metadata": {
    "extensions": {
     "jupyter_dashboards": {
      "version": 1,
      "views": {
       "grid_default": {
        "col": 0,
        "height": 4,
        "hidden": true,
        "row": 17,
        "width": 4
       },
       "report_default": {
        "hidden": true
       }
      }
     }
    }
   },
   "source": [
    "### Inicializamos el resto de Widgets"
   ]
  },
  {
   "cell_type": "code",
   "execution_count": 13,
   "metadata": {
    "collapsed": true,
    "extensions": {
     "jupyter_dashboards": {
      "version": 1,
      "views": {
       "grid_default": {
        "hidden": true
       },
       "report_default": {
        "hidden": true
       }
      }
     }
    }
   },
   "outputs": [],
   "source": [
    "from ipywidgets import HBox, VBox, Label, Layout\n",
    "import re\n",
    "import os.path\n",
    "from time import sleep\n",
    "\n",
    "\n",
    "#Inicializamos Widget de File Upload\n",
    "upload_widget = fileupload.FileUploadWidget()\n",
    "upload_widget.description = '(50% width, 80px height) button'\n",
    "\n",
    "# Creamos el patron para el nombre \n",
    "# de una imagen\n",
    "pattern = re.compile(\"^.*\\.(jpeg|jpg|tif|tiff|png)$\", re.IGNORECASE)\n",
    "\n",
    "# TODO Cuando se cambia de imagen\n",
    "# hay que asegurarse de que las\n",
    "# distintas variables se inicializan\n",
    "# a los valores por defecto\n",
    "\n",
    "# Callback para el cambio de imagen\n",
    "def _cb(change):\n",
    "    # Limpiamos variables\n",
    "    coords_dict.clear()\n",
    "    \n",
    "    change = change['owner']\n",
    "    # Control de que el fichero es una imagen\n",
    "    # y no otro tipo de fichero\n",
    "    if pattern.match(change.filename):\n",
    "        \n",
    "        image = image_converter(change.data)\n",
    "        \n",
    "        image_name = change.filename.split(\".\")[0]\n",
    "        \n",
    "        image_path = dir_manager.get_default_dir() + image_name + \".jpg\" \n",
    "                \n",
    "        # Guardamos imagen\n",
    "        io.imsave(image_path, image, quality=100)\n",
    "        \n",
    "        # Y la cargamos\n",
    "        image = io.imread(image_path)\n",
    "        \n",
    "        # Sincronizamos cambio\n",
    "        image_labeler.image = image_path\n",
    "        \n",
    "        # Comprobar si la imagen había \n",
    "        # sido previamente cargada.\n",
    "        # Si es así, cargamos etiquetas previas\n",
    "        name = change.filename.split(\".\")[0]\n",
    "        \n",
    "        json_path = dir_manager.get_default_dir() +\\\n",
    "        name + '.json'\n",
    "        \n",
    "        if os.path.exists(json_path):\n",
    "            with open(json_path) as jsonfile:\n",
    "                \n",
    "                old_coords_dict = json.load(jsonfile)[name + \".jpg\"]\n",
    "                \n",
    "                image_h, image_w, _ = image.shape\n",
    "                \n",
    "                # Añadir al diccionario actual todas las coordenadas\n",
    "                # existentes para no eliminarlas al volver\n",
    "                # a guardar imagen\n",
    "                coords = []\n",
    "                text_to_add_with_coords = []\n",
    "                for k, _ in old_coords_dict.items():\n",
    "                    \n",
    "                    #Añadimos los rectangulos\n",
    "                    for rect_x, rect_x2, rect_y, rect_y2 in old_coords_dict[k]:\n",
    "                        \n",
    "                        coord = [[rect_x, rect_y, rect_x2 - rect_x, rect_y2 - rect_y]]\n",
    "                        coord = transform_image_coords_to_view_coords(coord, 500, 700, image_h, image_w)[0]\n",
    "                        # Añadimos coordenadas a la variable en ejecucuión que las maneja\n",
    "                        if dir_manager.get_possible_dir(k) in coords_dict:\n",
    "                            coords_dict[dir_manager.get_possible_dir(k)].append(coord)\n",
    "                        else:\n",
    "                            coords_dict[dir_manager.get_possible_dir(k)] = [coord]\n",
    "                        \n",
    "                        image_labeler.text = k\n",
    "                        #print(\"New rect\", coord)\n",
    "                        text_to_add_with_coords.append(k)\n",
    "                        coords.append(coord)\n",
    "                        #image_labeler.rect_to_add = coord\n",
    "                        #sleep(0.05)\n",
    "                \n",
    "                image_labeler.text_to_add = text_to_add_with_coords\n",
    "                image_labeler.rect_to_add = coords\n",
    "                # Reasignamos valor por defecto a texto\n",
    "                image_labeler.text = 'Rondel'\n",
    "                \n",
    "    else:\n",
    "        # Sino, lanzamos error\n",
    "        image_labeler.error_loading = change.filename\n",
    "\n",
    "upload_widget.observe(_cb, names='data')"
   ]
  },
  {
   "cell_type": "code",
   "execution_count": 14,
   "metadata": {
    "collapsed": true,
    "extensions": {
     "jupyter_dashboards": {
      "version": 1,
      "views": {
       "grid_default": {
        "col": 4,
        "height": 4,
        "hidden": true,
        "row": 17,
        "width": 4
       },
       "report_default": {
        "hidden": true
       }
      }
     }
    }
   },
   "outputs": [],
   "source": [
    "# Selector de fitolito\n",
    "\n",
    "btns_selector =widgets.ToggleButtons(\n",
    "    options= dir_list,\n",
    "    #description='Tipo de fitolito',\n",
    "    disabled=False,\n",
    "    # 'success', 'info', 'warning', 'danger' or ''\n",
    "    button_style='',\n",
    "    tooltip='Description',\n",
    "    #icon='check'\n",
    ")\n",
    "\n",
    "'''Función que se encarga de hacer los cambios \n",
    "necesarios al cambiar el fitolito que se etiqueta'''\n",
    "def on_phytolith_change(change):\n",
    "    new_dir = change['new']\n",
    "    dir_manager.change_dir(new_dir)  \n",
    "    image_labeler.text = new_dir\n",
    "\n",
    "# listener del cambio de fitolito\n",
    "btns_selector.observe(on_phytolith_change,names='value')\n",
    "\n",
    "\n",
    "#Asignamos al texto del etiquetador por defecto al primer elemento de los botones\n",
    "image_labeler.text = dir_list[0]"
   ]
  },
  {
   "cell_type": "code",
   "execution_count": 15,
   "metadata": {
    "collapsed": true,
    "extensions": {
     "jupyter_dashboards": {
      "version": 1,
      "views": {
       "grid_default": {
        "hidden": true
       },
       "report_default": {
        "hidden": true
       }
      }
     }
    }
   },
   "outputs": [],
   "source": [
    "import warnings\n",
    "# Añadimos el botón que se encarga de guardar\n",
    "#las imágenes en el directorio correspondiente\n",
    "\n",
    "save_btn = widgets.Button(\n",
    "    description='Guardar imágenes',\n",
    "    disabled=False,\n",
    "    button_style='',\n",
    "    tooltip='Guardar imágenes',\n",
    "    icon='check'\n",
    ")\n",
    "\n",
    "#Ignoramos warnings de calidad de imagen\n",
    "\n",
    "warnings.filterwarnings('ignore')\n",
    "'''Función que se encarga de llamar a la función \n",
    "de guardar las etiquetas como imágenes'''\n",
    "def on_save_btn_click(ch):\n",
    "    #Obtenemos el nombre de la imagen\n",
    "    image_path = image_labeler.image\n",
    "    image_name = os.path.split(image_path)[1]\n",
    "    image_name = image_name.split(\".\")[0]\n",
    "    # Cargamos imágen\n",
    "    image = io.imread(image_path)\n",
    "    \n",
    "    # Eliminamos fichero json e imagen previa si\n",
    "    # había sido previamente etiquetada\n",
    "    json_path = dir_manager.get_default_dir() +\\\n",
    "    image_name + \".json\"\n",
    "    \n",
    "    if os.path.exists(image_path):\n",
    "        #print(image_path)\n",
    "        os.remove(image_path)\n",
    "        \n",
    "    if os.path.exists(json_path):  \n",
    "        #print(json_path)\n",
    "        os.remove(json_path)\n",
    "    \n",
    "    image_name =additional_text() + image_name\n",
    "    image_path = dir_manager.get_default_dir() + image_name + \".jpg\"\n",
    "    \n",
    "    #print(dir_manager.get_default_dir() + image_name)\n",
    "    #Guardamos imagen con fingerprint\n",
    "    io.imsave(image_path, image, quality=100)\n",
    "    \n",
    "    image_h, image_w, _ = image.shape\n",
    "    \n",
    "    coords_dict_copy = dict()\n",
    "    \n",
    "    for path, coords_set in coords_dict.items():\n",
    "        # Transformamos las coordenadas\n",
    "        #print(\"\\t>>k ->\",path, \" :  \", coords_set)\n",
    "        coords_set = transform_view_coords_to_image_coords(coords_set, 500, 700, image_h, image_w)\n",
    "        #print(\"\\t>>Despues de conversión, k ->\",path, \" :  \", coords_set)\n",
    "        # Guardamos la imagenes en sus correspondientes directorios\n",
    "        #save_as_all_formats(coords_set, image, path, image_name)\n",
    "        save_coords_as_images(coords_set, image, path, image_name)\n",
    "        \n",
    "        # Realizamos una copía para la posterior realización \n",
    "        # del fichero json con las claves siendo el tipo de fitolito \n",
    "        # y no el path\n",
    "        key = os.path.split(os.path.split(path)[0])[1]\n",
    "        coords_dict_copy[key] = coords_set\n",
    "    #print(\">JSON to save before\", coords_dict)\n",
    "    #print(\">JSON to save\", coords_dict_copy)\n",
    "    save_coords_as_json(coords_dict_copy, dir_manager.get_default_dir(), image_name)\n",
    "    \n",
    "    # Notificamos al usuario que las etiquetas \n",
    "    #han sido guardadas correctamente\n",
    "    if image_labeler.saved_successfuly == 'false':\n",
    "        image_labeler.saved_successfuly = 'true'\n",
    "    else:\n",
    "        image_labeler.saved_successfuly = 'false'\n",
    "    # Eliminamos los rectangulos que añadimos para\n",
    "    # evitar redundacia de coordenadas\n",
    "    image_labeler.set_rectList([]) \n",
    "    \n",
    "save_btn.on_click(on_save_btn_click)"
   ]
  },
  {
   "cell_type": "markdown",
   "metadata": {
    "extensions": {
     "jupyter_dashboards": {
      "version": 1,
      "views": {
       "grid_default": {
        "col": 0,
        "height": 4,
        "hidden": true,
        "row": 22,
        "width": 4
       },
       "report_default": {
        "hidden": true
       }
      }
     }
    }
   },
   "source": [
    "### Dando formato al Widget"
   ]
  },
  {
   "cell_type": "code",
   "execution_count": 16,
   "metadata": {
    "collapsed": true,
    "extensions": {
     "jupyter_dashboards": {
      "version": 1,
      "views": {
       "grid_default": {
        "hidden": true
       },
       "report_default": {
        "hidden": true
       }
      }
     }
    }
   },
   "outputs": [],
   "source": [
    "# Formato de los widgets\n",
    "right_size_widget = VBox([upload_widget, btns_selector, save_btn])\n",
    "\n",
    "right_size_widget.width = '10%'\n",
    "right_size_widget.margin = '5% 5% 5% 5%'\n",
    "btns_selector.padding = '10%'\n",
    "btns_selector.add_class(\"btns_selector\")\n",
    "upload_widget.padding = '10%'\n",
    "upload_widget.add_class('btn')\n",
    "image_labeler.margin = '5% 10% 0% 0%'\n",
    "upload_widget.margin = '0 0 7% 12%'\n",
    "upload_widget.width = '50'\n",
    "save_btn.margin = '10%'"
   ]
  },
  {
   "cell_type": "markdown",
   "metadata": {
    "extensions": {
     "jupyter_dashboards": {
      "version": 1,
      "views": {
       "grid_default": {
        "col": 4,
        "height": 4,
        "hidden": true,
        "row": 22,
        "width": 4
       },
       "report_default": {
        "hidden": true
       }
      }
     }
    }
   },
   "source": [
    "# Widget"
   ]
  },
  {
   "cell_type": "code",
   "execution_count": 17,
   "metadata": {
    "collapsed": true,
    "extensions": {
     "jupyter_dashboards": {
      "version": 1,
      "views": {
       "grid_default": {
        "col": 1,
        "height": 18,
        "hidden": false,
        "row": 4,
        "width": 10
       },
       "report_default": {
        "hidden": false
       }
      }
     }
    }
   },
   "outputs": [],
   "source": [
    "w = HBox([image_labeler,right_size_widget])\n",
    "w.margin = '5%'\n",
    "w.add_class('widget')\n",
    "w"
   ]
  }
 ],
 "metadata": {
  "anaconda-cloud": {},
  "extensions": {
   "jupyter_dashboards": {
    "activeView": "report_default",
    "version": 1,
    "views": {
     "grid_default": {
      "cellMargin": 10,
      "defaultCellHeight": 20,
      "maxColumns": 12,
      "name": "grid",
      "type": "grid"
     },
     "report_default": {
      "name": "report",
      "type": "report"
     }
    }
   }
  },
  "kernelspec": {
   "display_name": "Python [default]",
   "language": "python",
   "name": "python3"
  },
  "language_info": {
   "codemirror_mode": {
    "name": "ipython",
    "version": 3
   },
   "file_extension": ".py",
   "mimetype": "text/x-python",
   "name": "python",
   "nbconvert_exporter": "python",
   "pygments_lexer": "ipython3",
   "version": "3.5.2"
  },
  "widgets": {
   "state": {
    "51cf63f9524340ac8b8b4a13ef637834": {
     "views": [
      {
       "cell_index": 26
      }
     ]
    }
   },
   "version": "1.2.0"
  }
 },
 "nbformat": 4,
 "nbformat_minor": 2
}
